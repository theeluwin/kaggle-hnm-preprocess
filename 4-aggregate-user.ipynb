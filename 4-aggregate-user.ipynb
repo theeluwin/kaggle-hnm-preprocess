{
 "cells": [
  {
   "cell_type": "markdown",
   "metadata": {},
   "source": [
    "# 1. 데이터 로드"
   ]
  },
  {
   "cell_type": "markdown",
   "metadata": {},
   "source": [
    "### 주요 import 할것들 미리 해두기 (나머지는 그때그때)"
   ]
  },
  {
   "cell_type": "code",
   "execution_count": 1,
   "metadata": {},
   "outputs": [],
   "source": [
    "import os\n",
    "import pickle\n",
    "\n",
    "import numpy as np\n",
    "import pandas as pd\n",
    "import matplotlib.pyplot as plt\n",
    "\n",
    "from datetime import datetime as dt\n",
    "from datetime import timedelta as td"
   ]
  },
  {
   "cell_type": "code",
   "execution_count": 2,
   "metadata": {},
   "outputs": [],
   "source": [
    "import utils"
   ]
  },
  {
   "cell_type": "markdown",
   "metadata": {},
   "source": [
    "### 경로 등 global config 설정"
   ]
  },
  {
   "cell_type": "code",
   "execution_count": 3,
   "metadata": {},
   "outputs": [],
   "source": [
    "RAW_ROOT = 'raw'\n",
    "DATA_ROOT = 'data'"
   ]
  },
  {
   "cell_type": "markdown",
   "metadata": {},
   "source": [
    "### 각종 데이터 불러오기"
   ]
  },
  {
   "cell_type": "code",
   "execution_count": 4,
   "metadata": {},
   "outputs": [
    {
     "name": "stdout",
     "output_type": "stream",
     "text": [
      "CPU times: user 12.9 s, sys: 6.63 s, total: 19.6 s\n",
      "Wall time: 18.4 s\n"
     ]
    }
   ],
   "source": [
    "%%time\n",
    "df_user_raw, df_item_raw, df_log_raw, df_sub_raw = utils.load_raw(RAW_ROOT)"
   ]
  },
  {
   "cell_type": "code",
   "execution_count": 5,
   "metadata": {},
   "outputs": [
    {
     "name": "stdout",
     "output_type": "stream",
     "text": [
      "CPU times: user 11.7 s, sys: 6.93 s, total: 18.6 s\n",
      "Wall time: 16.6 s\n"
     ]
    }
   ],
   "source": [
    "%%time\n",
    "df_user = pd.read_parquet(f'{DATA_ROOT}/df_user_preprocessed.pq')\n",
    "df_item = pd.read_parquet(f'{DATA_ROOT}/df_item_preprocessed.pq')\n",
    "df_log_all = pd.read_parquet(f'{DATA_ROOT}/df_log_preprocessed.pq')"
   ]
  },
  {
   "cell_type": "markdown",
   "metadata": {},
   "source": [
    "### 중요!!! CV, LB 설정\n",
    "\n",
    "즉, 두번 돌려야함"
   ]
  },
  {
   "cell_type": "code",
   "execution_count": 6,
   "metadata": {},
   "outputs": [],
   "source": [
    "DNAME = 'LB'"
   ]
  },
  {
   "cell_type": "code",
   "execution_count": 7,
   "metadata": {
    "scrolled": true
   },
   "outputs": [
    {
     "name": "stdout",
     "output_type": "stream",
     "text": [
      "CPU times: user 8.11 s, sys: 3.76 s, total: 11.9 s\n",
      "Wall time: 11.3 s\n"
     ]
    }
   ],
   "source": [
    "%%time\n",
    "df_log = utils.get_df_log_of(df_log_all, DNAME)\n",
    "df_log = df_log[df_log['target'] != 'test']"
   ]
  },
  {
   "cell_type": "code",
   "execution_count": 8,
   "metadata": {},
   "outputs": [],
   "source": [
    "del df_log_all"
   ]
  },
  {
   "cell_type": "markdown",
   "metadata": {},
   "source": [
    "---"
   ]
  },
  {
   "cell_type": "markdown",
   "metadata": {},
   "source": [
    "# 2. Sales Channel 관련\n",
    "\n",
    "온라인인지 오프라인인지 확률. 기본값은 분포대로."
   ]
  },
  {
   "cell_type": "code",
   "execution_count": 9,
   "metadata": {},
   "outputs": [
    {
     "data": {
      "text/plain": [
       "2    10780517\n",
       "1     4240397\n",
       "Name: sales_channel_id, dtype: int64"
      ]
     },
     "execution_count": 9,
     "metadata": {},
     "output_type": "execute_result"
    }
   ],
   "source": [
    "df_channel_count = df_log['sales_channel_id'].value_counts()\n",
    "df_channel_count"
   ]
  },
  {
   "cell_type": "code",
   "execution_count": 10,
   "metadata": {},
   "outputs": [
    {
     "data": {
      "text/plain": [
       "0.7177004674948542"
      ]
     },
     "execution_count": 10,
     "metadata": {},
     "output_type": "execute_result"
    }
   ],
   "source": [
    "global_online_prob = df_channel_count.loc[2] / (df_channel_count.loc[2] + df_channel_count.loc[1])\n",
    "global_online_prob"
   ]
  },
  {
   "cell_type": "markdown",
   "metadata": {},
   "source": [
    "우선 count에 대한 aggregate 부터"
   ]
  },
  {
   "cell_type": "code",
   "execution_count": 11,
   "metadata": {},
   "outputs": [
    {
     "name": "stdout",
     "output_type": "stream",
     "text": [
      "CPU times: user 6.92 s, sys: 850 ms, total: 7.77 s\n",
      "Wall time: 7.68 s\n"
     ]
    }
   ],
   "source": [
    "%%time\n",
    "ss_sc_online_count = df_log[df_log['sales_channel_id'] == 2].groupby('customer_id').size()\n",
    "ss_sc_offline_count = df_log[df_log['sales_channel_id'] == 1].groupby('customer_id').size()"
   ]
  },
  {
   "cell_type": "markdown",
   "metadata": {},
   "source": [
    "둘 다 0이라서 NaN 뜨면 그때 글로벌 기본값 사용"
   ]
  },
  {
   "cell_type": "code",
   "execution_count": 12,
   "metadata": {},
   "outputs": [],
   "source": [
    "df_user['online_prob'] = ss_sc_online_count / (ss_sc_online_count + ss_sc_offline_count)"
   ]
  },
  {
   "cell_type": "code",
   "execution_count": 13,
   "metadata": {},
   "outputs": [],
   "source": [
    "del ss_sc_online_count\n",
    "del ss_sc_offline_count"
   ]
  },
  {
   "cell_type": "code",
   "execution_count": 14,
   "metadata": {
    "scrolled": true
   },
   "outputs": [
    {
     "data": {
      "text/plain": [
       "<AxesSubplot:ylabel='Frequency'>"
      ]
     },
     "execution_count": 14,
     "metadata": {},
     "output_type": "execute_result"
    },
    {
     "data": {
      "image/png": "[encoded data removed]",
      "text/plain": [
       "<Figure size 432x288 with 1 Axes>"
      ]
     },
     "metadata": {
      "needs_background": "light"
     },
     "output_type": "display_data"
    }
   ],
   "source": [
    "df_user[~df_user['online_prob'].isna()]['online_prob'].plot.hist(bins=20)"
   ]
  },
  {
   "cell_type": "code",
   "execution_count": 15,
   "metadata": {},
   "outputs": [],
   "source": [
    "df_user['online_prob'].fillna(global_online_prob, inplace=True)"
   ]
  },
  {
   "cell_type": "markdown",
   "metadata": {},
   "source": [
    "---"
   ]
  },
  {
   "cell_type": "markdown",
   "metadata": {},
   "source": [
    "# 3. Cohort 관련\n",
    "\n",
    "이름 붙이기가 애매하네. 원래는 index임.\n",
    "\n",
    "출처: https://www.kaggle.com/code/junjitakeshima/h-m-easy-grouping-by-sex-attribute-age-en-jp"
   ]
  },
  {
   "cell_type": "code",
   "execution_count": 16,
   "metadata": {},
   "outputs": [],
   "source": [
    "df_item_with_cohort_group = df_item.copy()"
   ]
  },
  {
   "cell_type": "code",
   "execution_count": 17,
   "metadata": {},
   "outputs": [
    {
     "data": {
      "text/plain": [
       "array(['A', 'B', 'G', 'F', 'C', 'S', 'H', 'D', 'I', 'J'], dtype=object)"
      ]
     },
     "execution_count": 17,
     "metadata": {},
     "output_type": "execute_result"
    }
   ],
   "source": [
    "df_item_with_cohort_group['index_code'].unique()"
   ]
  },
  {
   "cell_type": "code",
   "execution_count": 18,
   "metadata": {},
   "outputs": [],
   "source": [
    "df_item_with_cohort_group['cohort_group'] = df_item_with_cohort_group['index_code'].copy()"
   ]
  },
  {
   "cell_type": "markdown",
   "metadata": {},
   "source": [
    "로그에 left join"
   ]
  },
  {
   "cell_type": "code",
   "execution_count": 19,
   "metadata": {},
   "outputs": [
    {
     "name": "stdout",
     "output_type": "stream",
     "text": [
      "CPU times: user 4.19 s, sys: 835 ms, total: 5.03 s\n",
      "Wall time: 5.02 s\n"
     ]
    }
   ],
   "source": [
    "%%time\n",
    "df_log_with_cohort_group = df_log.merge(df_item_with_cohort_group['cohort_group'], how='left', left_on='article_id', right_index=True)"
   ]
  },
  {
   "cell_type": "code",
   "execution_count": 20,
   "metadata": {},
   "outputs": [],
   "source": [
    "del df_item_with_cohort_group"
   ]
  },
  {
   "cell_type": "markdown",
   "metadata": {},
   "source": [
    "로그 기준 글로벌 분포 재두기 (fillna용)"
   ]
  },
  {
   "cell_type": "code",
   "execution_count": 21,
   "metadata": {},
   "outputs": [
    {
     "data": {
      "text/plain": [
       "<AxesSubplot:ylabel='cohort_group'>"
      ]
     },
     "execution_count": 21,
     "metadata": {},
     "output_type": "execute_result"
    },
    {
     "data": {
      "image/png": "[encoded data removed]",
      "text/plain": [
       "<Figure size 432x288 with 1 Axes>"
      ]
     },
     "metadata": {},
     "output_type": "display_data"
    }
   ],
   "source": [
    "df_cohort_count = df_log_with_cohort_group['cohort_group'].value_counts()\n",
    "df_cohort_count.plot(kind='pie', autopct='%1.1f%%')"
   ]
  },
  {
   "cell_type": "code",
   "execution_count": 22,
   "metadata": {
    "scrolled": true
   },
   "outputs": [
    {
     "data": {
      "text/plain": [
       "A    6284751\n",
       "D    3327764\n",
       "B    2743637\n",
       "F     854680\n",
       "C     851103\n",
       "S     635386\n",
       "I     123211\n",
       "G      93039\n",
       "H      79063\n",
       "J      28280\n",
       "Name: cohort_group, dtype: int64"
      ]
     },
     "execution_count": 22,
     "metadata": {},
     "output_type": "execute_result"
    }
   ],
   "source": [
    "df_cohort_count"
   ]
  },
  {
   "cell_type": "code",
   "execution_count": 23,
   "metadata": {},
   "outputs": [
    {
     "data": {
      "text/plain": [
       "A    0.418400\n",
       "D    0.221542\n",
       "B    0.182654\n",
       "F    0.056899\n",
       "C    0.056661\n",
       "S    0.042300\n",
       "I    0.008203\n",
       "G    0.006194\n",
       "H    0.005264\n",
       "J    0.001883\n",
       "Name: cohort_group, dtype: float64"
      ]
     },
     "execution_count": 23,
     "metadata": {},
     "output_type": "execute_result"
    }
   ],
   "source": [
    "df_cohort_dist = df_cohort_count.copy()\n",
    "df_cohort_dist = df_cohort_dist / df_cohort_dist.sum()\n",
    "df_cohort_dist"
   ]
  },
  {
   "cell_type": "markdown",
   "metadata": {},
   "source": [
    "유저쪽으로 aggregate.\n",
    "\n",
    "NaN은 확실히 0개라는뜻."
   ]
  },
  {
   "cell_type": "code",
   "execution_count": 24,
   "metadata": {},
   "outputs": [],
   "source": [
    "cohort_group_columns = ['A', 'B', 'C', 'D', 'F', 'G', 'H', 'I', 'J', 'S']"
   ]
  },
  {
   "cell_type": "code",
   "execution_count": 25,
   "metadata": {},
   "outputs": [
    {
     "name": "stdout",
     "output_type": "stream",
     "text": [
      "CPU times: user 10.7 s, sys: 2.18 s, total: 12.8 s\n",
      "Wall time: 12.8 s\n"
     ]
    }
   ],
   "source": [
    "%%time\n",
    "df_user_of_cohort_group_counts = df_log_with_cohort_group[['customer_id', 'article_id', 'cohort_group']].groupby(['customer_id', 'cohort_group']).count().unstack()\n",
    "df_user_of_cohort_group_counts.fillna(0, inplace=True)\n",
    "df_user_of_cohort_group_counts.columns = cohort_group_columns"
   ]
  },
  {
   "cell_type": "code",
   "execution_count": 26,
   "metadata": {},
   "outputs": [],
   "source": [
    "del df_log_with_cohort_group"
   ]
  },
  {
   "cell_type": "markdown",
   "metadata": {},
   "source": [
    "비율로 저장해서 붙이기"
   ]
  },
  {
   "cell_type": "code",
   "execution_count": 27,
   "metadata": {},
   "outputs": [],
   "source": [
    "df_user_of_cohort_group_dist = df_user_of_cohort_group_counts.div(df_user_of_cohort_group_counts.sum(1), axis='index')\n",
    "df_user_of_cohort_group_dist.columns = [f'cohort_prob_{code}' for code in cohort_group_columns]\n",
    "df_user = df_user.merge(df_user_of_cohort_group_dist, how='left', left_index=True, right_index=True)"
   ]
  },
  {
   "cell_type": "code",
   "execution_count": 28,
   "metadata": {},
   "outputs": [],
   "source": [
    "del df_user_of_cohort_group_dist\n",
    "del df_user_of_cohort_group_counts"
   ]
  },
  {
   "cell_type": "markdown",
   "metadata": {},
   "source": [
    "나누기 하느라 발생한 NaN들은 위에서 얻은 디폴트 분포값으로 채우기"
   ]
  },
  {
   "cell_type": "code",
   "execution_count": 29,
   "metadata": {},
   "outputs": [],
   "source": [
    "for code in cohort_group_columns:\n",
    "    df_user[f'cohort_prob_{code}'].fillna(df_cohort_dist.loc[code], inplace=True)"
   ]
  },
  {
   "cell_type": "code",
   "execution_count": 30,
   "metadata": {},
   "outputs": [
    {
     "data": {
      "text/plain": [
       "FN                        0\n",
       "Active                    0\n",
       "club_member_status        0\n",
       "fashion_news_frequency    0\n",
       "age                       0\n",
       "age_gmm_1                 0\n",
       "age_gmm_2                 0\n",
       "online_prob               0\n",
       "cohort_prob_A             0\n",
       "cohort_prob_B             0\n",
       "cohort_prob_C             0\n",
       "cohort_prob_D             0\n",
       "cohort_prob_F             0\n",
       "cohort_prob_G             0\n",
       "cohort_prob_H             0\n",
       "cohort_prob_I             0\n",
       "cohort_prob_J             0\n",
       "cohort_prob_S             0\n",
       "dtype: int64"
      ]
     },
     "execution_count": 30,
     "metadata": {},
     "output_type": "execute_result"
    }
   ],
   "source": [
    "df_user.isna().sum()"
   ]
  },
  {
   "cell_type": "markdown",
   "metadata": {},
   "source": [
    "---"
   ]
  },
  {
   "cell_type": "markdown",
   "metadata": {},
   "source": [
    "# 4. Garment 관련\n",
    "\n",
    "이것도 원래는 garment group\n",
    "\n",
    "cohort와 완전 동일하게 진행, 단 unknown인 -1은 제외."
   ]
  },
  {
   "cell_type": "code",
   "execution_count": 31,
   "metadata": {},
   "outputs": [],
   "source": [
    "df_item_with_garment_group = df_item.copy()"
   ]
  },
  {
   "cell_type": "code",
   "execution_count": 32,
   "metadata": {
    "scrolled": true
   },
   "outputs": [
    {
     "data": {
      "text/plain": [
       "array([1002, 1017, 1021, 1005, 1019, 1016, 1007, 1020, 1018, 1003, 1011,\n",
       "       1009, 1008, 1025, 1013, 1012, 1023, 1010,   -1, 1006, 1014])"
      ]
     },
     "execution_count": 32,
     "metadata": {},
     "output_type": "execute_result"
    }
   ],
   "source": [
    "df_item_with_garment_group['garment_group_no'].unique()"
   ]
  },
  {
   "cell_type": "code",
   "execution_count": 33,
   "metadata": {},
   "outputs": [],
   "source": [
    "df_item_with_garment_group['garment_group'] = df_item_with_garment_group['garment_group_no'].copy()\n",
    "df_item_with_garment_group = df_item_with_garment_group[df_item_with_garment_group['garment_group'] != -1]"
   ]
  },
  {
   "cell_type": "markdown",
   "metadata": {},
   "source": [
    "로그에 left join"
   ]
  },
  {
   "cell_type": "code",
   "execution_count": 34,
   "metadata": {},
   "outputs": [
    {
     "name": "stdout",
     "output_type": "stream",
     "text": [
      "CPU times: user 17.2 s, sys: 2.2 s, total: 19.4 s\n",
      "Wall time: 19.3 s\n"
     ]
    }
   ],
   "source": [
    "%%time\n",
    "df_log_with_garment_group = df_log.merge(df_item_with_garment_group['garment_group'], how='inner', left_on='article_id', right_index=True)\n",
    "df_log_with_garment_group = df_log_with_garment_group.astype({\n",
    "    'garment_group': int,\n",
    "})"
   ]
  },
  {
   "cell_type": "code",
   "execution_count": 35,
   "metadata": {},
   "outputs": [],
   "source": [
    "del df_item_with_garment_group"
   ]
  },
  {
   "cell_type": "markdown",
   "metadata": {},
   "source": [
    "로그 기준 글로벌 분포 재두기 (fillna용)"
   ]
  },
  {
   "cell_type": "code",
   "execution_count": 36,
   "metadata": {},
   "outputs": [
    {
     "data": {
      "text/plain": [
       "<AxesSubplot:ylabel='garment_group'>"
      ]
     },
     "execution_count": 36,
     "metadata": {},
     "output_type": "execute_result"
    },
    {
     "data": {
      "image/png": "[encoded data removed]",
      "text/plain": [
       "<Figure size 432x288 with 1 Axes>"
      ]
     },
     "metadata": {},
     "output_type": "display_data"
    }
   ],
   "source": [
    "df_garment_count = df_log_with_garment_group['garment_group'].value_counts()\n",
    "df_garment_count.plot(kind='pie', autopct='%1.1f%%')"
   ]
  },
  {
   "cell_type": "code",
   "execution_count": 37,
   "metadata": {
    "scrolled": true
   },
   "outputs": [
    {
     "data": {
      "text/plain": [
       "1005    2386009\n",
       "1002    1619527\n",
       "1017    1553633\n",
       "1009    1397844\n",
       "1010    1155637\n",
       "1003    1155521\n",
       "1018    1132859\n",
       "1013    1020026\n",
       "1019     786699\n",
       "1016     575233\n",
       "1021     377816\n",
       "1007     340683\n",
       "1012     325429\n",
       "1020     312160\n",
       "1025     304446\n",
       "1008     220806\n",
       "1023      93226\n",
       "1011      91291\n",
       "1006      20804\n",
       "1014      13770\n",
       "Name: garment_group, dtype: int64"
      ]
     },
     "execution_count": 37,
     "metadata": {},
     "output_type": "execute_result"
    }
   ],
   "source": [
    "df_garment_count"
   ]
  },
  {
   "cell_type": "code",
   "execution_count": 38,
   "metadata": {},
   "outputs": [
    {
     "data": {
      "text/plain": [
       "1005    0.160313\n",
       "1002    0.108814\n",
       "1017    0.104387\n",
       "1009    0.093920\n",
       "1010    0.077646\n",
       "1003    0.077638\n",
       "1018    0.076116\n",
       "1013    0.068534\n",
       "1019    0.052857\n",
       "1016    0.038649\n",
       "1021    0.025385\n",
       "1007    0.022890\n",
       "1012    0.021865\n",
       "1020    0.020974\n",
       "1025    0.020455\n",
       "1008    0.014836\n",
       "1023    0.006264\n",
       "1011    0.006134\n",
       "1006    0.001398\n",
       "1014    0.000925\n",
       "Name: garment_group, dtype: float64"
      ]
     },
     "execution_count": 38,
     "metadata": {},
     "output_type": "execute_result"
    }
   ],
   "source": [
    "df_garment_dist = df_garment_count.copy()\n",
    "df_garment_dist = df_garment_dist / df_garment_dist.sum()\n",
    "df_garment_dist"
   ]
  },
  {
   "cell_type": "markdown",
   "metadata": {},
   "source": [
    "유저쪽으로 aggregate.\n",
    "\n",
    "NaN은 확실히 0개라는뜻."
   ]
  },
  {
   "cell_type": "code",
   "execution_count": 39,
   "metadata": {},
   "outputs": [
    {
     "name": "stdout",
     "output_type": "stream",
     "text": [
      "CPU times: user 15.4 s, sys: 2.16 s, total: 17.5 s\n",
      "Wall time: 17.5 s\n"
     ]
    }
   ],
   "source": [
    "%%time\n",
    "df_user_of_garment_group_counts = df_log_with_garment_group[['customer_id', 'article_id', 'garment_group']].groupby(['customer_id', 'garment_group']).count().unstack()\n",
    "df_user_of_garment_group_counts.fillna(0, inplace=True)\n",
    "df_user_of_garment_group_counts.columns = [f'garment_prob_{garment_group}' for _, garment_group in df_user_of_garment_group_counts.columns.to_list()]"
   ]
  },
  {
   "cell_type": "code",
   "execution_count": 40,
   "metadata": {},
   "outputs": [],
   "source": [
    "del df_log_with_garment_group"
   ]
  },
  {
   "cell_type": "markdown",
   "metadata": {},
   "source": [
    "비율로 저장해서 붙이기"
   ]
  },
  {
   "cell_type": "code",
   "execution_count": 41,
   "metadata": {},
   "outputs": [],
   "source": [
    "df_user_of_garment_group_dist = df_user_of_garment_group_counts.div(df_user_of_garment_group_counts.sum(1), axis='index')\n",
    "df_user = df_user.merge(df_user_of_garment_group_dist, how='left', left_index=True, right_index=True)"
   ]
  },
  {
   "cell_type": "code",
   "execution_count": 42,
   "metadata": {},
   "outputs": [],
   "source": [
    "del df_user_of_garment_group_dist\n",
    "del df_user_of_garment_group_counts"
   ]
  },
  {
   "cell_type": "markdown",
   "metadata": {},
   "source": [
    "나누기 하느라 발생한 NaN들은 위에서 얻은 디폴트 분포값으로 채우기"
   ]
  },
  {
   "cell_type": "code",
   "execution_count": 43,
   "metadata": {},
   "outputs": [],
   "source": [
    "for index in df_garment_dist.index.to_list():\n",
    "    df_user[f'garment_prob_{index}'].fillna(df_garment_dist.loc[index], inplace=True)"
   ]
  },
  {
   "cell_type": "code",
   "execution_count": 44,
   "metadata": {},
   "outputs": [
    {
     "data": {
      "text/plain": [
       "FN                        0\n",
       "Active                    0\n",
       "club_member_status        0\n",
       "fashion_news_frequency    0\n",
       "age                       0\n",
       "age_gmm_1                 0\n",
       "age_gmm_2                 0\n",
       "online_prob               0\n",
       "cohort_prob_A             0\n",
       "cohort_prob_B             0\n",
       "cohort_prob_C             0\n",
       "cohort_prob_D             0\n",
       "cohort_prob_F             0\n",
       "cohort_prob_G             0\n",
       "cohort_prob_H             0\n",
       "cohort_prob_I             0\n",
       "cohort_prob_J             0\n",
       "cohort_prob_S             0\n",
       "garment_prob_1002         0\n",
       "garment_prob_1003         0\n",
       "garment_prob_1005         0\n",
       "garment_prob_1006         0\n",
       "garment_prob_1007         0\n",
       "garment_prob_1008         0\n",
       "garment_prob_1009         0\n",
       "garment_prob_1010         0\n",
       "garment_prob_1011         0\n",
       "garment_prob_1012         0\n",
       "garment_prob_1013         0\n",
       "garment_prob_1014         0\n",
       "garment_prob_1016         0\n",
       "garment_prob_1017         0\n",
       "garment_prob_1018         0\n",
       "garment_prob_1019         0\n",
       "garment_prob_1020         0\n",
       "garment_prob_1021         0\n",
       "garment_prob_1023         0\n",
       "garment_prob_1025         0\n",
       "dtype: int64"
      ]
     },
     "execution_count": 44,
     "metadata": {},
     "output_type": "execute_result"
    }
   ],
   "source": [
    "df_user.isna().sum()"
   ]
  },
  {
   "cell_type": "markdown",
   "metadata": {},
   "source": [
    "---"
   ]
  },
  {
   "cell_type": "markdown",
   "metadata": {},
   "source": [
    "# 5. Price 관련"
   ]
  },
  {
   "cell_type": "markdown",
   "metadata": {},
   "source": [
    "우선 분포부터 확인"
   ]
  },
  {
   "cell_type": "code",
   "execution_count": 45,
   "metadata": {},
   "outputs": [
    {
     "name": "stdout",
     "output_type": "stream",
     "text": [
      "CPU times: user 1.52 s, sys: 403 ms, total: 1.93 s\n",
      "Wall time: 1.92 s\n"
     ]
    },
    {
     "data": {
      "text/plain": [
       "<AxesSubplot:ylabel='Frequency'>"
      ]
     },
     "execution_count": 45,
     "metadata": {},
     "output_type": "execute_result"
    },
    {
     "data": {
      "image/png": "[encoded data removed]",
      "text/plain": [
       "<Figure size 432x288 with 1 Axes>"
      ]
     },
     "metadata": {
      "needs_background": "light"
     },
     "output_type": "display_data"
    }
   ],
   "source": [
    "%%time\n",
    "df_log['price'].plot.hist(bins=20)"
   ]
  },
  {
   "cell_type": "markdown",
   "metadata": {},
   "source": [
    "유저별 평균 가격"
   ]
  },
  {
   "cell_type": "code",
   "execution_count": 46,
   "metadata": {},
   "outputs": [
    {
     "name": "stdout",
     "output_type": "stream",
     "text": [
      "CPU times: user 5.02 s, sys: 157 ms, total: 5.18 s\n",
      "Wall time: 5.17 s\n"
     ]
    }
   ],
   "source": [
    "%%time\n",
    "df_user_of_avg_price = df_log.groupby('customer_id')['price'].mean('price')\n",
    "df_user_of_avg_price.name = 'avg_price'"
   ]
  },
  {
   "cell_type": "markdown",
   "metadata": {},
   "source": [
    "글로벌 평균 가격 (fillna용)"
   ]
  },
  {
   "cell_type": "code",
   "execution_count": 47,
   "metadata": {},
   "outputs": [
    {
     "data": {
      "text/plain": [
       "0.028251888996179735"
      ]
     },
     "execution_count": 47,
     "metadata": {},
     "output_type": "execute_result"
    }
   ],
   "source": [
    "global_avg_price = df_log['price'].mean()\n",
    "global_avg_price"
   ]
  },
  {
   "cell_type": "code",
   "execution_count": 48,
   "metadata": {},
   "outputs": [],
   "source": [
    "df_user = df_user.merge(df_user_of_avg_price, how='left', left_index=True, right_index=True)\n",
    "df_user['avg_price'].fillna(global_avg_price, inplace=True)"
   ]
  },
  {
   "cell_type": "code",
   "execution_count": 49,
   "metadata": {},
   "outputs": [
    {
     "data": {
      "text/plain": [
       "<AxesSubplot:ylabel='Frequency'>"
      ]
     },
     "execution_count": 49,
     "metadata": {},
     "output_type": "execute_result"
    },
    {
     "data": {
      "image/png": "[encoded data removed]",
      "text/plain": [
       "<Figure size 432x288 with 1 Axes>"
      ]
     },
     "metadata": {
      "needs_background": "light"
     },
     "output_type": "display_data"
    }
   ],
   "source": [
    "df_user['avg_price'].plot.hist(bins=20)"
   ]
  },
  {
   "cell_type": "code",
   "execution_count": 50,
   "metadata": {},
   "outputs": [
    {
     "data": {
      "text/plain": [
       "FN                        0\n",
       "Active                    0\n",
       "club_member_status        0\n",
       "fashion_news_frequency    0\n",
       "age                       0\n",
       "age_gmm_1                 0\n",
       "age_gmm_2                 0\n",
       "online_prob               0\n",
       "cohort_prob_A             0\n",
       "cohort_prob_B             0\n",
       "cohort_prob_C             0\n",
       "cohort_prob_D             0\n",
       "cohort_prob_F             0\n",
       "cohort_prob_G             0\n",
       "cohort_prob_H             0\n",
       "cohort_prob_I             0\n",
       "cohort_prob_J             0\n",
       "cohort_prob_S             0\n",
       "garment_prob_1002         0\n",
       "garment_prob_1003         0\n",
       "garment_prob_1005         0\n",
       "garment_prob_1006         0\n",
       "garment_prob_1007         0\n",
       "garment_prob_1008         0\n",
       "garment_prob_1009         0\n",
       "garment_prob_1010         0\n",
       "garment_prob_1011         0\n",
       "garment_prob_1012         0\n",
       "garment_prob_1013         0\n",
       "garment_prob_1014         0\n",
       "garment_prob_1016         0\n",
       "garment_prob_1017         0\n",
       "garment_prob_1018         0\n",
       "garment_prob_1019         0\n",
       "garment_prob_1020         0\n",
       "garment_prob_1021         0\n",
       "garment_prob_1023         0\n",
       "garment_prob_1025         0\n",
       "avg_price                 0\n",
       "dtype: int64"
      ]
     },
     "execution_count": 50,
     "metadata": {},
     "output_type": "execute_result"
    }
   ],
   "source": [
    "df_user.isna().sum()"
   ]
  },
  {
   "cell_type": "markdown",
   "metadata": {},
   "source": [
    "---"
   ]
  },
  {
   "cell_type": "markdown",
   "metadata": {},
   "source": [
    "# 6. Transaction Count 관련"
   ]
  },
  {
   "cell_type": "code",
   "execution_count": 51,
   "metadata": {},
   "outputs": [
    {
     "name": "stdout",
     "output_type": "stream",
     "text": [
      "CPU times: user 4.92 s, sys: 199 ms, total: 5.12 s\n",
      "Wall time: 5.11 s\n"
     ]
    }
   ],
   "source": [
    "%%time\n",
    "ss_transaction_count = df_log.groupby('customer_id').size()\n",
    "ss_transaction_count.name = 'transaction_count'"
   ]
  },
  {
   "cell_type": "code",
   "execution_count": 52,
   "metadata": {},
   "outputs": [],
   "source": [
    "df_user = df_user.merge(ss_transaction_count, how='left', left_index=True, right_index=True)\n",
    "df_user['transaction_count'].fillna(0, inplace=True)"
   ]
  },
  {
   "cell_type": "code",
   "execution_count": 53,
   "metadata": {},
   "outputs": [],
   "source": [
    "del ss_transaction_count"
   ]
  },
  {
   "cell_type": "code",
   "execution_count": 54,
   "metadata": {},
   "outputs": [
    {
     "name": "stdout",
     "output_type": "stream",
     "text": [
      "CPU times: user 234 ms, sys: 417 µs, total: 234 ms\n",
      "Wall time: 234 ms\n"
     ]
    },
    {
     "data": {
      "text/plain": [
       "<AxesSubplot:ylabel='Frequency'>"
      ]
     },
     "execution_count": 54,
     "metadata": {},
     "output_type": "execute_result"
    },
    {
     "data": {
      "image/png": "[encoded data removed]",
      "text/plain": [
       "<Figure size 432x288 with 1 Axes>"
      ]
     },
     "metadata": {
      "needs_background": "light"
     },
     "output_type": "display_data"
    }
   ],
   "source": [
    "%%time\n",
    "df_user['transaction_count'].plot.hist(bins=100)"
   ]
  },
  {
   "cell_type": "code",
   "execution_count": 55,
   "metadata": {},
   "outputs": [
    {
     "name": "stdout",
     "output_type": "stream",
     "text": [
      "total user: 1371980\n",
      "transaction count 50% percentile: 4\n",
      "transaction count 99% percentile: 93\n"
     ]
    }
   ],
   "source": [
    "print(f\"total user: {len(df_user)}\")\n",
    "print(f\"transaction count 50% percentile: {int(np.percentile(df_user['transaction_count'], 50))}\")\n",
    "print(f\"transaction count 99% percentile: {int(np.percentile(df_user['transaction_count'], 99))}\")"
   ]
  },
  {
   "cell_type": "code",
   "execution_count": 56,
   "metadata": {},
   "outputs": [],
   "source": [
    "cold_threshold = int(np.percentile(df_user['transaction_count'], 50))\n",
    "df_user['is_cold'] = 0\n",
    "df_user.loc[df_user['transaction_count'] < cold_threshold, 'is_cold'] = 1"
   ]
  },
  {
   "cell_type": "code",
   "execution_count": 57,
   "metadata": {},
   "outputs": [],
   "source": [
    "df_user['is_new'] = 0\n",
    "df_user.loc[df_user['transaction_count'] < 1, 'is_new'] = 1"
   ]
  },
  {
   "cell_type": "code",
   "execution_count": 58,
   "metadata": {},
   "outputs": [],
   "source": [
    "df_user['log_transaction_count'] = np.log(1 + df_user['transaction_count'])"
   ]
  },
  {
   "cell_type": "code",
   "execution_count": 59,
   "metadata": {},
   "outputs": [
    {
     "data": {
      "text/plain": [
       "FN                        0\n",
       "Active                    0\n",
       "club_member_status        0\n",
       "fashion_news_frequency    0\n",
       "age                       0\n",
       "age_gmm_1                 0\n",
       "age_gmm_2                 0\n",
       "online_prob               0\n",
       "cohort_prob_A             0\n",
       "cohort_prob_B             0\n",
       "cohort_prob_C             0\n",
       "cohort_prob_D             0\n",
       "cohort_prob_F             0\n",
       "cohort_prob_G             0\n",
       "cohort_prob_H             0\n",
       "cohort_prob_I             0\n",
       "cohort_prob_J             0\n",
       "cohort_prob_S             0\n",
       "garment_prob_1002         0\n",
       "garment_prob_1003         0\n",
       "garment_prob_1005         0\n",
       "garment_prob_1006         0\n",
       "garment_prob_1007         0\n",
       "garment_prob_1008         0\n",
       "garment_prob_1009         0\n",
       "garment_prob_1010         0\n",
       "garment_prob_1011         0\n",
       "garment_prob_1012         0\n",
       "garment_prob_1013         0\n",
       "garment_prob_1014         0\n",
       "garment_prob_1016         0\n",
       "garment_prob_1017         0\n",
       "garment_prob_1018         0\n",
       "garment_prob_1019         0\n",
       "garment_prob_1020         0\n",
       "garment_prob_1021         0\n",
       "garment_prob_1023         0\n",
       "garment_prob_1025         0\n",
       "avg_price                 0\n",
       "transaction_count         0\n",
       "is_cold                   0\n",
       "is_new                    0\n",
       "log_transaction_count     0\n",
       "dtype: int64"
      ]
     },
     "execution_count": 59,
     "metadata": {},
     "output_type": "execute_result"
    }
   ],
   "source": [
    "df_user.isna().sum()"
   ]
  },
  {
   "cell_type": "markdown",
   "metadata": {},
   "source": [
    "---"
   ]
  },
  {
   "cell_type": "markdown",
   "metadata": {},
   "source": [
    "# 7. Week 관련"
   ]
  },
  {
   "cell_type": "code",
   "execution_count": 60,
   "metadata": {},
   "outputs": [
    {
     "name": "stdout",
     "output_type": "stream",
     "text": [
      "CPU times: user 5.12 s, sys: 184 ms, total: 5.3 s\n",
      "Wall time: 5.29 s\n"
     ]
    }
   ],
   "source": [
    "%%time\n",
    "df_user_of_week = df_log.groupby('customer_id').aggregate({'week': 'max'})\n",
    "df_user_of_week.columns = ['last_active_week']"
   ]
  },
  {
   "cell_type": "code",
   "execution_count": 61,
   "metadata": {},
   "outputs": [],
   "source": [
    "df_user = df_user.merge(df_user_of_week, how='left', left_index=True, right_index=True)\n",
    "df_user['last_active_week'].fillna(0, inplace=True)\n",
    "df_user = df_user.astype({\n",
    "    'last_active_week': int,\n",
    "})"
   ]
  },
  {
   "cell_type": "code",
   "execution_count": 62,
   "metadata": {},
   "outputs": [
    {
     "name": "stdout",
     "output_type": "stream",
     "text": [
      "CPU times: user 479 ms, sys: 314 ms, total: 793 ms\n",
      "Wall time: 784 ms\n"
     ]
    },
    {
     "data": {
      "text/plain": [
       "<AxesSubplot:ylabel='Frequency'>"
      ]
     },
     "execution_count": 62,
     "metadata": {},
     "output_type": "execute_result"
    },
    {
     "data": {
      "image/png": "[encoded data removed]",
      "text/plain": [
       "<Figure size 432x288 with 1 Axes>"
      ]
     },
     "metadata": {
      "needs_background": "light"
     },
     "output_type": "display_data"
    }
   ],
   "source": [
    "%%time\n",
    "df_user[df_user['last_active_week'] > 0]['last_active_week'].plot.hist(bins=20)"
   ]
  },
  {
   "cell_type": "code",
   "execution_count": 63,
   "metadata": {},
   "outputs": [
    {
     "data": {
      "text/plain": [
       "FN                        0\n",
       "Active                    0\n",
       "club_member_status        0\n",
       "fashion_news_frequency    0\n",
       "age                       0\n",
       "age_gmm_1                 0\n",
       "age_gmm_2                 0\n",
       "online_prob               0\n",
       "cohort_prob_A             0\n",
       "cohort_prob_B             0\n",
       "cohort_prob_C             0\n",
       "cohort_prob_D             0\n",
       "cohort_prob_F             0\n",
       "cohort_prob_G             0\n",
       "cohort_prob_H             0\n",
       "cohort_prob_I             0\n",
       "cohort_prob_J             0\n",
       "cohort_prob_S             0\n",
       "garment_prob_1002         0\n",
       "garment_prob_1003         0\n",
       "garment_prob_1005         0\n",
       "garment_prob_1006         0\n",
       "garment_prob_1007         0\n",
       "garment_prob_1008         0\n",
       "garment_prob_1009         0\n",
       "garment_prob_1010         0\n",
       "garment_prob_1011         0\n",
       "garment_prob_1012         0\n",
       "garment_prob_1013         0\n",
       "garment_prob_1014         0\n",
       "garment_prob_1016         0\n",
       "garment_prob_1017         0\n",
       "garment_prob_1018         0\n",
       "garment_prob_1019         0\n",
       "garment_prob_1020         0\n",
       "garment_prob_1021         0\n",
       "garment_prob_1023         0\n",
       "garment_prob_1025         0\n",
       "avg_price                 0\n",
       "transaction_count         0\n",
       "is_cold                   0\n",
       "is_new                    0\n",
       "log_transaction_count     0\n",
       "last_active_week          0\n",
       "dtype: int64"
      ]
     },
     "execution_count": 63,
     "metadata": {},
     "output_type": "execute_result"
    }
   ],
   "source": [
    "df_user.isna().sum()"
   ]
  },
  {
   "cell_type": "markdown",
   "metadata": {},
   "source": [
    "---"
   ]
  },
  {
   "cell_type": "markdown",
   "metadata": {},
   "source": [
    "# 8. Aggregated 버전 저장"
   ]
  },
  {
   "cell_type": "markdown",
   "metadata": {},
   "source": [
    "최종 데이터 확인"
   ]
  },
  {
   "cell_type": "code",
   "execution_count": 64,
   "metadata": {},
   "outputs": [
    {
     "data": {
      "text/html": [
       "<div>\n",
       "<style scoped>\n",
       "    .dataframe tbody tr th:only-of-type {\n",
       "        vertical-align: middle;\n",
       "    }\n",
       "\n",
       "    .dataframe tbody tr th {\n",
       "        vertical-align: top;\n",
       "    }\n",
       "\n",
       "    .dataframe thead th {\n",
       "        text-align: right;\n",
       "    }\n",
       "</style>\n",
       "<table border=\"1\" class=\"dataframe\">\n",
       "  <thead>\n",
       "    <tr style=\"text-align: right;\">\n",
       "      <th></th>\n",
       "      <th>FN</th>\n",
       "      <th>Active</th>\n",
       "      <th>club_member_status</th>\n",
       "      <th>fashion_news_frequency</th>\n",
       "      <th>age</th>\n",
       "      <th>age_gmm_1</th>\n",
       "      <th>age_gmm_2</th>\n",
       "      <th>online_prob</th>\n",
       "      <th>cohort_prob_A</th>\n",
       "      <th>cohort_prob_B</th>\n",
       "      <th>...</th>\n",
       "      <th>garment_prob_1020</th>\n",
       "      <th>garment_prob_1021</th>\n",
       "      <th>garment_prob_1023</th>\n",
       "      <th>garment_prob_1025</th>\n",
       "      <th>avg_price</th>\n",
       "      <th>transaction_count</th>\n",
       "      <th>is_cold</th>\n",
       "      <th>is_new</th>\n",
       "      <th>log_transaction_count</th>\n",
       "      <th>last_active_week</th>\n",
       "    </tr>\n",
       "    <tr>\n",
       "      <th>customer_id</th>\n",
       "      <th></th>\n",
       "      <th></th>\n",
       "      <th></th>\n",
       "      <th></th>\n",
       "      <th></th>\n",
       "      <th></th>\n",
       "      <th></th>\n",
       "      <th></th>\n",
       "      <th></th>\n",
       "      <th></th>\n",
       "      <th></th>\n",
       "      <th></th>\n",
       "      <th></th>\n",
       "      <th></th>\n",
       "      <th></th>\n",
       "      <th></th>\n",
       "      <th></th>\n",
       "      <th></th>\n",
       "      <th></th>\n",
       "      <th></th>\n",
       "      <th></th>\n",
       "    </tr>\n",
       "  </thead>\n",
       "  <tbody>\n",
       "    <tr>\n",
       "      <th>00000dbacae5abe5e23885899a1fa44253a17956c6d1c3d25f88aa139fdfc657</th>\n",
       "      <td>0</td>\n",
       "      <td>0</td>\n",
       "      <td>1</td>\n",
       "      <td>0</td>\n",
       "      <td>49.0</td>\n",
       "      <td>-0.035845</td>\n",
       "      <td>4.973913</td>\n",
       "      <td>0.666667</td>\n",
       "      <td>0.750000</td>\n",
       "      <td>0.000000</td>\n",
       "      <td>...</td>\n",
       "      <td>0.000000</td>\n",
       "      <td>0.000000</td>\n",
       "      <td>0.000000</td>\n",
       "      <td>0.000000</td>\n",
       "      <td>0.029095</td>\n",
       "      <td>12.0</td>\n",
       "      <td>0</td>\n",
       "      <td>0</td>\n",
       "      <td>2.564949</td>\n",
       "      <td>102</td>\n",
       "    </tr>\n",
       "    <tr>\n",
       "      <th>0000423b00ade91418cceaf3b26c6af3dd342b51fd051eec9c12fb36984420fa</th>\n",
       "      <td>0</td>\n",
       "      <td>0</td>\n",
       "      <td>1</td>\n",
       "      <td>0</td>\n",
       "      <td>25.0</td>\n",
       "      <td>-2.415854</td>\n",
       "      <td>-0.068474</td>\n",
       "      <td>0.942857</td>\n",
       "      <td>0.114286</td>\n",
       "      <td>0.628571</td>\n",
       "      <td>...</td>\n",
       "      <td>0.000000</td>\n",
       "      <td>0.000000</td>\n",
       "      <td>0.000000</td>\n",
       "      <td>0.000000</td>\n",
       "      <td>0.025358</td>\n",
       "      <td>35.0</td>\n",
       "      <td>0</td>\n",
       "      <td>0</td>\n",
       "      <td>3.583519</td>\n",
       "      <td>94</td>\n",
       "    </tr>\n",
       "    <tr>\n",
       "      <th>000058a12d5b43e67d225668fa1f8d618c13dc232df0cad8ffe7ad4a1091e318</th>\n",
       "      <td>0</td>\n",
       "      <td>0</td>\n",
       "      <td>1</td>\n",
       "      <td>0</td>\n",
       "      <td>24.0</td>\n",
       "      <td>-2.515021</td>\n",
       "      <td>-0.278574</td>\n",
       "      <td>0.717700</td>\n",
       "      <td>0.357143</td>\n",
       "      <td>0.214286</td>\n",
       "      <td>...</td>\n",
       "      <td>0.000000</td>\n",
       "      <td>0.000000</td>\n",
       "      <td>0.000000</td>\n",
       "      <td>0.000000</td>\n",
       "      <td>0.039935</td>\n",
       "      <td>14.0</td>\n",
       "      <td>0</td>\n",
       "      <td>0</td>\n",
       "      <td>2.708050</td>\n",
       "      <td>103</td>\n",
       "    </tr>\n",
       "    <tr>\n",
       "      <th>00005ca1c9ed5f5146b52ac8639a40ca9d57aeff4d1bd2c5feb1ca5dff07c43e</th>\n",
       "      <td>0</td>\n",
       "      <td>0</td>\n",
       "      <td>1</td>\n",
       "      <td>0</td>\n",
       "      <td>54.0</td>\n",
       "      <td>0.459991</td>\n",
       "      <td>6.024411</td>\n",
       "      <td>0.717700</td>\n",
       "      <td>0.418400</td>\n",
       "      <td>0.182654</td>\n",
       "      <td>...</td>\n",
       "      <td>0.020974</td>\n",
       "      <td>0.025385</td>\n",
       "      <td>0.006264</td>\n",
       "      <td>0.020455</td>\n",
       "      <td>0.028252</td>\n",
       "      <td>0.0</td>\n",
       "      <td>1</td>\n",
       "      <td>1</td>\n",
       "      <td>0.000000</td>\n",
       "      <td>0</td>\n",
       "    </tr>\n",
       "    <tr>\n",
       "      <th>00006413d8573cd20ed7128e53b7b13819fe5cfc2d801fe7fc0f26dd8d65a85a</th>\n",
       "      <td>1</td>\n",
       "      <td>1</td>\n",
       "      <td>1</td>\n",
       "      <td>1</td>\n",
       "      <td>52.0</td>\n",
       "      <td>0.261657</td>\n",
       "      <td>5.604212</td>\n",
       "      <td>0.717700</td>\n",
       "      <td>0.444444</td>\n",
       "      <td>0.333333</td>\n",
       "      <td>...</td>\n",
       "      <td>0.000000</td>\n",
       "      <td>0.000000</td>\n",
       "      <td>0.000000</td>\n",
       "      <td>0.000000</td>\n",
       "      <td>0.039955</td>\n",
       "      <td>9.0</td>\n",
       "      <td>0</td>\n",
       "      <td>0</td>\n",
       "      <td>2.302585</td>\n",
       "      <td>99</td>\n",
       "    </tr>\n",
       "    <tr>\n",
       "      <th>...</th>\n",
       "      <td>...</td>\n",
       "      <td>...</td>\n",
       "      <td>...</td>\n",
       "      <td>...</td>\n",
       "      <td>...</td>\n",
       "      <td>...</td>\n",
       "      <td>...</td>\n",
       "      <td>...</td>\n",
       "      <td>...</td>\n",
       "      <td>...</td>\n",
       "      <td>...</td>\n",
       "      <td>...</td>\n",
       "      <td>...</td>\n",
       "      <td>...</td>\n",
       "      <td>...</td>\n",
       "      <td>...</td>\n",
       "      <td>...</td>\n",
       "      <td>...</td>\n",
       "      <td>...</td>\n",
       "      <td>...</td>\n",
       "      <td>...</td>\n",
       "    </tr>\n",
       "    <tr>\n",
       "      <th>ffffbbf78b6eaac697a8a5dfbfd2bfa8113ee5b403e4747568cac33e8c541831</th>\n",
       "      <td>0</td>\n",
       "      <td>0</td>\n",
       "      <td>1</td>\n",
       "      <td>0</td>\n",
       "      <td>24.0</td>\n",
       "      <td>-2.515021</td>\n",
       "      <td>-0.278574</td>\n",
       "      <td>0.571429</td>\n",
       "      <td>0.071429</td>\n",
       "      <td>0.642857</td>\n",
       "      <td>...</td>\n",
       "      <td>0.000000</td>\n",
       "      <td>0.035714</td>\n",
       "      <td>0.000000</td>\n",
       "      <td>0.000000</td>\n",
       "      <td>0.022683</td>\n",
       "      <td>28.0</td>\n",
       "      <td>0</td>\n",
       "      <td>0</td>\n",
       "      <td>3.367296</td>\n",
       "      <td>102</td>\n",
       "    </tr>\n",
       "    <tr>\n",
       "      <th>ffffcd5046a6143d29a04fb8c424ce494a76e5cdf4fab53481233731b5c4f8b7</th>\n",
       "      <td>0</td>\n",
       "      <td>0</td>\n",
       "      <td>1</td>\n",
       "      <td>0</td>\n",
       "      <td>21.0</td>\n",
       "      <td>-2.812523</td>\n",
       "      <td>-0.908872</td>\n",
       "      <td>0.750000</td>\n",
       "      <td>0.142857</td>\n",
       "      <td>0.142857</td>\n",
       "      <td>...</td>\n",
       "      <td>0.000000</td>\n",
       "      <td>0.000000</td>\n",
       "      <td>0.000000</td>\n",
       "      <td>0.000000</td>\n",
       "      <td>0.021416</td>\n",
       "      <td>56.0</td>\n",
       "      <td>0</td>\n",
       "      <td>0</td>\n",
       "      <td>4.043051</td>\n",
       "      <td>99</td>\n",
       "    </tr>\n",
       "    <tr>\n",
       "      <th>ffffcf35913a0bee60e8741cb2b4e78b8a98ee5ff2e6a1778d0116cffd259264</th>\n",
       "      <td>1</td>\n",
       "      <td>1</td>\n",
       "      <td>1</td>\n",
       "      <td>1</td>\n",
       "      <td>21.0</td>\n",
       "      <td>-2.812523</td>\n",
       "      <td>-0.908872</td>\n",
       "      <td>0.600000</td>\n",
       "      <td>0.400000</td>\n",
       "      <td>0.000000</td>\n",
       "      <td>...</td>\n",
       "      <td>0.000000</td>\n",
       "      <td>0.000000</td>\n",
       "      <td>0.066667</td>\n",
       "      <td>0.000000</td>\n",
       "      <td>0.017520</td>\n",
       "      <td>15.0</td>\n",
       "      <td>0</td>\n",
       "      <td>0</td>\n",
       "      <td>2.772589</td>\n",
       "      <td>103</td>\n",
       "    </tr>\n",
       "    <tr>\n",
       "      <th>ffffd7744cebcf3aca44ae7049d2a94b87074c3d4ffe38b2236865d949d4df6a</th>\n",
       "      <td>1</td>\n",
       "      <td>1</td>\n",
       "      <td>1</td>\n",
       "      <td>1</td>\n",
       "      <td>18.0</td>\n",
       "      <td>-3.110024</td>\n",
       "      <td>-1.539171</td>\n",
       "      <td>0.857143</td>\n",
       "      <td>0.000000</td>\n",
       "      <td>0.428571</td>\n",
       "      <td>...</td>\n",
       "      <td>0.000000</td>\n",
       "      <td>0.000000</td>\n",
       "      <td>0.000000</td>\n",
       "      <td>0.000000</td>\n",
       "      <td>0.029886</td>\n",
       "      <td>7.0</td>\n",
       "      <td>0</td>\n",
       "      <td>0</td>\n",
       "      <td>2.079442</td>\n",
       "      <td>91</td>\n",
       "    </tr>\n",
       "    <tr>\n",
       "      <th>ffffd9ac14e89946416d80e791d064701994755c3ab686a1eaf3458c36f52241</th>\n",
       "      <td>0</td>\n",
       "      <td>0</td>\n",
       "      <td>0</td>\n",
       "      <td>0</td>\n",
       "      <td>65.0</td>\n",
       "      <td>1.550828</td>\n",
       "      <td>8.335505</td>\n",
       "      <td>0.717700</td>\n",
       "      <td>0.000000</td>\n",
       "      <td>0.000000</td>\n",
       "      <td>...</td>\n",
       "      <td>1.000000</td>\n",
       "      <td>0.000000</td>\n",
       "      <td>0.000000</td>\n",
       "      <td>0.000000</td>\n",
       "      <td>0.084729</td>\n",
       "      <td>1.0</td>\n",
       "      <td>1</td>\n",
       "      <td>0</td>\n",
       "      <td>0.693147</td>\n",
       "      <td>63</td>\n",
       "    </tr>\n",
       "  </tbody>\n",
       "</table>\n",
       "<p>1371980 rows × 44 columns</p>\n",
       "</div>"
      ],
      "text/plain": [
       "                                                    FN  Active  \\\n",
       "customer_id                                                      \n",
       "00000dbacae5abe5e23885899a1fa44253a17956c6d1c3d...   0       0   \n",
       "0000423b00ade91418cceaf3b26c6af3dd342b51fd051ee...   0       0   \n",
       "000058a12d5b43e67d225668fa1f8d618c13dc232df0cad...   0       0   \n",
       "00005ca1c9ed5f5146b52ac8639a40ca9d57aeff4d1bd2c...   0       0   \n",
       "00006413d8573cd20ed7128e53b7b13819fe5cfc2d801fe...   1       1   \n",
       "...                                                 ..     ...   \n",
       "ffffbbf78b6eaac697a8a5dfbfd2bfa8113ee5b403e4747...   0       0   \n",
       "ffffcd5046a6143d29a04fb8c424ce494a76e5cdf4fab53...   0       0   \n",
       "ffffcf35913a0bee60e8741cb2b4e78b8a98ee5ff2e6a17...   1       1   \n",
       "ffffd7744cebcf3aca44ae7049d2a94b87074c3d4ffe38b...   1       1   \n",
       "ffffd9ac14e89946416d80e791d064701994755c3ab686a...   0       0   \n",
       "\n",
       "                                                    club_member_status  \\\n",
       "customer_id                                                              \n",
       "00000dbacae5abe5e23885899a1fa44253a17956c6d1c3d...                   1   \n",
       "0000423b00ade91418cceaf3b26c6af3dd342b51fd051ee...                   1   \n",
       "000058a12d5b43e67d225668fa1f8d618c13dc232df0cad...                   1   \n",
       "00005ca1c9ed5f5146b52ac8639a40ca9d57aeff4d1bd2c...                   1   \n",
       "00006413d8573cd20ed7128e53b7b13819fe5cfc2d801fe...                   1   \n",
       "...                                                                ...   \n",
       "ffffbbf78b6eaac697a8a5dfbfd2bfa8113ee5b403e4747...                   1   \n",
       "ffffcd5046a6143d29a04fb8c424ce494a76e5cdf4fab53...                   1   \n",
       "ffffcf35913a0bee60e8741cb2b4e78b8a98ee5ff2e6a17...                   1   \n",
       "ffffd7744cebcf3aca44ae7049d2a94b87074c3d4ffe38b...                   1   \n",
       "ffffd9ac14e89946416d80e791d064701994755c3ab686a...                   0   \n",
       "\n",
       "                                                    fashion_news_frequency  \\\n",
       "customer_id                                                                  \n",
       "00000dbacae5abe5e23885899a1fa44253a17956c6d1c3d...                       0   \n",
       "0000423b00ade91418cceaf3b26c6af3dd342b51fd051ee...                       0   \n",
       "000058a12d5b43e67d225668fa1f8d618c13dc232df0cad...                       0   \n",
       "00005ca1c9ed5f5146b52ac8639a40ca9d57aeff4d1bd2c...                       0   \n",
       "00006413d8573cd20ed7128e53b7b13819fe5cfc2d801fe...                       1   \n",
       "...                                                                    ...   \n",
       "ffffbbf78b6eaac697a8a5dfbfd2bfa8113ee5b403e4747...                       0   \n",
       "ffffcd5046a6143d29a04fb8c424ce494a76e5cdf4fab53...                       0   \n",
       "ffffcf35913a0bee60e8741cb2b4e78b8a98ee5ff2e6a17...                       1   \n",
       "ffffd7744cebcf3aca44ae7049d2a94b87074c3d4ffe38b...                       1   \n",
       "ffffd9ac14e89946416d80e791d064701994755c3ab686a...                       0   \n",
       "\n",
       "                                                     age  age_gmm_1  \\\n",
       "customer_id                                                           \n",
       "00000dbacae5abe5e23885899a1fa44253a17956c6d1c3d...  49.0  -0.035845   \n",
       "0000423b00ade91418cceaf3b26c6af3dd342b51fd051ee...  25.0  -2.415854   \n",
       "000058a12d5b43e67d225668fa1f8d618c13dc232df0cad...  24.0  -2.515021   \n",
       "00005ca1c9ed5f5146b52ac8639a40ca9d57aeff4d1bd2c...  54.0   0.459991   \n",
       "00006413d8573cd20ed7128e53b7b13819fe5cfc2d801fe...  52.0   0.261657   \n",
       "...                                                  ...        ...   \n",
       "ffffbbf78b6eaac697a8a5dfbfd2bfa8113ee5b403e4747...  24.0  -2.515021   \n",
       "ffffcd5046a6143d29a04fb8c424ce494a76e5cdf4fab53...  21.0  -2.812523   \n",
       "ffffcf35913a0bee60e8741cb2b4e78b8a98ee5ff2e6a17...  21.0  -2.812523   \n",
       "ffffd7744cebcf3aca44ae7049d2a94b87074c3d4ffe38b...  18.0  -3.110024   \n",
       "ffffd9ac14e89946416d80e791d064701994755c3ab686a...  65.0   1.550828   \n",
       "\n",
       "                                                    age_gmm_2  online_prob  \\\n",
       "customer_id                                                                  \n",
       "00000dbacae5abe5e23885899a1fa44253a17956c6d1c3d...   4.973913     0.666667   \n",
       "0000423b00ade91418cceaf3b26c6af3dd342b51fd051ee...  -0.068474     0.942857   \n",
       "000058a12d5b43e67d225668fa1f8d618c13dc232df0cad...  -0.278574     0.717700   \n",
       "00005ca1c9ed5f5146b52ac8639a40ca9d57aeff4d1bd2c...   6.024411     0.717700   \n",
       "00006413d8573cd20ed7128e53b7b13819fe5cfc2d801fe...   5.604212     0.717700   \n",
       "...                                                       ...          ...   \n",
       "ffffbbf78b6eaac697a8a5dfbfd2bfa8113ee5b403e4747...  -0.278574     0.571429   \n",
       "ffffcd5046a6143d29a04fb8c424ce494a76e5cdf4fab53...  -0.908872     0.750000   \n",
       "ffffcf35913a0bee60e8741cb2b4e78b8a98ee5ff2e6a17...  -0.908872     0.600000   \n",
       "ffffd7744cebcf3aca44ae7049d2a94b87074c3d4ffe38b...  -1.539171     0.857143   \n",
       "ffffd9ac14e89946416d80e791d064701994755c3ab686a...   8.335505     0.717700   \n",
       "\n",
       "                                                    cohort_prob_A  \\\n",
       "customer_id                                                         \n",
       "00000dbacae5abe5e23885899a1fa44253a17956c6d1c3d...       0.750000   \n",
       "0000423b00ade91418cceaf3b26c6af3dd342b51fd051ee...       0.114286   \n",
       "000058a12d5b43e67d225668fa1f8d618c13dc232df0cad...       0.357143   \n",
       "00005ca1c9ed5f5146b52ac8639a40ca9d57aeff4d1bd2c...       0.418400   \n",
       "00006413d8573cd20ed7128e53b7b13819fe5cfc2d801fe...       0.444444   \n",
       "...                                                           ...   \n",
       "ffffbbf78b6eaac697a8a5dfbfd2bfa8113ee5b403e4747...       0.071429   \n",
       "ffffcd5046a6143d29a04fb8c424ce494a76e5cdf4fab53...       0.142857   \n",
       "ffffcf35913a0bee60e8741cb2b4e78b8a98ee5ff2e6a17...       0.400000   \n",
       "ffffd7744cebcf3aca44ae7049d2a94b87074c3d4ffe38b...       0.000000   \n",
       "ffffd9ac14e89946416d80e791d064701994755c3ab686a...       0.000000   \n",
       "\n",
       "                                                    cohort_prob_B  ...  \\\n",
       "customer_id                                                        ...   \n",
       "00000dbacae5abe5e23885899a1fa44253a17956c6d1c3d...       0.000000  ...   \n",
       "0000423b00ade91418cceaf3b26c6af3dd342b51fd051ee...       0.628571  ...   \n",
       "000058a12d5b43e67d225668fa1f8d618c13dc232df0cad...       0.214286  ...   \n",
       "00005ca1c9ed5f5146b52ac8639a40ca9d57aeff4d1bd2c...       0.182654  ...   \n",
       "00006413d8573cd20ed7128e53b7b13819fe5cfc2d801fe...       0.333333  ...   \n",
       "...                                                           ...  ...   \n",
       "ffffbbf78b6eaac697a8a5dfbfd2bfa8113ee5b403e4747...       0.642857  ...   \n",
       "ffffcd5046a6143d29a04fb8c424ce494a76e5cdf4fab53...       0.142857  ...   \n",
       "ffffcf35913a0bee60e8741cb2b4e78b8a98ee5ff2e6a17...       0.000000  ...   \n",
       "ffffd7744cebcf3aca44ae7049d2a94b87074c3d4ffe38b...       0.428571  ...   \n",
       "ffffd9ac14e89946416d80e791d064701994755c3ab686a...       0.000000  ...   \n",
       "\n",
       "                                                    garment_prob_1020  \\\n",
       "customer_id                                                             \n",
       "00000dbacae5abe5e23885899a1fa44253a17956c6d1c3d...           0.000000   \n",
       "0000423b00ade91418cceaf3b26c6af3dd342b51fd051ee...           0.000000   \n",
       "000058a12d5b43e67d225668fa1f8d618c13dc232df0cad...           0.000000   \n",
       "00005ca1c9ed5f5146b52ac8639a40ca9d57aeff4d1bd2c...           0.020974   \n",
       "00006413d8573cd20ed7128e53b7b13819fe5cfc2d801fe...           0.000000   \n",
       "...                                                               ...   \n",
       "ffffbbf78b6eaac697a8a5dfbfd2bfa8113ee5b403e4747...           0.000000   \n",
       "ffffcd5046a6143d29a04fb8c424ce494a76e5cdf4fab53...           0.000000   \n",
       "ffffcf35913a0bee60e8741cb2b4e78b8a98ee5ff2e6a17...           0.000000   \n",
       "ffffd7744cebcf3aca44ae7049d2a94b87074c3d4ffe38b...           0.000000   \n",
       "ffffd9ac14e89946416d80e791d064701994755c3ab686a...           1.000000   \n",
       "\n",
       "                                                    garment_prob_1021  \\\n",
       "customer_id                                                             \n",
       "00000dbacae5abe5e23885899a1fa44253a17956c6d1c3d...           0.000000   \n",
       "0000423b00ade91418cceaf3b26c6af3dd342b51fd051ee...           0.000000   \n",
       "000058a12d5b43e67d225668fa1f8d618c13dc232df0cad...           0.000000   \n",
       "00005ca1c9ed5f5146b52ac8639a40ca9d57aeff4d1bd2c...           0.025385   \n",
       "00006413d8573cd20ed7128e53b7b13819fe5cfc2d801fe...           0.000000   \n",
       "...                                                               ...   \n",
       "ffffbbf78b6eaac697a8a5dfbfd2bfa8113ee5b403e4747...           0.035714   \n",
       "ffffcd5046a6143d29a04fb8c424ce494a76e5cdf4fab53...           0.000000   \n",
       "ffffcf35913a0bee60e8741cb2b4e78b8a98ee5ff2e6a17...           0.000000   \n",
       "ffffd7744cebcf3aca44ae7049d2a94b87074c3d4ffe38b...           0.000000   \n",
       "ffffd9ac14e89946416d80e791d064701994755c3ab686a...           0.000000   \n",
       "\n",
       "                                                    garment_prob_1023  \\\n",
       "customer_id                                                             \n",
       "00000dbacae5abe5e23885899a1fa44253a17956c6d1c3d...           0.000000   \n",
       "0000423b00ade91418cceaf3b26c6af3dd342b51fd051ee...           0.000000   \n",
       "000058a12d5b43e67d225668fa1f8d618c13dc232df0cad...           0.000000   \n",
       "00005ca1c9ed5f5146b52ac8639a40ca9d57aeff4d1bd2c...           0.006264   \n",
       "00006413d8573cd20ed7128e53b7b13819fe5cfc2d801fe...           0.000000   \n",
       "...                                                               ...   \n",
       "ffffbbf78b6eaac697a8a5dfbfd2bfa8113ee5b403e4747...           0.000000   \n",
       "ffffcd5046a6143d29a04fb8c424ce494a76e5cdf4fab53...           0.000000   \n",
       "ffffcf35913a0bee60e8741cb2b4e78b8a98ee5ff2e6a17...           0.066667   \n",
       "ffffd7744cebcf3aca44ae7049d2a94b87074c3d4ffe38b...           0.000000   \n",
       "ffffd9ac14e89946416d80e791d064701994755c3ab686a...           0.000000   \n",
       "\n",
       "                                                    garment_prob_1025  \\\n",
       "customer_id                                                             \n",
       "00000dbacae5abe5e23885899a1fa44253a17956c6d1c3d...           0.000000   \n",
       "0000423b00ade91418cceaf3b26c6af3dd342b51fd051ee...           0.000000   \n",
       "000058a12d5b43e67d225668fa1f8d618c13dc232df0cad...           0.000000   \n",
       "00005ca1c9ed5f5146b52ac8639a40ca9d57aeff4d1bd2c...           0.020455   \n",
       "00006413d8573cd20ed7128e53b7b13819fe5cfc2d801fe...           0.000000   \n",
       "...                                                               ...   \n",
       "ffffbbf78b6eaac697a8a5dfbfd2bfa8113ee5b403e4747...           0.000000   \n",
       "ffffcd5046a6143d29a04fb8c424ce494a76e5cdf4fab53...           0.000000   \n",
       "ffffcf35913a0bee60e8741cb2b4e78b8a98ee5ff2e6a17...           0.000000   \n",
       "ffffd7744cebcf3aca44ae7049d2a94b87074c3d4ffe38b...           0.000000   \n",
       "ffffd9ac14e89946416d80e791d064701994755c3ab686a...           0.000000   \n",
       "\n",
       "                                                    avg_price  \\\n",
       "customer_id                                                     \n",
       "00000dbacae5abe5e23885899a1fa44253a17956c6d1c3d...   0.029095   \n",
       "0000423b00ade91418cceaf3b26c6af3dd342b51fd051ee...   0.025358   \n",
       "000058a12d5b43e67d225668fa1f8d618c13dc232df0cad...   0.039935   \n",
       "00005ca1c9ed5f5146b52ac8639a40ca9d57aeff4d1bd2c...   0.028252   \n",
       "00006413d8573cd20ed7128e53b7b13819fe5cfc2d801fe...   0.039955   \n",
       "...                                                       ...   \n",
       "ffffbbf78b6eaac697a8a5dfbfd2bfa8113ee5b403e4747...   0.022683   \n",
       "ffffcd5046a6143d29a04fb8c424ce494a76e5cdf4fab53...   0.021416   \n",
       "ffffcf35913a0bee60e8741cb2b4e78b8a98ee5ff2e6a17...   0.017520   \n",
       "ffffd7744cebcf3aca44ae7049d2a94b87074c3d4ffe38b...   0.029886   \n",
       "ffffd9ac14e89946416d80e791d064701994755c3ab686a...   0.084729   \n",
       "\n",
       "                                                    transaction_count  \\\n",
       "customer_id                                                             \n",
       "00000dbacae5abe5e23885899a1fa44253a17956c6d1c3d...               12.0   \n",
       "0000423b00ade91418cceaf3b26c6af3dd342b51fd051ee...               35.0   \n",
       "000058a12d5b43e67d225668fa1f8d618c13dc232df0cad...               14.0   \n",
       "00005ca1c9ed5f5146b52ac8639a40ca9d57aeff4d1bd2c...                0.0   \n",
       "00006413d8573cd20ed7128e53b7b13819fe5cfc2d801fe...                9.0   \n",
       "...                                                               ...   \n",
       "ffffbbf78b6eaac697a8a5dfbfd2bfa8113ee5b403e4747...               28.0   \n",
       "ffffcd5046a6143d29a04fb8c424ce494a76e5cdf4fab53...               56.0   \n",
       "ffffcf35913a0bee60e8741cb2b4e78b8a98ee5ff2e6a17...               15.0   \n",
       "ffffd7744cebcf3aca44ae7049d2a94b87074c3d4ffe38b...                7.0   \n",
       "ffffd9ac14e89946416d80e791d064701994755c3ab686a...                1.0   \n",
       "\n",
       "                                                    is_cold  is_new  \\\n",
       "customer_id                                                           \n",
       "00000dbacae5abe5e23885899a1fa44253a17956c6d1c3d...        0       0   \n",
       "0000423b00ade91418cceaf3b26c6af3dd342b51fd051ee...        0       0   \n",
       "000058a12d5b43e67d225668fa1f8d618c13dc232df0cad...        0       0   \n",
       "00005ca1c9ed5f5146b52ac8639a40ca9d57aeff4d1bd2c...        1       1   \n",
       "00006413d8573cd20ed7128e53b7b13819fe5cfc2d801fe...        0       0   \n",
       "...                                                     ...     ...   \n",
       "ffffbbf78b6eaac697a8a5dfbfd2bfa8113ee5b403e4747...        0       0   \n",
       "ffffcd5046a6143d29a04fb8c424ce494a76e5cdf4fab53...        0       0   \n",
       "ffffcf35913a0bee60e8741cb2b4e78b8a98ee5ff2e6a17...        0       0   \n",
       "ffffd7744cebcf3aca44ae7049d2a94b87074c3d4ffe38b...        0       0   \n",
       "ffffd9ac14e89946416d80e791d064701994755c3ab686a...        1       0   \n",
       "\n",
       "                                                    log_transaction_count  \\\n",
       "customer_id                                                                 \n",
       "00000dbacae5abe5e23885899a1fa44253a17956c6d1c3d...               2.564949   \n",
       "0000423b00ade91418cceaf3b26c6af3dd342b51fd051ee...               3.583519   \n",
       "000058a12d5b43e67d225668fa1f8d618c13dc232df0cad...               2.708050   \n",
       "00005ca1c9ed5f5146b52ac8639a40ca9d57aeff4d1bd2c...               0.000000   \n",
       "00006413d8573cd20ed7128e53b7b13819fe5cfc2d801fe...               2.302585   \n",
       "...                                                                   ...   \n",
       "ffffbbf78b6eaac697a8a5dfbfd2bfa8113ee5b403e4747...               3.367296   \n",
       "ffffcd5046a6143d29a04fb8c424ce494a76e5cdf4fab53...               4.043051   \n",
       "ffffcf35913a0bee60e8741cb2b4e78b8a98ee5ff2e6a17...               2.772589   \n",
       "ffffd7744cebcf3aca44ae7049d2a94b87074c3d4ffe38b...               2.079442   \n",
       "ffffd9ac14e89946416d80e791d064701994755c3ab686a...               0.693147   \n",
       "\n",
       "                                                    last_active_week  \n",
       "customer_id                                                           \n",
       "00000dbacae5abe5e23885899a1fa44253a17956c6d1c3d...               102  \n",
       "0000423b00ade91418cceaf3b26c6af3dd342b51fd051ee...                94  \n",
       "000058a12d5b43e67d225668fa1f8d618c13dc232df0cad...               103  \n",
       "00005ca1c9ed5f5146b52ac8639a40ca9d57aeff4d1bd2c...                 0  \n",
       "00006413d8573cd20ed7128e53b7b13819fe5cfc2d801fe...                99  \n",
       "...                                                              ...  \n",
       "ffffbbf78b6eaac697a8a5dfbfd2bfa8113ee5b403e4747...               102  \n",
       "ffffcd5046a6143d29a04fb8c424ce494a76e5cdf4fab53...                99  \n",
       "ffffcf35913a0bee60e8741cb2b4e78b8a98ee5ff2e6a17...               103  \n",
       "ffffd7744cebcf3aca44ae7049d2a94b87074c3d4ffe38b...                91  \n",
       "ffffd9ac14e89946416d80e791d064701994755c3ab686a...                63  \n",
       "\n",
       "[1371980 rows x 44 columns]"
      ]
     },
     "execution_count": 64,
     "metadata": {},
     "output_type": "execute_result"
    }
   ],
   "source": [
    "df_user"
   ]
  },
  {
   "cell_type": "markdown",
   "metadata": {},
   "source": [
    "아직 one-hot encoding 등을 안했으니 feature라고 하긴 좀 그렇고, 대신 aggregation 포함된 전처리는 전부 되어있는것임."
   ]
  },
  {
   "cell_type": "code",
   "execution_count": 65,
   "metadata": {},
   "outputs": [
    {
     "name": "stdout",
     "output_type": "stream",
     "text": [
      "CPU times: user 2.41 s, sys: 313 ms, total: 2.73 s\n",
      "Wall time: 2.15 s\n"
     ]
    }
   ],
   "source": [
    "%%time\n",
    "df_user.to_parquet(f'{DATA_ROOT}/df_user_aggregated_{DNAME}.pq')"
   ]
  },
  {
   "cell_type": "code",
   "execution_count": 66,
   "metadata": {},
   "outputs": [],
   "source": [
    "del df_user"
   ]
  },
  {
   "cell_type": "code",
   "execution_count": 67,
   "metadata": {},
   "outputs": [],
   "source": [
    "del df_log"
   ]
  },
  {
   "cell_type": "code",
   "execution_count": 68,
   "metadata": {},
   "outputs": [],
   "source": [
    "del df_user_raw\n",
    "del df_item_raw\n",
    "del df_log_raw\n",
    "del df_sub_raw"
   ]
  },
  {
   "cell_type": "markdown",
   "metadata": {},
   "source": [
    "---"
   ]
  },
  {
   "cell_type": "markdown",
   "metadata": {},
   "source": [
    "# 9. 유저 Feature 만들기"
   ]
  },
  {
   "cell_type": "markdown",
   "metadata": {},
   "source": [
    "여기서부턴 거의 딥러닝을 위한것. 컬럼 막 지우고 그럼."
   ]
  },
  {
   "cell_type": "code",
   "execution_count": 69,
   "metadata": {},
   "outputs": [
    {
     "name": "stdout",
     "output_type": "stream",
     "text": [
      "CPU times: user 1.36 s, sys: 1.36 s, total: 2.72 s\n",
      "Wall time: 1.67 s\n"
     ]
    }
   ],
   "source": [
    "%%time\n",
    "df_user = pd.read_parquet(f'{DATA_ROOT}/df_user_aggregated_{DNAME}.pq')"
   ]
  },
  {
   "cell_type": "code",
   "execution_count": 70,
   "metadata": {},
   "outputs": [],
   "source": [
    "df_user_feature = df_user.copy()"
   ]
  },
  {
   "cell_type": "code",
   "execution_count": 71,
   "metadata": {},
   "outputs": [],
   "source": [
    "del df_user"
   ]
  },
  {
   "cell_type": "code",
   "execution_count": 72,
   "metadata": {},
   "outputs": [],
   "source": [
    "df_user_feature.drop(columns=[\n",
    "    'age',\n",
    "    'transaction_count',\n",
    "], inplace=True)"
   ]
  },
  {
   "cell_type": "code",
   "execution_count": 73,
   "metadata": {},
   "outputs": [],
   "source": [
    "one_hot_fields = [\n",
    "    'FN',\n",
    "    'Active',\n",
    "    'club_member_status',\n",
    "    'fashion_news_frequency',\n",
    "    'is_cold',\n",
    "]"
   ]
  },
  {
   "cell_type": "code",
   "execution_count": 74,
   "metadata": {},
   "outputs": [],
   "source": [
    "for field in one_hot_fields:\n",
    "    hotted = pd.get_dummies(df_user_feature[field], prefix=field)\n",
    "    df_user_feature = df_user_feature.merge(hotted, how='left', left_index=True, right_index=True)\n",
    "    df_user_feature.drop(columns=[field], inplace=True)"
   ]
  },
  {
   "cell_type": "markdown",
   "metadata": {},
   "source": [
    "NaN 체크"
   ]
  },
  {
   "cell_type": "code",
   "execution_count": 75,
   "metadata": {},
   "outputs": [
    {
     "data": {
      "text/plain": [
       "age_gmm_1                   0\n",
       "age_gmm_2                   0\n",
       "online_prob                 0\n",
       "cohort_prob_A               0\n",
       "cohort_prob_B               0\n",
       "cohort_prob_C               0\n",
       "cohort_prob_D               0\n",
       "cohort_prob_F               0\n",
       "cohort_prob_G               0\n",
       "cohort_prob_H               0\n",
       "cohort_prob_I               0\n",
       "cohort_prob_J               0\n",
       "cohort_prob_S               0\n",
       "garment_prob_1002           0\n",
       "garment_prob_1003           0\n",
       "garment_prob_1005           0\n",
       "garment_prob_1006           0\n",
       "garment_prob_1007           0\n",
       "garment_prob_1008           0\n",
       "garment_prob_1009           0\n",
       "garment_prob_1010           0\n",
       "garment_prob_1011           0\n",
       "garment_prob_1012           0\n",
       "garment_prob_1013           0\n",
       "garment_prob_1014           0\n",
       "garment_prob_1016           0\n",
       "garment_prob_1017           0\n",
       "garment_prob_1018           0\n",
       "garment_prob_1019           0\n",
       "garment_prob_1020           0\n",
       "garment_prob_1021           0\n",
       "garment_prob_1023           0\n",
       "garment_prob_1025           0\n",
       "avg_price                   0\n",
       "is_new                      0\n",
       "log_transaction_count       0\n",
       "last_active_week            0\n",
       "FN_0                        0\n",
       "FN_1                        0\n",
       "Active_0                    0\n",
       "Active_1                    0\n",
       "club_member_status_0        0\n",
       "club_member_status_1        0\n",
       "fashion_news_frequency_0    0\n",
       "fashion_news_frequency_1    0\n",
       "is_cold_0                   0\n",
       "is_cold_1                   0\n",
       "dtype: int64"
      ]
     },
     "execution_count": 75,
     "metadata": {},
     "output_type": "execute_result"
    }
   ],
   "source": [
    "df_user_feature.isna().sum()"
   ]
  },
  {
   "cell_type": "markdown",
   "metadata": {},
   "source": [
    "최종 확인"
   ]
  },
  {
   "cell_type": "code",
   "execution_count": 76,
   "metadata": {},
   "outputs": [
    {
     "data": {
      "text/html": [
       "<div>\n",
       "<style scoped>\n",
       "    .dataframe tbody tr th:only-of-type {\n",
       "        vertical-align: middle;\n",
       "    }\n",
       "\n",
       "    .dataframe tbody tr th {\n",
       "        vertical-align: top;\n",
       "    }\n",
       "\n",
       "    .dataframe thead th {\n",
       "        text-align: right;\n",
       "    }\n",
       "</style>\n",
       "<table border=\"1\" class=\"dataframe\">\n",
       "  <thead>\n",
       "    <tr style=\"text-align: right;\">\n",
       "      <th></th>\n",
       "      <th>age_gmm_1</th>\n",
       "      <th>age_gmm_2</th>\n",
       "      <th>online_prob</th>\n",
       "      <th>cohort_prob_A</th>\n",
       "      <th>cohort_prob_B</th>\n",
       "      <th>cohort_prob_C</th>\n",
       "      <th>cohort_prob_D</th>\n",
       "      <th>cohort_prob_F</th>\n",
       "      <th>cohort_prob_G</th>\n",
       "      <th>cohort_prob_H</th>\n",
       "      <th>...</th>\n",
       "      <th>FN_0</th>\n",
       "      <th>FN_1</th>\n",
       "      <th>Active_0</th>\n",
       "      <th>Active_1</th>\n",
       "      <th>club_member_status_0</th>\n",
       "      <th>club_member_status_1</th>\n",
       "      <th>fashion_news_frequency_0</th>\n",
       "      <th>fashion_news_frequency_1</th>\n",
       "      <th>is_cold_0</th>\n",
       "      <th>is_cold_1</th>\n",
       "    </tr>\n",
       "    <tr>\n",
       "      <th>customer_id</th>\n",
       "      <th></th>\n",
       "      <th></th>\n",
       "      <th></th>\n",
       "      <th></th>\n",
       "      <th></th>\n",
       "      <th></th>\n",
       "      <th></th>\n",
       "      <th></th>\n",
       "      <th></th>\n",
       "      <th></th>\n",
       "      <th></th>\n",
       "      <th></th>\n",
       "      <th></th>\n",
       "      <th></th>\n",
       "      <th></th>\n",
       "      <th></th>\n",
       "      <th></th>\n",
       "      <th></th>\n",
       "      <th></th>\n",
       "      <th></th>\n",
       "      <th></th>\n",
       "    </tr>\n",
       "  </thead>\n",
       "  <tbody>\n",
       "    <tr>\n",
       "      <th>00000dbacae5abe5e23885899a1fa44253a17956c6d1c3d25f88aa139fdfc657</th>\n",
       "      <td>-0.035845</td>\n",
       "      <td>4.973913</td>\n",
       "      <td>0.666667</td>\n",
       "      <td>0.750000</td>\n",
       "      <td>0.000000</td>\n",
       "      <td>0.000000</td>\n",
       "      <td>0.083333</td>\n",
       "      <td>0.000000</td>\n",
       "      <td>0.000000</td>\n",
       "      <td>0.000000</td>\n",
       "      <td>...</td>\n",
       "      <td>1</td>\n",
       "      <td>0</td>\n",
       "      <td>1</td>\n",
       "      <td>0</td>\n",
       "      <td>0</td>\n",
       "      <td>1</td>\n",
       "      <td>1</td>\n",
       "      <td>0</td>\n",
       "      <td>1</td>\n",
       "      <td>0</td>\n",
       "    </tr>\n",
       "    <tr>\n",
       "      <th>0000423b00ade91418cceaf3b26c6af3dd342b51fd051eec9c12fb36984420fa</th>\n",
       "      <td>-2.415854</td>\n",
       "      <td>-0.068474</td>\n",
       "      <td>0.942857</td>\n",
       "      <td>0.114286</td>\n",
       "      <td>0.628571</td>\n",
       "      <td>0.000000</td>\n",
       "      <td>0.114286</td>\n",
       "      <td>0.000000</td>\n",
       "      <td>0.114286</td>\n",
       "      <td>0.000000</td>\n",
       "      <td>...</td>\n",
       "      <td>1</td>\n",
       "      <td>0</td>\n",
       "      <td>1</td>\n",
       "      <td>0</td>\n",
       "      <td>0</td>\n",
       "      <td>1</td>\n",
       "      <td>1</td>\n",
       "      <td>0</td>\n",
       "      <td>1</td>\n",
       "      <td>0</td>\n",
       "    </tr>\n",
       "    <tr>\n",
       "      <th>000058a12d5b43e67d225668fa1f8d618c13dc232df0cad8ffe7ad4a1091e318</th>\n",
       "      <td>-2.515021</td>\n",
       "      <td>-0.278574</td>\n",
       "      <td>0.717700</td>\n",
       "      <td>0.357143</td>\n",
       "      <td>0.214286</td>\n",
       "      <td>0.000000</td>\n",
       "      <td>0.071429</td>\n",
       "      <td>0.285714</td>\n",
       "      <td>0.000000</td>\n",
       "      <td>0.000000</td>\n",
       "      <td>...</td>\n",
       "      <td>1</td>\n",
       "      <td>0</td>\n",
       "      <td>1</td>\n",
       "      <td>0</td>\n",
       "      <td>0</td>\n",
       "      <td>1</td>\n",
       "      <td>1</td>\n",
       "      <td>0</td>\n",
       "      <td>1</td>\n",
       "      <td>0</td>\n",
       "    </tr>\n",
       "    <tr>\n",
       "      <th>00005ca1c9ed5f5146b52ac8639a40ca9d57aeff4d1bd2c5feb1ca5dff07c43e</th>\n",
       "      <td>0.459991</td>\n",
       "      <td>6.024411</td>\n",
       "      <td>0.717700</td>\n",
       "      <td>0.418400</td>\n",
       "      <td>0.182654</td>\n",
       "      <td>0.056661</td>\n",
       "      <td>0.221542</td>\n",
       "      <td>0.056899</td>\n",
       "      <td>0.006194</td>\n",
       "      <td>0.005264</td>\n",
       "      <td>...</td>\n",
       "      <td>1</td>\n",
       "      <td>0</td>\n",
       "      <td>1</td>\n",
       "      <td>0</td>\n",
       "      <td>0</td>\n",
       "      <td>1</td>\n",
       "      <td>1</td>\n",
       "      <td>0</td>\n",
       "      <td>0</td>\n",
       "      <td>1</td>\n",
       "    </tr>\n",
       "    <tr>\n",
       "      <th>00006413d8573cd20ed7128e53b7b13819fe5cfc2d801fe7fc0f26dd8d65a85a</th>\n",
       "      <td>0.261657</td>\n",
       "      <td>5.604212</td>\n",
       "      <td>0.717700</td>\n",
       "      <td>0.444444</td>\n",
       "      <td>0.333333</td>\n",
       "      <td>0.000000</td>\n",
       "      <td>0.000000</td>\n",
       "      <td>0.000000</td>\n",
       "      <td>0.000000</td>\n",
       "      <td>0.000000</td>\n",
       "      <td>...</td>\n",
       "      <td>0</td>\n",
       "      <td>1</td>\n",
       "      <td>0</td>\n",
       "      <td>1</td>\n",
       "      <td>0</td>\n",
       "      <td>1</td>\n",
       "      <td>0</td>\n",
       "      <td>1</td>\n",
       "      <td>1</td>\n",
       "      <td>0</td>\n",
       "    </tr>\n",
       "    <tr>\n",
       "      <th>...</th>\n",
       "      <td>...</td>\n",
       "      <td>...</td>\n",
       "      <td>...</td>\n",
       "      <td>...</td>\n",
       "      <td>...</td>\n",
       "      <td>...</td>\n",
       "      <td>...</td>\n",
       "      <td>...</td>\n",
       "      <td>...</td>\n",
       "      <td>...</td>\n",
       "      <td>...</td>\n",
       "      <td>...</td>\n",
       "      <td>...</td>\n",
       "      <td>...</td>\n",
       "      <td>...</td>\n",
       "      <td>...</td>\n",
       "      <td>...</td>\n",
       "      <td>...</td>\n",
       "      <td>...</td>\n",
       "      <td>...</td>\n",
       "      <td>...</td>\n",
       "    </tr>\n",
       "    <tr>\n",
       "      <th>ffffbbf78b6eaac697a8a5dfbfd2bfa8113ee5b403e4747568cac33e8c541831</th>\n",
       "      <td>-2.515021</td>\n",
       "      <td>-0.278574</td>\n",
       "      <td>0.571429</td>\n",
       "      <td>0.071429</td>\n",
       "      <td>0.642857</td>\n",
       "      <td>0.107143</td>\n",
       "      <td>0.000000</td>\n",
       "      <td>0.035714</td>\n",
       "      <td>0.000000</td>\n",
       "      <td>0.000000</td>\n",
       "      <td>...</td>\n",
       "      <td>1</td>\n",
       "      <td>0</td>\n",
       "      <td>1</td>\n",
       "      <td>0</td>\n",
       "      <td>0</td>\n",
       "      <td>1</td>\n",
       "      <td>1</td>\n",
       "      <td>0</td>\n",
       "      <td>1</td>\n",
       "      <td>0</td>\n",
       "    </tr>\n",
       "    <tr>\n",
       "      <th>ffffcd5046a6143d29a04fb8c424ce494a76e5cdf4fab53481233731b5c4f8b7</th>\n",
       "      <td>-2.812523</td>\n",
       "      <td>-0.908872</td>\n",
       "      <td>0.750000</td>\n",
       "      <td>0.142857</td>\n",
       "      <td>0.142857</td>\n",
       "      <td>0.035714</td>\n",
       "      <td>0.535714</td>\n",
       "      <td>0.017857</td>\n",
       "      <td>0.071429</td>\n",
       "      <td>0.017857</td>\n",
       "      <td>...</td>\n",
       "      <td>1</td>\n",
       "      <td>0</td>\n",
       "      <td>1</td>\n",
       "      <td>0</td>\n",
       "      <td>0</td>\n",
       "      <td>1</td>\n",
       "      <td>1</td>\n",
       "      <td>0</td>\n",
       "      <td>1</td>\n",
       "      <td>0</td>\n",
       "    </tr>\n",
       "    <tr>\n",
       "      <th>ffffcf35913a0bee60e8741cb2b4e78b8a98ee5ff2e6a1778d0116cffd259264</th>\n",
       "      <td>-2.812523</td>\n",
       "      <td>-0.908872</td>\n",
       "      <td>0.600000</td>\n",
       "      <td>0.400000</td>\n",
       "      <td>0.000000</td>\n",
       "      <td>0.000000</td>\n",
       "      <td>0.333333</td>\n",
       "      <td>0.266667</td>\n",
       "      <td>0.000000</td>\n",
       "      <td>0.000000</td>\n",
       "      <td>...</td>\n",
       "      <td>0</td>\n",
       "      <td>1</td>\n",
       "      <td>0</td>\n",
       "      <td>1</td>\n",
       "      <td>0</td>\n",
       "      <td>1</td>\n",
       "      <td>0</td>\n",
       "      <td>1</td>\n",
       "      <td>1</td>\n",
       "      <td>0</td>\n",
       "    </tr>\n",
       "    <tr>\n",
       "      <th>ffffd7744cebcf3aca44ae7049d2a94b87074c3d4ffe38b2236865d949d4df6a</th>\n",
       "      <td>-3.110024</td>\n",
       "      <td>-1.539171</td>\n",
       "      <td>0.857143</td>\n",
       "      <td>0.000000</td>\n",
       "      <td>0.428571</td>\n",
       "      <td>0.000000</td>\n",
       "      <td>0.571429</td>\n",
       "      <td>0.000000</td>\n",
       "      <td>0.000000</td>\n",
       "      <td>0.000000</td>\n",
       "      <td>...</td>\n",
       "      <td>0</td>\n",
       "      <td>1</td>\n",
       "      <td>0</td>\n",
       "      <td>1</td>\n",
       "      <td>0</td>\n",
       "      <td>1</td>\n",
       "      <td>0</td>\n",
       "      <td>1</td>\n",
       "      <td>1</td>\n",
       "      <td>0</td>\n",
       "    </tr>\n",
       "    <tr>\n",
       "      <th>ffffd9ac14e89946416d80e791d064701994755c3ab686a1eaf3458c36f52241</th>\n",
       "      <td>1.550828</td>\n",
       "      <td>8.335505</td>\n",
       "      <td>0.717700</td>\n",
       "      <td>0.000000</td>\n",
       "      <td>0.000000</td>\n",
       "      <td>1.000000</td>\n",
       "      <td>0.000000</td>\n",
       "      <td>0.000000</td>\n",
       "      <td>0.000000</td>\n",
       "      <td>0.000000</td>\n",
       "      <td>...</td>\n",
       "      <td>1</td>\n",
       "      <td>0</td>\n",
       "      <td>1</td>\n",
       "      <td>0</td>\n",
       "      <td>1</td>\n",
       "      <td>0</td>\n",
       "      <td>1</td>\n",
       "      <td>0</td>\n",
       "      <td>0</td>\n",
       "      <td>1</td>\n",
       "    </tr>\n",
       "  </tbody>\n",
       "</table>\n",
       "<p>1371980 rows × 47 columns</p>\n",
       "</div>"
      ],
      "text/plain": [
       "                                                    age_gmm_1  age_gmm_2  \\\n",
       "customer_id                                                                \n",
       "00000dbacae5abe5e23885899a1fa44253a17956c6d1c3d...  -0.035845   4.973913   \n",
       "0000423b00ade91418cceaf3b26c6af3dd342b51fd051ee...  -2.415854  -0.068474   \n",
       "000058a12d5b43e67d225668fa1f8d618c13dc232df0cad...  -2.515021  -0.278574   \n",
       "00005ca1c9ed5f5146b52ac8639a40ca9d57aeff4d1bd2c...   0.459991   6.024411   \n",
       "00006413d8573cd20ed7128e53b7b13819fe5cfc2d801fe...   0.261657   5.604212   \n",
       "...                                                       ...        ...   \n",
       "ffffbbf78b6eaac697a8a5dfbfd2bfa8113ee5b403e4747...  -2.515021  -0.278574   \n",
       "ffffcd5046a6143d29a04fb8c424ce494a76e5cdf4fab53...  -2.812523  -0.908872   \n",
       "ffffcf35913a0bee60e8741cb2b4e78b8a98ee5ff2e6a17...  -2.812523  -0.908872   \n",
       "ffffd7744cebcf3aca44ae7049d2a94b87074c3d4ffe38b...  -3.110024  -1.539171   \n",
       "ffffd9ac14e89946416d80e791d064701994755c3ab686a...   1.550828   8.335505   \n",
       "\n",
       "                                                    online_prob  \\\n",
       "customer_id                                                       \n",
       "00000dbacae5abe5e23885899a1fa44253a17956c6d1c3d...     0.666667   \n",
       "0000423b00ade91418cceaf3b26c6af3dd342b51fd051ee...     0.942857   \n",
       "000058a12d5b43e67d225668fa1f8d618c13dc232df0cad...     0.717700   \n",
       "00005ca1c9ed5f5146b52ac8639a40ca9d57aeff4d1bd2c...     0.717700   \n",
       "00006413d8573cd20ed7128e53b7b13819fe5cfc2d801fe...     0.717700   \n",
       "...                                                         ...   \n",
       "ffffbbf78b6eaac697a8a5dfbfd2bfa8113ee5b403e4747...     0.571429   \n",
       "ffffcd5046a6143d29a04fb8c424ce494a76e5cdf4fab53...     0.750000   \n",
       "ffffcf35913a0bee60e8741cb2b4e78b8a98ee5ff2e6a17...     0.600000   \n",
       "ffffd7744cebcf3aca44ae7049d2a94b87074c3d4ffe38b...     0.857143   \n",
       "ffffd9ac14e89946416d80e791d064701994755c3ab686a...     0.717700   \n",
       "\n",
       "                                                    cohort_prob_A  \\\n",
       "customer_id                                                         \n",
       "00000dbacae5abe5e23885899a1fa44253a17956c6d1c3d...       0.750000   \n",
       "0000423b00ade91418cceaf3b26c6af3dd342b51fd051ee...       0.114286   \n",
       "000058a12d5b43e67d225668fa1f8d618c13dc232df0cad...       0.357143   \n",
       "00005ca1c9ed5f5146b52ac8639a40ca9d57aeff4d1bd2c...       0.418400   \n",
       "00006413d8573cd20ed7128e53b7b13819fe5cfc2d801fe...       0.444444   \n",
       "...                                                           ...   \n",
       "ffffbbf78b6eaac697a8a5dfbfd2bfa8113ee5b403e4747...       0.071429   \n",
       "ffffcd5046a6143d29a04fb8c424ce494a76e5cdf4fab53...       0.142857   \n",
       "ffffcf35913a0bee60e8741cb2b4e78b8a98ee5ff2e6a17...       0.400000   \n",
       "ffffd7744cebcf3aca44ae7049d2a94b87074c3d4ffe38b...       0.000000   \n",
       "ffffd9ac14e89946416d80e791d064701994755c3ab686a...       0.000000   \n",
       "\n",
       "                                                    cohort_prob_B  \\\n",
       "customer_id                                                         \n",
       "00000dbacae5abe5e23885899a1fa44253a17956c6d1c3d...       0.000000   \n",
       "0000423b00ade91418cceaf3b26c6af3dd342b51fd051ee...       0.628571   \n",
       "000058a12d5b43e67d225668fa1f8d618c13dc232df0cad...       0.214286   \n",
       "00005ca1c9ed5f5146b52ac8639a40ca9d57aeff4d1bd2c...       0.182654   \n",
       "00006413d8573cd20ed7128e53b7b13819fe5cfc2d801fe...       0.333333   \n",
       "...                                                           ...   \n",
       "ffffbbf78b6eaac697a8a5dfbfd2bfa8113ee5b403e4747...       0.642857   \n",
       "ffffcd5046a6143d29a04fb8c424ce494a76e5cdf4fab53...       0.142857   \n",
       "ffffcf35913a0bee60e8741cb2b4e78b8a98ee5ff2e6a17...       0.000000   \n",
       "ffffd7744cebcf3aca44ae7049d2a94b87074c3d4ffe38b...       0.428571   \n",
       "ffffd9ac14e89946416d80e791d064701994755c3ab686a...       0.000000   \n",
       "\n",
       "                                                    cohort_prob_C  \\\n",
       "customer_id                                                         \n",
       "00000dbacae5abe5e23885899a1fa44253a17956c6d1c3d...       0.000000   \n",
       "0000423b00ade91418cceaf3b26c6af3dd342b51fd051ee...       0.000000   \n",
       "000058a12d5b43e67d225668fa1f8d618c13dc232df0cad...       0.000000   \n",
       "00005ca1c9ed5f5146b52ac8639a40ca9d57aeff4d1bd2c...       0.056661   \n",
       "00006413d8573cd20ed7128e53b7b13819fe5cfc2d801fe...       0.000000   \n",
       "...                                                           ...   \n",
       "ffffbbf78b6eaac697a8a5dfbfd2bfa8113ee5b403e4747...       0.107143   \n",
       "ffffcd5046a6143d29a04fb8c424ce494a76e5cdf4fab53...       0.035714   \n",
       "ffffcf35913a0bee60e8741cb2b4e78b8a98ee5ff2e6a17...       0.000000   \n",
       "ffffd7744cebcf3aca44ae7049d2a94b87074c3d4ffe38b...       0.000000   \n",
       "ffffd9ac14e89946416d80e791d064701994755c3ab686a...       1.000000   \n",
       "\n",
       "                                                    cohort_prob_D  \\\n",
       "customer_id                                                         \n",
       "00000dbacae5abe5e23885899a1fa44253a17956c6d1c3d...       0.083333   \n",
       "0000423b00ade91418cceaf3b26c6af3dd342b51fd051ee...       0.114286   \n",
       "000058a12d5b43e67d225668fa1f8d618c13dc232df0cad...       0.071429   \n",
       "00005ca1c9ed5f5146b52ac8639a40ca9d57aeff4d1bd2c...       0.221542   \n",
       "00006413d8573cd20ed7128e53b7b13819fe5cfc2d801fe...       0.000000   \n",
       "...                                                           ...   \n",
       "ffffbbf78b6eaac697a8a5dfbfd2bfa8113ee5b403e4747...       0.000000   \n",
       "ffffcd5046a6143d29a04fb8c424ce494a76e5cdf4fab53...       0.535714   \n",
       "ffffcf35913a0bee60e8741cb2b4e78b8a98ee5ff2e6a17...       0.333333   \n",
       "ffffd7744cebcf3aca44ae7049d2a94b87074c3d4ffe38b...       0.571429   \n",
       "ffffd9ac14e89946416d80e791d064701994755c3ab686a...       0.000000   \n",
       "\n",
       "                                                    cohort_prob_F  \\\n",
       "customer_id                                                         \n",
       "00000dbacae5abe5e23885899a1fa44253a17956c6d1c3d...       0.000000   \n",
       "0000423b00ade91418cceaf3b26c6af3dd342b51fd051ee...       0.000000   \n",
       "000058a12d5b43e67d225668fa1f8d618c13dc232df0cad...       0.285714   \n",
       "00005ca1c9ed5f5146b52ac8639a40ca9d57aeff4d1bd2c...       0.056899   \n",
       "00006413d8573cd20ed7128e53b7b13819fe5cfc2d801fe...       0.000000   \n",
       "...                                                           ...   \n",
       "ffffbbf78b6eaac697a8a5dfbfd2bfa8113ee5b403e4747...       0.035714   \n",
       "ffffcd5046a6143d29a04fb8c424ce494a76e5cdf4fab53...       0.017857   \n",
       "ffffcf35913a0bee60e8741cb2b4e78b8a98ee5ff2e6a17...       0.266667   \n",
       "ffffd7744cebcf3aca44ae7049d2a94b87074c3d4ffe38b...       0.000000   \n",
       "ffffd9ac14e89946416d80e791d064701994755c3ab686a...       0.000000   \n",
       "\n",
       "                                                    cohort_prob_G  \\\n",
       "customer_id                                                         \n",
       "00000dbacae5abe5e23885899a1fa44253a17956c6d1c3d...       0.000000   \n",
       "0000423b00ade91418cceaf3b26c6af3dd342b51fd051ee...       0.114286   \n",
       "000058a12d5b43e67d225668fa1f8d618c13dc232df0cad...       0.000000   \n",
       "00005ca1c9ed5f5146b52ac8639a40ca9d57aeff4d1bd2c...       0.006194   \n",
       "00006413d8573cd20ed7128e53b7b13819fe5cfc2d801fe...       0.000000   \n",
       "...                                                           ...   \n",
       "ffffbbf78b6eaac697a8a5dfbfd2bfa8113ee5b403e4747...       0.000000   \n",
       "ffffcd5046a6143d29a04fb8c424ce494a76e5cdf4fab53...       0.071429   \n",
       "ffffcf35913a0bee60e8741cb2b4e78b8a98ee5ff2e6a17...       0.000000   \n",
       "ffffd7744cebcf3aca44ae7049d2a94b87074c3d4ffe38b...       0.000000   \n",
       "ffffd9ac14e89946416d80e791d064701994755c3ab686a...       0.000000   \n",
       "\n",
       "                                                    cohort_prob_H  ...  FN_0  \\\n",
       "customer_id                                                        ...         \n",
       "00000dbacae5abe5e23885899a1fa44253a17956c6d1c3d...       0.000000  ...     1   \n",
       "0000423b00ade91418cceaf3b26c6af3dd342b51fd051ee...       0.000000  ...     1   \n",
       "000058a12d5b43e67d225668fa1f8d618c13dc232df0cad...       0.000000  ...     1   \n",
       "00005ca1c9ed5f5146b52ac8639a40ca9d57aeff4d1bd2c...       0.005264  ...     1   \n",
       "00006413d8573cd20ed7128e53b7b13819fe5cfc2d801fe...       0.000000  ...     0   \n",
       "...                                                           ...  ...   ...   \n",
       "ffffbbf78b6eaac697a8a5dfbfd2bfa8113ee5b403e4747...       0.000000  ...     1   \n",
       "ffffcd5046a6143d29a04fb8c424ce494a76e5cdf4fab53...       0.017857  ...     1   \n",
       "ffffcf35913a0bee60e8741cb2b4e78b8a98ee5ff2e6a17...       0.000000  ...     0   \n",
       "ffffd7744cebcf3aca44ae7049d2a94b87074c3d4ffe38b...       0.000000  ...     0   \n",
       "ffffd9ac14e89946416d80e791d064701994755c3ab686a...       0.000000  ...     1   \n",
       "\n",
       "                                                    FN_1  Active_0  Active_1  \\\n",
       "customer_id                                                                    \n",
       "00000dbacae5abe5e23885899a1fa44253a17956c6d1c3d...     0         1         0   \n",
       "0000423b00ade91418cceaf3b26c6af3dd342b51fd051ee...     0         1         0   \n",
       "000058a12d5b43e67d225668fa1f8d618c13dc232df0cad...     0         1         0   \n",
       "00005ca1c9ed5f5146b52ac8639a40ca9d57aeff4d1bd2c...     0         1         0   \n",
       "00006413d8573cd20ed7128e53b7b13819fe5cfc2d801fe...     1         0         1   \n",
       "...                                                  ...       ...       ...   \n",
       "ffffbbf78b6eaac697a8a5dfbfd2bfa8113ee5b403e4747...     0         1         0   \n",
       "ffffcd5046a6143d29a04fb8c424ce494a76e5cdf4fab53...     0         1         0   \n",
       "ffffcf35913a0bee60e8741cb2b4e78b8a98ee5ff2e6a17...     1         0         1   \n",
       "ffffd7744cebcf3aca44ae7049d2a94b87074c3d4ffe38b...     1         0         1   \n",
       "ffffd9ac14e89946416d80e791d064701994755c3ab686a...     0         1         0   \n",
       "\n",
       "                                                    club_member_status_0  \\\n",
       "customer_id                                                                \n",
       "00000dbacae5abe5e23885899a1fa44253a17956c6d1c3d...                     0   \n",
       "0000423b00ade91418cceaf3b26c6af3dd342b51fd051ee...                     0   \n",
       "000058a12d5b43e67d225668fa1f8d618c13dc232df0cad...                     0   \n",
       "00005ca1c9ed5f5146b52ac8639a40ca9d57aeff4d1bd2c...                     0   \n",
       "00006413d8573cd20ed7128e53b7b13819fe5cfc2d801fe...                     0   \n",
       "...                                                                  ...   \n",
       "ffffbbf78b6eaac697a8a5dfbfd2bfa8113ee5b403e4747...                     0   \n",
       "ffffcd5046a6143d29a04fb8c424ce494a76e5cdf4fab53...                     0   \n",
       "ffffcf35913a0bee60e8741cb2b4e78b8a98ee5ff2e6a17...                     0   \n",
       "ffffd7744cebcf3aca44ae7049d2a94b87074c3d4ffe38b...                     0   \n",
       "ffffd9ac14e89946416d80e791d064701994755c3ab686a...                     1   \n",
       "\n",
       "                                                    club_member_status_1  \\\n",
       "customer_id                                                                \n",
       "00000dbacae5abe5e23885899a1fa44253a17956c6d1c3d...                     1   \n",
       "0000423b00ade91418cceaf3b26c6af3dd342b51fd051ee...                     1   \n",
       "000058a12d5b43e67d225668fa1f8d618c13dc232df0cad...                     1   \n",
       "00005ca1c9ed5f5146b52ac8639a40ca9d57aeff4d1bd2c...                     1   \n",
       "00006413d8573cd20ed7128e53b7b13819fe5cfc2d801fe...                     1   \n",
       "...                                                                  ...   \n",
       "ffffbbf78b6eaac697a8a5dfbfd2bfa8113ee5b403e4747...                     1   \n",
       "ffffcd5046a6143d29a04fb8c424ce494a76e5cdf4fab53...                     1   \n",
       "ffffcf35913a0bee60e8741cb2b4e78b8a98ee5ff2e6a17...                     1   \n",
       "ffffd7744cebcf3aca44ae7049d2a94b87074c3d4ffe38b...                     1   \n",
       "ffffd9ac14e89946416d80e791d064701994755c3ab686a...                     0   \n",
       "\n",
       "                                                    fashion_news_frequency_0  \\\n",
       "customer_id                                                                    \n",
       "00000dbacae5abe5e23885899a1fa44253a17956c6d1c3d...                         1   \n",
       "0000423b00ade91418cceaf3b26c6af3dd342b51fd051ee...                         1   \n",
       "000058a12d5b43e67d225668fa1f8d618c13dc232df0cad...                         1   \n",
       "00005ca1c9ed5f5146b52ac8639a40ca9d57aeff4d1bd2c...                         1   \n",
       "00006413d8573cd20ed7128e53b7b13819fe5cfc2d801fe...                         0   \n",
       "...                                                                      ...   \n",
       "ffffbbf78b6eaac697a8a5dfbfd2bfa8113ee5b403e4747...                         1   \n",
       "ffffcd5046a6143d29a04fb8c424ce494a76e5cdf4fab53...                         1   \n",
       "ffffcf35913a0bee60e8741cb2b4e78b8a98ee5ff2e6a17...                         0   \n",
       "ffffd7744cebcf3aca44ae7049d2a94b87074c3d4ffe38b...                         0   \n",
       "ffffd9ac14e89946416d80e791d064701994755c3ab686a...                         1   \n",
       "\n",
       "                                                    fashion_news_frequency_1  \\\n",
       "customer_id                                                                    \n",
       "00000dbacae5abe5e23885899a1fa44253a17956c6d1c3d...                         0   \n",
       "0000423b00ade91418cceaf3b26c6af3dd342b51fd051ee...                         0   \n",
       "000058a12d5b43e67d225668fa1f8d618c13dc232df0cad...                         0   \n",
       "00005ca1c9ed5f5146b52ac8639a40ca9d57aeff4d1bd2c...                         0   \n",
       "00006413d8573cd20ed7128e53b7b13819fe5cfc2d801fe...                         1   \n",
       "...                                                                      ...   \n",
       "ffffbbf78b6eaac697a8a5dfbfd2bfa8113ee5b403e4747...                         0   \n",
       "ffffcd5046a6143d29a04fb8c424ce494a76e5cdf4fab53...                         0   \n",
       "ffffcf35913a0bee60e8741cb2b4e78b8a98ee5ff2e6a17...                         1   \n",
       "ffffd7744cebcf3aca44ae7049d2a94b87074c3d4ffe38b...                         1   \n",
       "ffffd9ac14e89946416d80e791d064701994755c3ab686a...                         0   \n",
       "\n",
       "                                                    is_cold_0  is_cold_1  \n",
       "customer_id                                                               \n",
       "00000dbacae5abe5e23885899a1fa44253a17956c6d1c3d...          1          0  \n",
       "0000423b00ade91418cceaf3b26c6af3dd342b51fd051ee...          1          0  \n",
       "000058a12d5b43e67d225668fa1f8d618c13dc232df0cad...          1          0  \n",
       "00005ca1c9ed5f5146b52ac8639a40ca9d57aeff4d1bd2c...          0          1  \n",
       "00006413d8573cd20ed7128e53b7b13819fe5cfc2d801fe...          1          0  \n",
       "...                                                       ...        ...  \n",
       "ffffbbf78b6eaac697a8a5dfbfd2bfa8113ee5b403e4747...          1          0  \n",
       "ffffcd5046a6143d29a04fb8c424ce494a76e5cdf4fab53...          1          0  \n",
       "ffffcf35913a0bee60e8741cb2b4e78b8a98ee5ff2e6a17...          1          0  \n",
       "ffffd7744cebcf3aca44ae7049d2a94b87074c3d4ffe38b...          1          0  \n",
       "ffffd9ac14e89946416d80e791d064701994755c3ab686a...          0          1  \n",
       "\n",
       "[1371980 rows x 47 columns]"
      ]
     },
     "execution_count": 76,
     "metadata": {},
     "output_type": "execute_result"
    }
   ],
   "source": [
    "df_user_feature"
   ]
  },
  {
   "cell_type": "markdown",
   "metadata": {},
   "source": [
    "정리해서 저장"
   ]
  },
  {
   "cell_type": "code",
   "execution_count": 77,
   "metadata": {},
   "outputs": [
    {
     "name": "stdout",
     "output_type": "stream",
     "text": [
      "CPU times: user 2.49 s, sys: 292 ms, total: 2.79 s\n",
      "Wall time: 2.22 s\n"
     ]
    }
   ],
   "source": [
    "%%time\n",
    "df_user_feature.to_parquet(f'{DATA_ROOT}/df_user_feature_{DNAME}.pq')"
   ]
  },
  {
   "cell_type": "markdown",
   "metadata": {},
   "source": [
    "last active week는 좀 특별 취급"
   ]
  },
  {
   "cell_type": "code",
   "execution_count": 78,
   "metadata": {},
   "outputs": [],
   "source": [
    "uid2law = {}\n",
    "for uid, law in df_user_feature[['last_active_week']].reset_index().values:\n",
    "    uid2law[uid] = law\n",
    "df_user_feature.drop(columns=['last_active_week'], inplace=True)"
   ]
  },
  {
   "cell_type": "code",
   "execution_count": 79,
   "metadata": {},
   "outputs": [],
   "source": [
    "with open(f'{DATA_ROOT}/uid2law_{DNAME}.pkl', 'wb') as fp:\n",
    "    pickle.dump(uid2law, fp)"
   ]
  },
  {
   "cell_type": "code",
   "execution_count": 80,
   "metadata": {},
   "outputs": [],
   "source": [
    "del uid2law"
   ]
  },
  {
   "cell_type": "markdown",
   "metadata": {},
   "source": [
    "feature인 상태로 저장"
   ]
  },
  {
   "cell_type": "code",
   "execution_count": 81,
   "metadata": {},
   "outputs": [],
   "source": [
    "uid2feature = {}\n",
    "for row in df_user_feature.reset_index().values:\n",
    "    uid = row[0]\n",
    "    feature = tuple(row[1:])\n",
    "    uid2feature[uid] = feature"
   ]
  },
  {
   "cell_type": "code",
   "execution_count": 82,
   "metadata": {},
   "outputs": [],
   "source": [
    "with open(f'{DATA_ROOT}/uid2feature_{DNAME}.pkl', 'wb') as fp:\n",
    "    pickle.dump(uid2feature, fp)"
   ]
  },
  {
   "cell_type": "code",
   "execution_count": 83,
   "metadata": {},
   "outputs": [],
   "source": [
    "del uid2feature"
   ]
  },
  {
   "cell_type": "markdown",
   "metadata": {},
   "source": [
    "agg 없는 버전도 따로 만들어서 저장 (나중에 추가한 코드라 약간 일관성이 떨어짐ㅎㅎ)\n",
    "\n",
    "근데 생각해보니 online과 price는... 너무 중요한 feature고 근데 트랜잭션 정보를 inference 타임에 활용할수가 없으니까; 그냥 알고 있다고 가정하는게 맞는것 같더라구.. 그래서 걔네들은 살림ㅇㅇ.."
   ]
  },
  {
   "cell_type": "code",
   "execution_count": 84,
   "metadata": {},
   "outputs": [],
   "source": [
    "noagg_fields = [\n",
    "    'age_gmm_1',\n",
    "    'age_gmm_2',\n",
    "    'FN_0',\n",
    "    'FN_1',\n",
    "    'Active_0',\n",
    "    'Active_1',\n",
    "    'club_member_status_0',\n",
    "    'club_member_status_1',\n",
    "    'fashion_news_frequency_0',\n",
    "    'fashion_news_frequency_1',\n",
    "    'avg_price',\n",
    "    'online_prob',\n",
    "]"
   ]
  },
  {
   "cell_type": "code",
   "execution_count": 85,
   "metadata": {},
   "outputs": [],
   "source": [
    "df_user_feature_noagg = df_user_feature[noagg_fields]"
   ]
  },
  {
   "cell_type": "code",
   "execution_count": 86,
   "metadata": {},
   "outputs": [],
   "source": [
    "uid2feature_noagg = {}\n",
    "for row in df_user_feature_noagg.reset_index().values:\n",
    "    uid = row[0]\n",
    "    feature = tuple(row[1:])\n",
    "    uid2feature_noagg[uid] = feature"
   ]
  },
  {
   "cell_type": "code",
   "execution_count": 87,
   "metadata": {},
   "outputs": [],
   "source": [
    "with open(f'{DATA_ROOT}/uid2feature_noagg_{DNAME}.pkl', 'wb') as fp:\n",
    "    pickle.dump(uid2feature_noagg, fp)"
   ]
  },
  {
   "cell_type": "code",
   "execution_count": 88,
   "metadata": {},
   "outputs": [],
   "source": [
    "del uid2feature_noagg"
   ]
  },
  {
   "cell_type": "code",
   "execution_count": 89,
   "metadata": {},
   "outputs": [],
   "source": [
    "del df_user_feature_noagg\n",
    "del df_user_feature"
   ]
  }
 ],
 "metadata": {
  "kernelspec": {
   "display_name": "Python 3",
   "language": "python",
   "name": "python3"
  },
  "language_info": {
   "codemirror_mode": {
    "name": "ipython",
    "version": 3
   },
   "file_extension": ".py",
   "mimetype": "text/x-python",
   "name": "python",
   "nbconvert_exporter": "python",
   "pygments_lexer": "ipython3",
   "version": "3.8.5"
  }
 },
 "nbformat": 4,
 "nbformat_minor": 4
}
