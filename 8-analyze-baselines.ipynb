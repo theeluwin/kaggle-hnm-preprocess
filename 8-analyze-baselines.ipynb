{
 "cells": [
  {
   "cell_type": "markdown",
   "metadata": {},
   "source": [
    "# 1. 데이터 로드"
   ]
  },
  {
   "cell_type": "markdown",
   "metadata": {},
   "source": [
    "### 주요 import 할것들 미리 해두기 (나머지는 그때그때)"
   ]
  },
  {
   "cell_type": "code",
   "execution_count": 1,
   "metadata": {},
   "outputs": [],
   "source": [
    "import os\n",
    "import pickle\n",
    "\n",
    "import numpy as np\n",
    "import pandas as pd\n",
    "import matplotlib.pyplot as plt\n",
    "\n",
    "from datetime import datetime as dt\n",
    "from datetime import timedelta as td\n",
    "\n",
    "from tqdm.notebook import tqdm"
   ]
  },
  {
   "cell_type": "code",
   "execution_count": 2,
   "metadata": {},
   "outputs": [],
   "source": [
    "import utils"
   ]
  },
  {
   "cell_type": "markdown",
   "metadata": {},
   "source": [
    "### 경로 등 global config 설정"
   ]
  },
  {
   "cell_type": "code",
   "execution_count": 3,
   "metadata": {},
   "outputs": [],
   "source": [
    "RAW_ROOT = 'raw'\n",
    "DATA_ROOT = 'data'"
   ]
  },
  {
   "cell_type": "markdown",
   "metadata": {},
   "source": [
    "### 각종 데이터 불러오기"
   ]
  },
  {
   "cell_type": "code",
   "execution_count": 4,
   "metadata": {},
   "outputs": [
    {
     "name": "stdout",
     "output_type": "stream",
     "text": [
      "CPU times: user 29.2 s, sys: 53 s, total: 1min 22s\n",
      "Wall time: 1min 24s\n"
     ]
    }
   ],
   "source": [
    "%%time\n",
    "df_user_CV = pd.read_parquet(f'{DATA_ROOT}/df_user_aggregated_CV.pq')\n",
    "df_user_LB = pd.read_parquet(f'{DATA_ROOT}/df_user_aggregated_LB.pq')\n",
    "df_item_CV = pd.read_parquet(f'{DATA_ROOT}/df_item_aggregated_CV.pq')\n",
    "df_item_LB = pd.read_parquet(f'{DATA_ROOT}/df_item_aggregated_LB.pq')\n",
    "df_log_all = pd.read_parquet(f'{DATA_ROOT}/df_log_preprocessed.pq')\n",
    "df_log_CV = utils.get_df_log_of(df_log_all, 'CV')\n",
    "df_log_LB = utils.get_df_log_of(df_log_all, 'LB')"
   ]
  },
  {
   "cell_type": "code",
   "execution_count": 5,
   "metadata": {},
   "outputs": [],
   "source": [
    "del df_log_all"
   ]
  },
  {
   "cell_type": "markdown",
   "metadata": {},
   "source": [
    "---"
   ]
  },
  {
   "cell_type": "markdown",
   "metadata": {},
   "source": [
    "# 2. CV 테스트 환경 및 서브밋 환경"
   ]
  },
  {
   "cell_type": "markdown",
   "metadata": {},
   "source": [
    "### CV 테스트 정답셋"
   ]
  },
  {
   "cell_type": "code",
   "execution_count": 6,
   "metadata": {},
   "outputs": [
    {
     "name": "stdout",
     "output_type": "stream",
     "text": [
      "CPU times: user 4.87 s, sys: 5.81 s, total: 10.7 s\n",
      "Wall time: 10.8 s\n"
     ]
    }
   ],
   "source": [
    "%%time\n",
    "df_log_CV_test = df_log_CV[df_log_CV['target'] == 'test']\n",
    "df_log_CV_train_valid = df_log_CV[df_log_CV['target'] != 'test']"
   ]
  },
  {
   "cell_type": "code",
   "execution_count": 7,
   "metadata": {},
   "outputs": [],
   "source": [
    "uid2aiidset_CV = {}"
   ]
  },
  {
   "cell_type": "code",
   "execution_count": 8,
   "metadata": {},
   "outputs": [
    {
     "name": "stdout",
     "output_type": "stream",
     "text": [
      "CPU times: user 638 ms, sys: 20.3 ms, total: 658 ms\n",
      "Wall time: 690 ms\n"
     ]
    }
   ],
   "source": [
    "%%time\n",
    "for row in df_log_CV_test[['customer_id', 'article_id']].itertuples():\n",
    "    _, uid, iid = row\n",
    "    if uid not in uid2aiidset_CV:\n",
    "        uid2aiidset_CV[uid] = set()\n",
    "    uid2aiidset_CV[uid].add(iid)"
   ]
  },
  {
   "cell_type": "markdown",
   "metadata": {},
   "source": [
    "# 3. Recent Week Popular 분석"
   ]
  },
  {
   "cell_type": "markdown",
   "metadata": {},
   "source": [
    "### CV 버전"
   ]
  },
  {
   "cell_type": "markdown",
   "metadata": {},
   "source": [
    "4-week best"
   ]
  },
  {
   "cell_type": "code",
   "execution_count": 9,
   "metadata": {},
   "outputs": [],
   "source": [
    "df_resource_CV = pd.read_csv('data/resources/RWP_WC4_CV.csv')"
   ]
  },
  {
   "cell_type": "code",
   "execution_count": 10,
   "metadata": {},
   "outputs": [],
   "source": [
    "df_resource_CV.set_index('customer_id', inplace=True)"
   ]
  },
  {
   "cell_type": "code",
   "execution_count": 11,
   "metadata": {},
   "outputs": [],
   "source": [
    "APs = []\n",
    "for uid, aiidset in uid2aiidset_CV.items():\n",
    "    prediction = df_resource_CV.loc[uid, 'prediction'].split(' ')\n",
    "    AP = utils.calc_ap(aiidset, prediction)\n",
    "    APs.append(AP)\n",
    "APs = np.array(APs)"
   ]
  },
  {
   "cell_type": "markdown",
   "metadata": {},
   "source": [
    "분포 눈으로 확인"
   ]
  },
  {
   "cell_type": "code",
   "execution_count": 12,
   "metadata": {},
   "outputs": [
    {
     "data": {
      "text/plain": [
       "<AxesSubplot:ylabel='Frequency'>"
      ]
     },
     "execution_count": 12,
     "metadata": {},
     "output_type": "execute_result"
    },
    {
     "data": {
      "image/png": "[encoded data removed]",
      "text/plain": [
       "<Figure size 432x288 with 1 Axes>"
      ]
     },
     "metadata": {
      "needs_background": "light"
     },
     "output_type": "display_data"
    }
   ],
   "source": [
    "pd.Series(APs).plot.hist(bins=20)"
   ]
  },
  {
   "cell_type": "markdown",
   "metadata": {},
   "source": [
    "percentile로 정확히 짚기"
   ]
  },
  {
   "cell_type": "code",
   "execution_count": 13,
   "metadata": {},
   "outputs": [
    {
     "data": {
      "text/plain": [
       "0.0"
      ]
     },
     "execution_count": 13,
     "metadata": {},
     "output_type": "execute_result"
    }
   ],
   "source": [
    "np.percentile(APs, 90)"
   ]
  },
  {
   "cell_type": "markdown",
   "metadata": {},
   "source": [
    "알고보니 0점과 아닌것만 나누면 되는거임ㅋㅋ\n",
    "\n",
    "다시 정확하게 분석하자 이제..."
   ]
  },
  {
   "cell_type": "code",
   "execution_count": 14,
   "metadata": {},
   "outputs": [
    {
     "name": "stdout",
     "output_type": "stream",
     "text": [
      "0점이 아닌 사람 :5984\n",
      "0점인 사람: 93105\n"
     ]
    }
   ],
   "source": [
    "uids_pos = []\n",
    "uids_neg = []\n",
    "for uid, aiidset in uid2aiidset_CV.items():\n",
    "    prediction = df_resource_CV.loc[uid, 'prediction'].split(' ')\n",
    "    AP = utils.calc_ap(aiidset, prediction)\n",
    "    if AP:\n",
    "        uids_pos.append(uid)\n",
    "    else:\n",
    "        uids_neg.append(uid)\n",
    "print(f\"0점이 아닌 사람 :{len(uids_pos)}\")\n",
    "print(f\"0점인 사람: {len(uids_neg)}\")"
   ]
  },
  {
   "cell_type": "markdown",
   "metadata": {},
   "source": [
    "트리 학습"
   ]
  },
  {
   "cell_type": "code",
   "execution_count": 15,
   "metadata": {},
   "outputs": [],
   "source": [
    "from sklearn.tree import DecisionTreeClassifier"
   ]
  },
  {
   "cell_type": "code",
   "execution_count": 16,
   "metadata": {},
   "outputs": [],
   "source": [
    "df_user_feature = pd.read_parquet(f'{DATA_ROOT}/df_user_feature_CV.pq')"
   ]
  },
  {
   "cell_type": "code",
   "execution_count": 17,
   "metadata": {},
   "outputs": [],
   "source": [
    "df_user_feature = df_user_feature[df_user_feature.index.isin(uids_pos + uids_neg)]"
   ]
  },
  {
   "cell_type": "code",
   "execution_count": 18,
   "metadata": {},
   "outputs": [],
   "source": [
    "labels = [1] * len(uids_pos) + [0] * len(uids_neg)"
   ]
  },
  {
   "cell_type": "code",
   "execution_count": 19,
   "metadata": {},
   "outputs": [],
   "source": [
    "clf = DecisionTreeClassifier()\n",
    "clf = clf.fit(df_user_feature, labels)"
   ]
  },
  {
   "cell_type": "markdown",
   "metadata": {},
   "source": [
    "트리 결과 분석"
   ]
  },
  {
   "cell_type": "code",
   "execution_count": 20,
   "metadata": {},
   "outputs": [],
   "source": [
    "temp_rows = []\n",
    "for column, importance in zip(df_user_feature.columns, clf.feature_importances_):\n",
    "    temp_rows.append((column, importance))\n",
    "df_temp = pd.DataFrame(temp_rows)\n",
    "df_temp.columns = ['feature', 'importance']"
   ]
  },
  {
   "cell_type": "code",
   "execution_count": 21,
   "metadata": {},
   "outputs": [
    {
     "data": {
      "text/html": [
       "<div>\n",
       "<style scoped>\n",
       "    .dataframe tbody tr th:only-of-type {\n",
       "        vertical-align: middle;\n",
       "    }\n",
       "\n",
       "    .dataframe tbody tr th {\n",
       "        vertical-align: top;\n",
       "    }\n",
       "\n",
       "    .dataframe thead th {\n",
       "        text-align: right;\n",
       "    }\n",
       "</style>\n",
       "<table border=\"1\" class=\"dataframe\">\n",
       "  <thead>\n",
       "    <tr style=\"text-align: right;\">\n",
       "      <th></th>\n",
       "      <th>feature</th>\n",
       "      <th>importance</th>\n",
       "    </tr>\n",
       "  </thead>\n",
       "  <tbody>\n",
       "    <tr>\n",
       "      <th>28</th>\n",
       "      <td>avg_price</td>\n",
       "      <td>0.075341</td>\n",
       "    </tr>\n",
       "    <tr>\n",
       "      <th>31</th>\n",
       "      <td>last_active_week</td>\n",
       "      <td>0.050235</td>\n",
       "    </tr>\n",
       "    <tr>\n",
       "      <th>30</th>\n",
       "      <td>log_transaction_count</td>\n",
       "      <td>0.046860</td>\n",
       "    </tr>\n",
       "    <tr>\n",
       "      <th>10</th>\n",
       "      <td>garment_prob_1005</td>\n",
       "      <td>0.044853</td>\n",
       "    </tr>\n",
       "    <tr>\n",
       "      <th>14</th>\n",
       "      <td>garment_prob_1009</td>\n",
       "      <td>0.042730</td>\n",
       "    </tr>\n",
       "    <tr>\n",
       "      <th>4</th>\n",
       "      <td>cohort_prob_1</td>\n",
       "      <td>0.040654</td>\n",
       "    </tr>\n",
       "    <tr>\n",
       "      <th>2</th>\n",
       "      <td>online_prob</td>\n",
       "      <td>0.040030</td>\n",
       "    </tr>\n",
       "    <tr>\n",
       "      <th>5</th>\n",
       "      <td>cohort_prob_2</td>\n",
       "      <td>0.039317</td>\n",
       "    </tr>\n",
       "    <tr>\n",
       "      <th>15</th>\n",
       "      <td>garment_prob_1010</td>\n",
       "      <td>0.038837</td>\n",
       "    </tr>\n",
       "    <tr>\n",
       "      <th>8</th>\n",
       "      <td>garment_prob_1002</td>\n",
       "      <td>0.038256</td>\n",
       "    </tr>\n",
       "    <tr>\n",
       "      <th>21</th>\n",
       "      <td>garment_prob_1017</td>\n",
       "      <td>0.037982</td>\n",
       "    </tr>\n",
       "    <tr>\n",
       "      <th>9</th>\n",
       "      <td>garment_prob_1003</td>\n",
       "      <td>0.037884</td>\n",
       "    </tr>\n",
       "    <tr>\n",
       "      <th>0</th>\n",
       "      <td>age_gmm_1</td>\n",
       "      <td>0.036667</td>\n",
       "    </tr>\n",
       "    <tr>\n",
       "      <th>22</th>\n",
       "      <td>garment_prob_1018</td>\n",
       "      <td>0.036261</td>\n",
       "    </tr>\n",
       "    <tr>\n",
       "      <th>18</th>\n",
       "      <td>garment_prob_1013</td>\n",
       "      <td>0.035399</td>\n",
       "    </tr>\n",
       "    <tr>\n",
       "      <th>1</th>\n",
       "      <td>age_gmm_2</td>\n",
       "      <td>0.034523</td>\n",
       "    </tr>\n",
       "    <tr>\n",
       "      <th>20</th>\n",
       "      <td>garment_prob_1016</td>\n",
       "      <td>0.031739</td>\n",
       "    </tr>\n",
       "    <tr>\n",
       "      <th>12</th>\n",
       "      <td>garment_prob_1007</td>\n",
       "      <td>0.027766</td>\n",
       "    </tr>\n",
       "    <tr>\n",
       "      <th>23</th>\n",
       "      <td>garment_prob_1019</td>\n",
       "      <td>0.026800</td>\n",
       "    </tr>\n",
       "    <tr>\n",
       "      <th>24</th>\n",
       "      <td>garment_prob_1020</td>\n",
       "      <td>0.024753</td>\n",
       "    </tr>\n",
       "    <tr>\n",
       "      <th>27</th>\n",
       "      <td>garment_prob_1025</td>\n",
       "      <td>0.023599</td>\n",
       "    </tr>\n",
       "    <tr>\n",
       "      <th>3</th>\n",
       "      <td>cohort_prob_0</td>\n",
       "      <td>0.023156</td>\n",
       "    </tr>\n",
       "    <tr>\n",
       "      <th>17</th>\n",
       "      <td>garment_prob_1012</td>\n",
       "      <td>0.022459</td>\n",
       "    </tr>\n",
       "    <tr>\n",
       "      <th>25</th>\n",
       "      <td>garment_prob_1021</td>\n",
       "      <td>0.021711</td>\n",
       "    </tr>\n",
       "    <tr>\n",
       "      <th>7</th>\n",
       "      <td>cohort_prob_4</td>\n",
       "      <td>0.020222</td>\n",
       "    </tr>\n",
       "  </tbody>\n",
       "</table>\n",
       "</div>"
      ],
      "text/plain": [
       "                  feature  importance\n",
       "28              avg_price    0.075341\n",
       "31       last_active_week    0.050235\n",
       "30  log_transaction_count    0.046860\n",
       "10      garment_prob_1005    0.044853\n",
       "14      garment_prob_1009    0.042730\n",
       "4           cohort_prob_1    0.040654\n",
       "2             online_prob    0.040030\n",
       "5           cohort_prob_2    0.039317\n",
       "15      garment_prob_1010    0.038837\n",
       "8       garment_prob_1002    0.038256\n",
       "21      garment_prob_1017    0.037982\n",
       "9       garment_prob_1003    0.037884\n",
       "0               age_gmm_1    0.036667\n",
       "22      garment_prob_1018    0.036261\n",
       "18      garment_prob_1013    0.035399\n",
       "1               age_gmm_2    0.034523\n",
       "20      garment_prob_1016    0.031739\n",
       "12      garment_prob_1007    0.027766\n",
       "23      garment_prob_1019    0.026800\n",
       "24      garment_prob_1020    0.024753\n",
       "27      garment_prob_1025    0.023599\n",
       "3           cohort_prob_0    0.023156\n",
       "17      garment_prob_1012    0.022459\n",
       "25      garment_prob_1021    0.021711\n",
       "7           cohort_prob_4    0.020222"
      ]
     },
     "execution_count": 21,
     "metadata": {},
     "output_type": "execute_result"
    }
   ],
   "source": [
    "df_temp[df_temp['importance'] > 0.02].sort_values('importance', ascending=False)"
   ]
  },
  {
   "cell_type": "markdown",
   "metadata": {},
   "source": [
    "리그레션도 한번 해보자"
   ]
  },
  {
   "cell_type": "code",
   "execution_count": 22,
   "metadata": {},
   "outputs": [],
   "source": [
    "from sklearn.linear_model import LogisticRegression"
   ]
  },
  {
   "cell_type": "code",
   "execution_count": 23,
   "metadata": {},
   "outputs": [],
   "source": [
    "clf = LogisticRegression(max_iter=1000).fit(df_user_feature, labels)"
   ]
  },
  {
   "cell_type": "markdown",
   "metadata": {},
   "source": [
    "리그레션 결과 분석"
   ]
  },
  {
   "cell_type": "code",
   "execution_count": 24,
   "metadata": {},
   "outputs": [],
   "source": [
    "temp_rows = []\n",
    "for column, coef in zip(df_user_feature.columns, clf.coef_[0]):\n",
    "    temp_rows.append((column, coef))\n",
    "df_temp = pd.DataFrame(temp_rows)\n",
    "df_temp.columns = ['feature', 'coef']"
   ]
  },
  {
   "cell_type": "code",
   "execution_count": 25,
   "metadata": {
    "scrolled": false
   },
   "outputs": [
    {
     "data": {
      "text/html": [
       "<div>\n",
       "<style scoped>\n",
       "    .dataframe tbody tr th:only-of-type {\n",
       "        vertical-align: middle;\n",
       "    }\n",
       "\n",
       "    .dataframe tbody tr th {\n",
       "        vertical-align: top;\n",
       "    }\n",
       "\n",
       "    .dataframe thead th {\n",
       "        text-align: right;\n",
       "    }\n",
       "</style>\n",
       "<table border=\"1\" class=\"dataframe\">\n",
       "  <thead>\n",
       "    <tr style=\"text-align: right;\">\n",
       "      <th></th>\n",
       "      <th>feature</th>\n",
       "      <th>coef</th>\n",
       "    </tr>\n",
       "  </thead>\n",
       "  <tbody>\n",
       "    <tr>\n",
       "      <th>1</th>\n",
       "      <td>age_gmm_2</td>\n",
       "      <td>0.665825</td>\n",
       "    </tr>\n",
       "    <tr>\n",
       "      <th>9</th>\n",
       "      <td>garment_prob_1003</td>\n",
       "      <td>0.300810</td>\n",
       "    </tr>\n",
       "    <tr>\n",
       "      <th>12</th>\n",
       "      <td>garment_prob_1007</td>\n",
       "      <td>0.211666</td>\n",
       "    </tr>\n",
       "    <tr>\n",
       "      <th>18</th>\n",
       "      <td>garment_prob_1013</td>\n",
       "      <td>0.200421</td>\n",
       "    </tr>\n",
       "    <tr>\n",
       "      <th>29</th>\n",
       "      <td>is_new</td>\n",
       "      <td>0.191631</td>\n",
       "    </tr>\n",
       "    <tr>\n",
       "      <th>7</th>\n",
       "      <td>cohort_prob_4</td>\n",
       "      <td>0.153230</td>\n",
       "    </tr>\n",
       "    <tr>\n",
       "      <th>27</th>\n",
       "      <td>garment_prob_1025</td>\n",
       "      <td>0.149469</td>\n",
       "    </tr>\n",
       "    <tr>\n",
       "      <th>25</th>\n",
       "      <td>garment_prob_1021</td>\n",
       "      <td>0.118190</td>\n",
       "    </tr>\n",
       "    <tr>\n",
       "      <th>8</th>\n",
       "      <td>garment_prob_1002</td>\n",
       "      <td>0.098793</td>\n",
       "    </tr>\n",
       "    <tr>\n",
       "      <th>22</th>\n",
       "      <td>garment_prob_1018</td>\n",
       "      <td>0.090837</td>\n",
       "    </tr>\n",
       "    <tr>\n",
       "      <th>16</th>\n",
       "      <td>garment_prob_1011</td>\n",
       "      <td>0.080224</td>\n",
       "    </tr>\n",
       "    <tr>\n",
       "      <th>11</th>\n",
       "      <td>garment_prob_1006</td>\n",
       "      <td>0.048759</td>\n",
       "    </tr>\n",
       "    <tr>\n",
       "      <th>2</th>\n",
       "      <td>online_prob</td>\n",
       "      <td>0.043950</td>\n",
       "    </tr>\n",
       "    <tr>\n",
       "      <th>3</th>\n",
       "      <td>cohort_prob_0</td>\n",
       "      <td>0.030385</td>\n",
       "    </tr>\n",
       "    <tr>\n",
       "      <th>14</th>\n",
       "      <td>garment_prob_1009</td>\n",
       "      <td>0.025526</td>\n",
       "    </tr>\n",
       "    <tr>\n",
       "      <th>15</th>\n",
       "      <td>garment_prob_1010</td>\n",
       "      <td>0.007906</td>\n",
       "    </tr>\n",
       "    <tr>\n",
       "      <th>31</th>\n",
       "      <td>last_active_week</td>\n",
       "      <td>0.003406</td>\n",
       "    </tr>\n",
       "    <tr>\n",
       "      <th>28</th>\n",
       "      <td>avg_price</td>\n",
       "      <td>-0.017505</td>\n",
       "    </tr>\n",
       "    <tr>\n",
       "      <th>30</th>\n",
       "      <td>log_transaction_count</td>\n",
       "      <td>-0.025050</td>\n",
       "    </tr>\n",
       "    <tr>\n",
       "      <th>33</th>\n",
       "      <td>FN_1</td>\n",
       "      <td>-0.037291</td>\n",
       "    </tr>\n",
       "    <tr>\n",
       "      <th>21</th>\n",
       "      <td>garment_prob_1017</td>\n",
       "      <td>-0.042580</td>\n",
       "    </tr>\n",
       "    <tr>\n",
       "      <th>13</th>\n",
       "      <td>garment_prob_1008</td>\n",
       "      <td>-0.066492</td>\n",
       "    </tr>\n",
       "    <tr>\n",
       "      <th>37</th>\n",
       "      <td>club_member_status_1</td>\n",
       "      <td>-0.071332</td>\n",
       "    </tr>\n",
       "    <tr>\n",
       "      <th>38</th>\n",
       "      <td>fashion_news_frequency_0</td>\n",
       "      <td>-0.074282</td>\n",
       "    </tr>\n",
       "    <tr>\n",
       "      <th>24</th>\n",
       "      <td>garment_prob_1020</td>\n",
       "      <td>-0.086187</td>\n",
       "    </tr>\n",
       "    <tr>\n",
       "      <th>34</th>\n",
       "      <td>Active_0</td>\n",
       "      <td>-0.121384</td>\n",
       "    </tr>\n",
       "    <tr>\n",
       "      <th>4</th>\n",
       "      <td>cohort_prob_1</td>\n",
       "      <td>-0.123162</td>\n",
       "    </tr>\n",
       "    <tr>\n",
       "      <th>40</th>\n",
       "      <td>is_cold_0</td>\n",
       "      <td>-0.138829</td>\n",
       "    </tr>\n",
       "    <tr>\n",
       "      <th>10</th>\n",
       "      <td>garment_prob_1005</td>\n",
       "      <td>-0.141880</td>\n",
       "    </tr>\n",
       "    <tr>\n",
       "      <th>20</th>\n",
       "      <td>garment_prob_1016</td>\n",
       "      <td>-0.162832</td>\n",
       "    </tr>\n",
       "    <tr>\n",
       "      <th>6</th>\n",
       "      <td>cohort_prob_3</td>\n",
       "      <td>-0.169600</td>\n",
       "    </tr>\n",
       "    <tr>\n",
       "      <th>41</th>\n",
       "      <td>is_cold_1</td>\n",
       "      <td>-0.190966</td>\n",
       "    </tr>\n",
       "    <tr>\n",
       "      <th>26</th>\n",
       "      <td>garment_prob_1023</td>\n",
       "      <td>-0.203599</td>\n",
       "    </tr>\n",
       "    <tr>\n",
       "      <th>35</th>\n",
       "      <td>Active_1</td>\n",
       "      <td>-0.208411</td>\n",
       "    </tr>\n",
       "    <tr>\n",
       "      <th>5</th>\n",
       "      <td>cohort_prob_2</td>\n",
       "      <td>-0.220647</td>\n",
       "    </tr>\n",
       "    <tr>\n",
       "      <th>39</th>\n",
       "      <td>fashion_news_frequency_1</td>\n",
       "      <td>-0.255512</td>\n",
       "    </tr>\n",
       "    <tr>\n",
       "      <th>36</th>\n",
       "      <td>club_member_status_0</td>\n",
       "      <td>-0.258463</td>\n",
       "    </tr>\n",
       "    <tr>\n",
       "      <th>32</th>\n",
       "      <td>FN_0</td>\n",
       "      <td>-0.292504</td>\n",
       "    </tr>\n",
       "    <tr>\n",
       "      <th>19</th>\n",
       "      <td>garment_prob_1014</td>\n",
       "      <td>-0.301902</td>\n",
       "    </tr>\n",
       "    <tr>\n",
       "      <th>0</th>\n",
       "      <td>age_gmm_1</td>\n",
       "      <td>-0.305781</td>\n",
       "    </tr>\n",
       "    <tr>\n",
       "      <th>17</th>\n",
       "      <td>garment_prob_1012</td>\n",
       "      <td>-0.322663</td>\n",
       "    </tr>\n",
       "    <tr>\n",
       "      <th>23</th>\n",
       "      <td>garment_prob_1019</td>\n",
       "      <td>-0.334261</td>\n",
       "    </tr>\n",
       "  </tbody>\n",
       "</table>\n",
       "</div>"
      ],
      "text/plain": [
       "                     feature      coef\n",
       "1                  age_gmm_2  0.665825\n",
       "9          garment_prob_1003  0.300810\n",
       "12         garment_prob_1007  0.211666\n",
       "18         garment_prob_1013  0.200421\n",
       "29                    is_new  0.191631\n",
       "7              cohort_prob_4  0.153230\n",
       "27         garment_prob_1025  0.149469\n",
       "25         garment_prob_1021  0.118190\n",
       "8          garment_prob_1002  0.098793\n",
       "22         garment_prob_1018  0.090837\n",
       "16         garment_prob_1011  0.080224\n",
       "11         garment_prob_1006  0.048759\n",
       "2                online_prob  0.043950\n",
       "3              cohort_prob_0  0.030385\n",
       "14         garment_prob_1009  0.025526\n",
       "15         garment_prob_1010  0.007906\n",
       "31          last_active_week  0.003406\n",
       "28                 avg_price -0.017505\n",
       "30     log_transaction_count -0.025050\n",
       "33                      FN_1 -0.037291\n",
       "21         garment_prob_1017 -0.042580\n",
       "13         garment_prob_1008 -0.066492\n",
       "37      club_member_status_1 -0.071332\n",
       "38  fashion_news_frequency_0 -0.074282\n",
       "24         garment_prob_1020 -0.086187\n",
       "34                  Active_0 -0.121384\n",
       "4              cohort_prob_1 -0.123162\n",
       "40                 is_cold_0 -0.138829\n",
       "10         garment_prob_1005 -0.141880\n",
       "20         garment_prob_1016 -0.162832\n",
       "6              cohort_prob_3 -0.169600\n",
       "41                 is_cold_1 -0.190966\n",
       "26         garment_prob_1023 -0.203599\n",
       "35                  Active_1 -0.208411\n",
       "5              cohort_prob_2 -0.220647\n",
       "39  fashion_news_frequency_1 -0.255512\n",
       "36      club_member_status_0 -0.258463\n",
       "32                      FN_0 -0.292504\n",
       "19         garment_prob_1014 -0.301902\n",
       "0                  age_gmm_1 -0.305781\n",
       "17         garment_prob_1012 -0.322663\n",
       "23         garment_prob_1019 -0.334261"
      ]
     },
     "execution_count": 25,
     "metadata": {},
     "output_type": "execute_result"
    }
   ],
   "source": [
    "df_temp.sort_values('coef', ascending=False)"
   ]
  },
  {
   "cell_type": "markdown",
   "metadata": {},
   "source": [
    "두 그룹의 분포 차이를 좀 봅시다"
   ]
  },
  {
   "cell_type": "code",
   "execution_count": 26,
   "metadata": {},
   "outputs": [],
   "source": [
    "df_user = pd.read_parquet(f'{DATA_ROOT}/df_user_preprocessed.pq')\n",
    "df_user['label'] = 'pos'\n",
    "df_user.loc[df_user.index.isin(uids_neg), 'label'] = 'neg'\n",
    "df_user_pos = df_user[df_user['label'] == 'pos']\n",
    "df_user_neg = df_user[df_user['label'] == 'neg']"
   ]
  },
  {
   "cell_type": "code",
   "execution_count": 27,
   "metadata": {
    "scrolled": false
   },
   "outputs": [
    {
     "data": {
      "text/plain": [
       "<AxesSubplot:xlabel='FN', ylabel='portion'>"
      ]
     },
     "execution_count": 27,
     "metadata": {},
     "output_type": "execute_result"
    },
    {
     "data": {
      "image/png": "[encoded data removed]",
      "text/plain": [
       "<Figure size 432x288 with 1 Axes>"
      ]
     },
     "metadata": {
      "needs_background": "light"
     },
     "output_type": "display_data"
    }
   ],
   "source": [
    "field = 'FN'\n",
    "\n",
    "s_pos = df_user_pos[field].value_counts()\n",
    "s_neg = df_user_neg[field].value_counts()\n",
    "pd.DataFrame({\n",
    "    'label': ['pos', 'neg'],\n",
    "    'pos': s_pos.values / s_pos.sum(),\n",
    "    'neg': s_neg.values / s_neg.sum(),\n",
    "}).plot(kind='bar', xlabel=field, ylabel='portion')"
   ]
  },
  {
   "cell_type": "code",
   "execution_count": 28,
   "metadata": {},
   "outputs": [
    {
     "data": {
      "text/plain": [
       "<AxesSubplot:xlabel='Active', ylabel='portion'>"
      ]
     },
     "execution_count": 28,
     "metadata": {},
     "output_type": "execute_result"
    },
    {
     "data": {
      "image/png": "[encoded data removed]",
      "text/plain": [
       "<Figure size 432x288 with 1 Axes>"
      ]
     },
     "metadata": {
      "needs_background": "light"
     },
     "output_type": "display_data"
    }
   ],
   "source": [
    "field = 'Active'\n",
    "\n",
    "s_pos = df_user_pos[field].value_counts()\n",
    "s_neg = df_user_neg[field].value_counts()\n",
    "pd.DataFrame({\n",
    "    'label': ['pos', 'neg'],\n",
    "    'pos': s_pos.values / s_pos.sum(),\n",
    "    'neg': s_neg.values / s_neg.sum(),\n",
    "}).plot(kind='bar', xlabel=field, ylabel='portion')"
   ]
  },
  {
   "cell_type": "code",
   "execution_count": 29,
   "metadata": {},
   "outputs": [
    {
     "data": {
      "text/plain": [
       "<AxesSubplot:xlabel='club_member_status', ylabel='portion'>"
      ]
     },
     "execution_count": 29,
     "metadata": {},
     "output_type": "execute_result"
    },
    {
     "data": {
      "image/png": "[encoded data removed]",
      "text/plain": [
       "<Figure size 432x288 with 1 Axes>"
      ]
     },
     "metadata": {
      "needs_background": "light"
     },
     "output_type": "display_data"
    }
   ],
   "source": [
    "field = 'club_member_status'\n",
    "\n",
    "s_pos = df_user_pos[field].value_counts()\n",
    "s_neg = df_user_neg[field].value_counts()\n",
    "pd.DataFrame({\n",
    "    'label': ['pos', 'neg'],\n",
    "    'pos': s_pos.values / s_pos.sum(),\n",
    "    'neg': s_neg.values / s_neg.sum(),\n",
    "}).plot(kind='bar', xlabel=field, ylabel='portion')"
   ]
  },
  {
   "cell_type": "code",
   "execution_count": 30,
   "metadata": {
    "scrolled": true
   },
   "outputs": [
    {
     "data": {
      "text/plain": [
       "<AxesSubplot:xlabel='fashion_news_frequency', ylabel='portion'>"
      ]
     },
     "execution_count": 30,
     "metadata": {},
     "output_type": "execute_result"
    },
    {
     "data": {
      "image/png": "[encoded data removed]",
      "text/plain": [
       "<Figure size 432x288 with 1 Axes>"
      ]
     },
     "metadata": {
      "needs_background": "light"
     },
     "output_type": "display_data"
    }
   ],
   "source": [
    "field = 'fashion_news_frequency'\n",
    "\n",
    "s_pos = df_user_pos[field].value_counts()\n",
    "s_neg = df_user_neg[field].value_counts()\n",
    "pd.DataFrame({\n",
    "    'label': ['pos', 'neg'],\n",
    "    'pos': s_pos.values / s_pos.sum(),\n",
    "    'neg': s_neg.values / s_neg.sum(),\n",
    "}).plot(kind='bar', xlabel=field, ylabel='portion')"
   ]
  },
  {
   "cell_type": "code",
   "execution_count": 31,
   "metadata": {},
   "outputs": [
    {
     "name": "stdout",
     "output_type": "stream",
     "text": [
      "CPU times: user 32.9 s, sys: 5.09 s, total: 38 s\n",
      "Wall time: 31.8 s\n"
     ]
    },
    {
     "data": {
      "text/plain": [
       "label\n",
       "neg    AxesSubplot(0.125,0.125;0.775x0.755)\n",
       "pos    AxesSubplot(0.125,0.125;0.775x0.755)\n",
       "Name: age, dtype: object"
      ]
     },
     "execution_count": 31,
     "metadata": {},
     "output_type": "execute_result"
    },
    {
     "data": {
      "image/png": "[encoded data removed]",
      "text/plain": [
       "<Figure size 432x288 with 1 Axes>"
      ]
     },
     "metadata": {
      "needs_background": "light"
     },
     "output_type": "display_data"
    }
   ],
   "source": [
    "%%time\n",
    "field = 'age'\n",
    "df_user.groupby('label')[field].plot.kde(xlabel=field, legend=True)"
   ]
  },
  {
   "cell_type": "code",
   "execution_count": 32,
   "metadata": {},
   "outputs": [],
   "source": [
    "df_user_feature\n",
    "df_user_feature['label'] = 'pos'\n",
    "df_user_feature.loc[df_user_feature.index.isin(uids_neg), 'label'] = 'neg'"
   ]
  },
  {
   "cell_type": "code",
   "execution_count": 33,
   "metadata": {},
   "outputs": [
    {
     "name": "stdout",
     "output_type": "stream",
     "text": [
      "CPU times: user 4.14 s, sys: 1.89 s, total: 6.03 s\n",
      "Wall time: 2.72 s\n"
     ]
    },
    {
     "data": {
      "text/plain": [
       "label\n",
       "neg    AxesSubplot(0.125,0.125;0.775x0.755)\n",
       "pos    AxesSubplot(0.125,0.125;0.775x0.755)\n",
       "Name: online_prob, dtype: object"
      ]
     },
     "execution_count": 33,
     "metadata": {},
     "output_type": "execute_result"
    },
    {
     "data": {
      "image/png": "[encoded data removed]",
      "text/plain": [
       "<Figure size 432x288 with 1 Axes>"
      ]
     },
     "metadata": {
      "needs_background": "light"
     },
     "output_type": "display_data"
    }
   ],
   "source": [
    "%%time\n",
    "field = 'online_prob'\n",
    "df_user_feature.groupby('label')[field].plot.kde(xlabel=field, legend=True)"
   ]
  },
  {
   "cell_type": "code",
   "execution_count": 34,
   "metadata": {},
   "outputs": [
    {
     "name": "stdout",
     "output_type": "stream",
     "text": [
      "CPU times: user 3.5 s, sys: 1.77 s, total: 5.27 s\n",
      "Wall time: 2.13 s\n"
     ]
    },
    {
     "data": {
      "text/plain": [
       "label\n",
       "neg    AxesSubplot(0.125,0.125;0.775x0.755)\n",
       "pos    AxesSubplot(0.125,0.125;0.775x0.755)\n",
       "Name: avg_price, dtype: object"
      ]
     },
     "execution_count": 34,
     "metadata": {},
     "output_type": "execute_result"
    },
    {
     "data": {
      "image/png": "[encoded data removed]",
      "text/plain": [
       "<Figure size 432x288 with 1 Axes>"
      ]
     },
     "metadata": {
      "needs_background": "light"
     },
     "output_type": "display_data"
    }
   ],
   "source": [
    "%%time\n",
    "field = 'avg_price'\n",
    "df_user_feature.groupby('label')[field].plot.kde(xlabel=field, legend=True)"
   ]
  },
  {
   "cell_type": "code",
   "execution_count": 35,
   "metadata": {},
   "outputs": [
    {
     "name": "stdout",
     "output_type": "stream",
     "text": [
      "CPU times: user 3.88 s, sys: 1.82 s, total: 5.7 s\n",
      "Wall time: 2.68 s\n"
     ]
    },
    {
     "data": {
      "text/plain": [
       "label\n",
       "neg    AxesSubplot(0.125,0.125;0.775x0.755)\n",
       "pos    AxesSubplot(0.125,0.125;0.775x0.755)\n",
       "Name: log_transaction_count, dtype: object"
      ]
     },
     "execution_count": 35,
     "metadata": {},
     "output_type": "execute_result"
    },
    {
     "data": {
      "image/png": "[encoded data removed]",
      "text/plain": [
       "<Figure size 432x288 with 1 Axes>"
      ]
     },
     "metadata": {
      "needs_background": "light"
     },
     "output_type": "display_data"
    }
   ],
   "source": [
    "%%time\n",
    "field = 'log_transaction_count'\n",
    "df_user_feature.groupby('label')[field].plot.kde(xlabel=field, legend=True)"
   ]
  },
  {
   "cell_type": "code",
   "execution_count": 36,
   "metadata": {},
   "outputs": [
    {
     "name": "stdout",
     "output_type": "stream",
     "text": [
      "CPU times: user 3.91 s, sys: 1.85 s, total: 5.76 s\n",
      "Wall time: 2.62 s\n"
     ]
    },
    {
     "data": {
      "text/plain": [
       "label\n",
       "neg    AxesSubplot(0.125,0.125;0.775x0.755)\n",
       "pos    AxesSubplot(0.125,0.125;0.775x0.755)\n",
       "Name: last_active_week, dtype: object"
      ]
     },
     "execution_count": 36,
     "metadata": {},
     "output_type": "execute_result"
    },
    {
     "data": {
      "image/png": "[encoded data removed]",
      "text/plain": [
       "<Figure size 432x288 with 1 Axes>"
      ]
     },
     "metadata": {
      "needs_background": "light"
     },
     "output_type": "display_data"
    }
   ],
   "source": [
    "%%time\n",
    "field = 'last_active_week'\n",
    "df_user_feature.groupby('label')[field].plot.kde(xlabel=field, legend=True)"
   ]
  },
  {
   "cell_type": "code",
   "execution_count": 37,
   "metadata": {},
   "outputs": [],
   "source": [
    "del df_temp\n",
    "del clf\n",
    "del df_user\n",
    "del df_user_feature"
   ]
  },
  {
   "cell_type": "code",
   "execution_count": 38,
   "metadata": {},
   "outputs": [],
   "source": [
    "del uids_pos\n",
    "del uids_neg\n",
    "del APs\n",
    "del df_resource_CV"
   ]
  },
  {
   "cell_type": "markdown",
   "metadata": {},
   "source": [
    "---"
   ]
  },
  {
   "cell_type": "markdown",
   "metadata": {},
   "source": [
    "# 4. Recent Bought 분석"
   ]
  },
  {
   "cell_type": "markdown",
   "metadata": {},
   "source": [
    "### CV 버전"
   ]
  },
  {
   "cell_type": "markdown",
   "metadata": {},
   "source": [
    "8-week cut"
   ]
  },
  {
   "cell_type": "code",
   "execution_count": 39,
   "metadata": {},
   "outputs": [],
   "source": [
    "df_resource_CV = pd.read_csv('data/resources/RB_WC8_CV.csv')"
   ]
  },
  {
   "cell_type": "code",
   "execution_count": 40,
   "metadata": {},
   "outputs": [],
   "source": [
    "df_resource_CV.set_index('customer_id', inplace=True)"
   ]
  },
  {
   "cell_type": "code",
   "execution_count": 41,
   "metadata": {},
   "outputs": [],
   "source": [
    "APs = []\n",
    "for uid, aiidset in uid2aiidset_CV.items():\n",
    "    try:\n",
    "        prediction = df_resource_CV.loc[uid, 'prediction'].split(' ')\n",
    "    except:\n",
    "        continue\n",
    "    AP = utils.calc_ap(aiidset, prediction)\n",
    "    APs.append(AP)\n",
    "APs = np.array(APs)"
   ]
  },
  {
   "cell_type": "markdown",
   "metadata": {},
   "source": [
    "분포 눈으로 확인"
   ]
  },
  {
   "cell_type": "code",
   "execution_count": 42,
   "metadata": {},
   "outputs": [
    {
     "data": {
      "text/plain": [
       "<AxesSubplot:ylabel='Frequency'>"
      ]
     },
     "execution_count": 42,
     "metadata": {},
     "output_type": "execute_result"
    },
    {
     "data": {
      "image/png": "[encoded data removed]",
      "text/plain": [
       "<Figure size 432x288 with 1 Axes>"
      ]
     },
     "metadata": {
      "needs_background": "light"
     },
     "output_type": "display_data"
    }
   ],
   "source": [
    "pd.Series(APs).plot.hist(bins=20)"
   ]
  },
  {
   "cell_type": "markdown",
   "metadata": {},
   "source": [
    "percentile로 정확히 짚기"
   ]
  },
  {
   "cell_type": "code",
   "execution_count": 43,
   "metadata": {},
   "outputs": [
    {
     "data": {
      "text/plain": [
       "0.0"
      ]
     },
     "execution_count": 43,
     "metadata": {},
     "output_type": "execute_result"
    }
   ],
   "source": [
    "np.percentile(APs, 90)"
   ]
  },
  {
   "cell_type": "markdown",
   "metadata": {},
   "source": [
    "여기도 0점과 아닌것이네.."
   ]
  },
  {
   "cell_type": "code",
   "execution_count": 44,
   "metadata": {},
   "outputs": [
    {
     "name": "stdout",
     "output_type": "stream",
     "text": [
      "0점이 아닌 사람 :5642\n",
      "0점인 사람: 53209\n"
     ]
    }
   ],
   "source": [
    "uids_pos = []\n",
    "uids_neg = []\n",
    "for uid, aiidset in uid2aiidset_CV.items():\n",
    "    try:\n",
    "        prediction = df_resource_CV.loc[uid, 'prediction'].split(' ')\n",
    "    except:\n",
    "        continue\n",
    "    AP = utils.calc_ap(aiidset, prediction)\n",
    "    if AP:\n",
    "        uids_pos.append(uid)\n",
    "    else:\n",
    "        uids_neg.append(uid)\n",
    "print(f\"0점이 아닌 사람 :{len(uids_pos)}\")\n",
    "print(f\"0점인 사람: {len(uids_neg)}\")"
   ]
  },
  {
   "cell_type": "markdown",
   "metadata": {},
   "source": [
    "트리 학습"
   ]
  },
  {
   "cell_type": "code",
   "execution_count": 45,
   "metadata": {},
   "outputs": [],
   "source": [
    "from sklearn.tree import DecisionTreeClassifier"
   ]
  },
  {
   "cell_type": "code",
   "execution_count": 46,
   "metadata": {},
   "outputs": [],
   "source": [
    "df_user_feature = pd.read_parquet(f'{DATA_ROOT}/df_user_feature_CV.pq')"
   ]
  },
  {
   "cell_type": "code",
   "execution_count": 47,
   "metadata": {},
   "outputs": [],
   "source": [
    "df_user_feature = df_user_feature[df_user_feature.index.isin(uids_pos + uids_neg)]"
   ]
  },
  {
   "cell_type": "code",
   "execution_count": 48,
   "metadata": {},
   "outputs": [],
   "source": [
    "labels = [1] * len(uids_pos) + [0] * len(uids_neg)"
   ]
  },
  {
   "cell_type": "code",
   "execution_count": 49,
   "metadata": {},
   "outputs": [],
   "source": [
    "clf = DecisionTreeClassifier()\n",
    "clf = clf.fit(df_user_feature, labels)"
   ]
  },
  {
   "cell_type": "markdown",
   "metadata": {},
   "source": [
    "트리 결과 분석"
   ]
  },
  {
   "cell_type": "code",
   "execution_count": 50,
   "metadata": {},
   "outputs": [],
   "source": [
    "temp_rows = []\n",
    "for column, importance in zip(df_user_feature.columns, clf.feature_importances_):\n",
    "    temp_rows.append((column, importance))\n",
    "df_temp = pd.DataFrame(temp_rows)\n",
    "df_temp.columns = ['feature', 'importance']"
   ]
  },
  {
   "cell_type": "code",
   "execution_count": 51,
   "metadata": {},
   "outputs": [
    {
     "data": {
      "text/html": [
       "<div>\n",
       "<style scoped>\n",
       "    .dataframe tbody tr th:only-of-type {\n",
       "        vertical-align: middle;\n",
       "    }\n",
       "\n",
       "    .dataframe tbody tr th {\n",
       "        vertical-align: top;\n",
       "    }\n",
       "\n",
       "    .dataframe thead th {\n",
       "        text-align: right;\n",
       "    }\n",
       "</style>\n",
       "<table border=\"1\" class=\"dataframe\">\n",
       "  <thead>\n",
       "    <tr style=\"text-align: right;\">\n",
       "      <th></th>\n",
       "      <th>feature</th>\n",
       "      <th>importance</th>\n",
       "    </tr>\n",
       "  </thead>\n",
       "  <tbody>\n",
       "    <tr>\n",
       "      <th>28</th>\n",
       "      <td>avg_price</td>\n",
       "      <td>0.061876</td>\n",
       "    </tr>\n",
       "    <tr>\n",
       "      <th>30</th>\n",
       "      <td>log_transaction_count</td>\n",
       "      <td>0.046592</td>\n",
       "    </tr>\n",
       "    <tr>\n",
       "      <th>2</th>\n",
       "      <td>online_prob</td>\n",
       "      <td>0.046185</td>\n",
       "    </tr>\n",
       "    <tr>\n",
       "      <th>8</th>\n",
       "      <td>garment_prob_1002</td>\n",
       "      <td>0.045714</td>\n",
       "    </tr>\n",
       "    <tr>\n",
       "      <th>15</th>\n",
       "      <td>garment_prob_1010</td>\n",
       "      <td>0.044559</td>\n",
       "    </tr>\n",
       "    <tr>\n",
       "      <th>14</th>\n",
       "      <td>garment_prob_1009</td>\n",
       "      <td>0.044369</td>\n",
       "    </tr>\n",
       "    <tr>\n",
       "      <th>10</th>\n",
       "      <td>garment_prob_1005</td>\n",
       "      <td>0.043292</td>\n",
       "    </tr>\n",
       "    <tr>\n",
       "      <th>21</th>\n",
       "      <td>garment_prob_1017</td>\n",
       "      <td>0.043218</td>\n",
       "    </tr>\n",
       "    <tr>\n",
       "      <th>5</th>\n",
       "      <td>cohort_prob_2</td>\n",
       "      <td>0.042660</td>\n",
       "    </tr>\n",
       "    <tr>\n",
       "      <th>4</th>\n",
       "      <td>cohort_prob_1</td>\n",
       "      <td>0.040854</td>\n",
       "    </tr>\n",
       "    <tr>\n",
       "      <th>18</th>\n",
       "      <td>garment_prob_1013</td>\n",
       "      <td>0.036312</td>\n",
       "    </tr>\n",
       "    <tr>\n",
       "      <th>23</th>\n",
       "      <td>garment_prob_1019</td>\n",
       "      <td>0.035743</td>\n",
       "    </tr>\n",
       "    <tr>\n",
       "      <th>0</th>\n",
       "      <td>age_gmm_1</td>\n",
       "      <td>0.035621</td>\n",
       "    </tr>\n",
       "    <tr>\n",
       "      <th>9</th>\n",
       "      <td>garment_prob_1003</td>\n",
       "      <td>0.035043</td>\n",
       "    </tr>\n",
       "    <tr>\n",
       "      <th>22</th>\n",
       "      <td>garment_prob_1018</td>\n",
       "      <td>0.034605</td>\n",
       "    </tr>\n",
       "    <tr>\n",
       "      <th>1</th>\n",
       "      <td>age_gmm_2</td>\n",
       "      <td>0.033819</td>\n",
       "    </tr>\n",
       "    <tr>\n",
       "      <th>20</th>\n",
       "      <td>garment_prob_1016</td>\n",
       "      <td>0.030518</td>\n",
       "    </tr>\n",
       "    <tr>\n",
       "      <th>31</th>\n",
       "      <td>last_active_week</td>\n",
       "      <td>0.027726</td>\n",
       "    </tr>\n",
       "    <tr>\n",
       "      <th>6</th>\n",
       "      <td>cohort_prob_3</td>\n",
       "      <td>0.026901</td>\n",
       "    </tr>\n",
       "    <tr>\n",
       "      <th>3</th>\n",
       "      <td>cohort_prob_0</td>\n",
       "      <td>0.026102</td>\n",
       "    </tr>\n",
       "    <tr>\n",
       "      <th>25</th>\n",
       "      <td>garment_prob_1021</td>\n",
       "      <td>0.026073</td>\n",
       "    </tr>\n",
       "    <tr>\n",
       "      <th>12</th>\n",
       "      <td>garment_prob_1007</td>\n",
       "      <td>0.024273</td>\n",
       "    </tr>\n",
       "    <tr>\n",
       "      <th>17</th>\n",
       "      <td>garment_prob_1012</td>\n",
       "      <td>0.023830</td>\n",
       "    </tr>\n",
       "    <tr>\n",
       "      <th>24</th>\n",
       "      <td>garment_prob_1020</td>\n",
       "      <td>0.022262</td>\n",
       "    </tr>\n",
       "    <tr>\n",
       "      <th>27</th>\n",
       "      <td>garment_prob_1025</td>\n",
       "      <td>0.021802</td>\n",
       "    </tr>\n",
       "    <tr>\n",
       "      <th>13</th>\n",
       "      <td>garment_prob_1008</td>\n",
       "      <td>0.020915</td>\n",
       "    </tr>\n",
       "  </tbody>\n",
       "</table>\n",
       "</div>"
      ],
      "text/plain": [
       "                  feature  importance\n",
       "28              avg_price    0.061876\n",
       "30  log_transaction_count    0.046592\n",
       "2             online_prob    0.046185\n",
       "8       garment_prob_1002    0.045714\n",
       "15      garment_prob_1010    0.044559\n",
       "14      garment_prob_1009    0.044369\n",
       "10      garment_prob_1005    0.043292\n",
       "21      garment_prob_1017    0.043218\n",
       "5           cohort_prob_2    0.042660\n",
       "4           cohort_prob_1    0.040854\n",
       "18      garment_prob_1013    0.036312\n",
       "23      garment_prob_1019    0.035743\n",
       "0               age_gmm_1    0.035621\n",
       "9       garment_prob_1003    0.035043\n",
       "22      garment_prob_1018    0.034605\n",
       "1               age_gmm_2    0.033819\n",
       "20      garment_prob_1016    0.030518\n",
       "31       last_active_week    0.027726\n",
       "6           cohort_prob_3    0.026901\n",
       "3           cohort_prob_0    0.026102\n",
       "25      garment_prob_1021    0.026073\n",
       "12      garment_prob_1007    0.024273\n",
       "17      garment_prob_1012    0.023830\n",
       "24      garment_prob_1020    0.022262\n",
       "27      garment_prob_1025    0.021802\n",
       "13      garment_prob_1008    0.020915"
      ]
     },
     "execution_count": 51,
     "metadata": {},
     "output_type": "execute_result"
    }
   ],
   "source": [
    "df_temp[df_temp['importance'] > 0.02].sort_values('importance', ascending=False)"
   ]
  },
  {
   "cell_type": "markdown",
   "metadata": {},
   "source": [
    "리그레션도 한번 해보자"
   ]
  },
  {
   "cell_type": "code",
   "execution_count": 52,
   "metadata": {},
   "outputs": [],
   "source": [
    "from sklearn.linear_model import LogisticRegression"
   ]
  },
  {
   "cell_type": "code",
   "execution_count": 53,
   "metadata": {},
   "outputs": [],
   "source": [
    "clf = LogisticRegression(max_iter=1000).fit(df_user_feature, labels)"
   ]
  },
  {
   "cell_type": "markdown",
   "metadata": {},
   "source": [
    "리그레션 결과 분석"
   ]
  },
  {
   "cell_type": "code",
   "execution_count": 54,
   "metadata": {},
   "outputs": [],
   "source": [
    "temp_rows = []\n",
    "for column, coef in zip(df_user_feature.columns, clf.coef_[0]):\n",
    "    temp_rows.append((column, coef))\n",
    "df_temp = pd.DataFrame(temp_rows)\n",
    "df_temp.columns = ['feature', 'coef']"
   ]
  },
  {
   "cell_type": "code",
   "execution_count": 55,
   "metadata": {
    "scrolled": false
   },
   "outputs": [
    {
     "data": {
      "text/html": [
       "<div>\n",
       "<style scoped>\n",
       "    .dataframe tbody tr th:only-of-type {\n",
       "        vertical-align: middle;\n",
       "    }\n",
       "\n",
       "    .dataframe tbody tr th {\n",
       "        vertical-align: top;\n",
       "    }\n",
       "\n",
       "    .dataframe thead th {\n",
       "        text-align: right;\n",
       "    }\n",
       "</style>\n",
       "<table border=\"1\" class=\"dataframe\">\n",
       "  <thead>\n",
       "    <tr style=\"text-align: right;\">\n",
       "      <th></th>\n",
       "      <th>feature</th>\n",
       "      <th>coef</th>\n",
       "    </tr>\n",
       "  </thead>\n",
       "  <tbody>\n",
       "    <tr>\n",
       "      <th>1</th>\n",
       "      <td>age_gmm_2</td>\n",
       "      <td>0.553742</td>\n",
       "    </tr>\n",
       "    <tr>\n",
       "      <th>20</th>\n",
       "      <td>garment_prob_1016</td>\n",
       "      <td>0.328884</td>\n",
       "    </tr>\n",
       "    <tr>\n",
       "      <th>9</th>\n",
       "      <td>garment_prob_1003</td>\n",
       "      <td>0.321685</td>\n",
       "    </tr>\n",
       "    <tr>\n",
       "      <th>18</th>\n",
       "      <td>garment_prob_1013</td>\n",
       "      <td>0.241348</td>\n",
       "    </tr>\n",
       "    <tr>\n",
       "      <th>32</th>\n",
       "      <td>FN_0</td>\n",
       "      <td>0.190858</td>\n",
       "    </tr>\n",
       "    <tr>\n",
       "      <th>25</th>\n",
       "      <td>garment_prob_1021</td>\n",
       "      <td>0.188943</td>\n",
       "    </tr>\n",
       "    <tr>\n",
       "      <th>7</th>\n",
       "      <td>cohort_prob_4</td>\n",
       "      <td>0.113940</td>\n",
       "    </tr>\n",
       "    <tr>\n",
       "      <th>15</th>\n",
       "      <td>garment_prob_1010</td>\n",
       "      <td>0.104045</td>\n",
       "    </tr>\n",
       "    <tr>\n",
       "      <th>24</th>\n",
       "      <td>garment_prob_1020</td>\n",
       "      <td>0.102407</td>\n",
       "    </tr>\n",
       "    <tr>\n",
       "      <th>8</th>\n",
       "      <td>garment_prob_1002</td>\n",
       "      <td>0.096769</td>\n",
       "    </tr>\n",
       "    <tr>\n",
       "      <th>27</th>\n",
       "      <td>garment_prob_1025</td>\n",
       "      <td>0.081542</td>\n",
       "    </tr>\n",
       "    <tr>\n",
       "      <th>37</th>\n",
       "      <td>club_member_status_1</td>\n",
       "      <td>0.068616</td>\n",
       "    </tr>\n",
       "    <tr>\n",
       "      <th>39</th>\n",
       "      <td>fashion_news_frequency_1</td>\n",
       "      <td>0.057879</td>\n",
       "    </tr>\n",
       "    <tr>\n",
       "      <th>11</th>\n",
       "      <td>garment_prob_1006</td>\n",
       "      <td>0.050890</td>\n",
       "    </tr>\n",
       "    <tr>\n",
       "      <th>2</th>\n",
       "      <td>online_prob</td>\n",
       "      <td>0.042762</td>\n",
       "    </tr>\n",
       "    <tr>\n",
       "      <th>3</th>\n",
       "      <td>cohort_prob_0</td>\n",
       "      <td>0.032004</td>\n",
       "    </tr>\n",
       "    <tr>\n",
       "      <th>19</th>\n",
       "      <td>garment_prob_1014</td>\n",
       "      <td>0.027135</td>\n",
       "    </tr>\n",
       "    <tr>\n",
       "      <th>31</th>\n",
       "      <td>last_active_week</td>\n",
       "      <td>0.001015</td>\n",
       "    </tr>\n",
       "    <tr>\n",
       "      <th>29</th>\n",
       "      <td>is_new</td>\n",
       "      <td>0.000000</td>\n",
       "    </tr>\n",
       "    <tr>\n",
       "      <th>35</th>\n",
       "      <td>Active_1</td>\n",
       "      <td>-0.004397</td>\n",
       "    </tr>\n",
       "    <tr>\n",
       "      <th>30</th>\n",
       "      <td>log_transaction_count</td>\n",
       "      <td>-0.006422</td>\n",
       "    </tr>\n",
       "    <tr>\n",
       "      <th>4</th>\n",
       "      <td>cohort_prob_1</td>\n",
       "      <td>-0.043795</td>\n",
       "    </tr>\n",
       "    <tr>\n",
       "      <th>23</th>\n",
       "      <td>garment_prob_1019</td>\n",
       "      <td>-0.062864</td>\n",
       "    </tr>\n",
       "    <tr>\n",
       "      <th>28</th>\n",
       "      <td>avg_price</td>\n",
       "      <td>-0.065815</td>\n",
       "    </tr>\n",
       "    <tr>\n",
       "      <th>16</th>\n",
       "      <td>garment_prob_1011</td>\n",
       "      <td>-0.066165</td>\n",
       "    </tr>\n",
       "    <tr>\n",
       "      <th>41</th>\n",
       "      <td>is_cold_1</td>\n",
       "      <td>-0.076038</td>\n",
       "    </tr>\n",
       "    <tr>\n",
       "      <th>12</th>\n",
       "      <td>garment_prob_1007</td>\n",
       "      <td>-0.088745</td>\n",
       "    </tr>\n",
       "    <tr>\n",
       "      <th>10</th>\n",
       "      <td>garment_prob_1005</td>\n",
       "      <td>-0.096076</td>\n",
       "    </tr>\n",
       "    <tr>\n",
       "      <th>21</th>\n",
       "      <td>garment_prob_1017</td>\n",
       "      <td>-0.099057</td>\n",
       "    </tr>\n",
       "    <tr>\n",
       "      <th>14</th>\n",
       "      <td>garment_prob_1009</td>\n",
       "      <td>-0.140134</td>\n",
       "    </tr>\n",
       "    <tr>\n",
       "      <th>22</th>\n",
       "      <td>garment_prob_1018</td>\n",
       "      <td>-0.167811</td>\n",
       "    </tr>\n",
       "    <tr>\n",
       "      <th>5</th>\n",
       "      <td>cohort_prob_2</td>\n",
       "      <td>-0.184935</td>\n",
       "    </tr>\n",
       "    <tr>\n",
       "      <th>6</th>\n",
       "      <td>cohort_prob_3</td>\n",
       "      <td>-0.193043</td>\n",
       "    </tr>\n",
       "    <tr>\n",
       "      <th>40</th>\n",
       "      <td>is_cold_0</td>\n",
       "      <td>-0.199791</td>\n",
       "    </tr>\n",
       "    <tr>\n",
       "      <th>17</th>\n",
       "      <td>garment_prob_1012</td>\n",
       "      <td>-0.251078</td>\n",
       "    </tr>\n",
       "    <tr>\n",
       "      <th>0</th>\n",
       "      <td>age_gmm_1</td>\n",
       "      <td>-0.262554</td>\n",
       "    </tr>\n",
       "    <tr>\n",
       "      <th>34</th>\n",
       "      <td>Active_0</td>\n",
       "      <td>-0.271432</td>\n",
       "    </tr>\n",
       "    <tr>\n",
       "      <th>13</th>\n",
       "      <td>garment_prob_1008</td>\n",
       "      <td>-0.277616</td>\n",
       "    </tr>\n",
       "    <tr>\n",
       "      <th>38</th>\n",
       "      <td>fashion_news_frequency_0</td>\n",
       "      <td>-0.333708</td>\n",
       "    </tr>\n",
       "    <tr>\n",
       "      <th>36</th>\n",
       "      <td>club_member_status_0</td>\n",
       "      <td>-0.344445</td>\n",
       "    </tr>\n",
       "    <tr>\n",
       "      <th>33</th>\n",
       "      <td>FN_1</td>\n",
       "      <td>-0.466687</td>\n",
       "    </tr>\n",
       "    <tr>\n",
       "      <th>26</th>\n",
       "      <td>garment_prob_1023</td>\n",
       "      <td>-0.569930</td>\n",
       "    </tr>\n",
       "  </tbody>\n",
       "</table>\n",
       "</div>"
      ],
      "text/plain": [
       "                     feature      coef\n",
       "1                  age_gmm_2  0.553742\n",
       "20         garment_prob_1016  0.328884\n",
       "9          garment_prob_1003  0.321685\n",
       "18         garment_prob_1013  0.241348\n",
       "32                      FN_0  0.190858\n",
       "25         garment_prob_1021  0.188943\n",
       "7              cohort_prob_4  0.113940\n",
       "15         garment_prob_1010  0.104045\n",
       "24         garment_prob_1020  0.102407\n",
       "8          garment_prob_1002  0.096769\n",
       "27         garment_prob_1025  0.081542\n",
       "37      club_member_status_1  0.068616\n",
       "39  fashion_news_frequency_1  0.057879\n",
       "11         garment_prob_1006  0.050890\n",
       "2                online_prob  0.042762\n",
       "3              cohort_prob_0  0.032004\n",
       "19         garment_prob_1014  0.027135\n",
       "31          last_active_week  0.001015\n",
       "29                    is_new  0.000000\n",
       "35                  Active_1 -0.004397\n",
       "30     log_transaction_count -0.006422\n",
       "4              cohort_prob_1 -0.043795\n",
       "23         garment_prob_1019 -0.062864\n",
       "28                 avg_price -0.065815\n",
       "16         garment_prob_1011 -0.066165\n",
       "41                 is_cold_1 -0.076038\n",
       "12         garment_prob_1007 -0.088745\n",
       "10         garment_prob_1005 -0.096076\n",
       "21         garment_prob_1017 -0.099057\n",
       "14         garment_prob_1009 -0.140134\n",
       "22         garment_prob_1018 -0.167811\n",
       "5              cohort_prob_2 -0.184935\n",
       "6              cohort_prob_3 -0.193043\n",
       "40                 is_cold_0 -0.199791\n",
       "17         garment_prob_1012 -0.251078\n",
       "0                  age_gmm_1 -0.262554\n",
       "34                  Active_0 -0.271432\n",
       "13         garment_prob_1008 -0.277616\n",
       "38  fashion_news_frequency_0 -0.333708\n",
       "36      club_member_status_0 -0.344445\n",
       "33                      FN_1 -0.466687\n",
       "26         garment_prob_1023 -0.569930"
      ]
     },
     "execution_count": 55,
     "metadata": {},
     "output_type": "execute_result"
    }
   ],
   "source": [
    "df_temp.sort_values('coef', ascending=False)"
   ]
  },
  {
   "cell_type": "markdown",
   "metadata": {},
   "source": [
    "두 그룹의 분포 차이를 좀 봅시다"
   ]
  },
  {
   "cell_type": "code",
   "execution_count": 56,
   "metadata": {},
   "outputs": [],
   "source": [
    "df_user = pd.read_parquet(f'{DATA_ROOT}/df_user_preprocessed.pq')\n",
    "df_user['label'] = 'pos'\n",
    "df_user.loc[df_user.index.isin(uids_neg), 'label'] = 'neg'\n",
    "df_user_pos = df_user[df_user['label'] == 'pos']\n",
    "df_user_neg = df_user[df_user['label'] == 'neg']"
   ]
  },
  {
   "cell_type": "code",
   "execution_count": 57,
   "metadata": {
    "scrolled": false
   },
   "outputs": [
    {
     "data": {
      "text/plain": [
       "<AxesSubplot:xlabel='FN', ylabel='portion'>"
      ]
     },
     "execution_count": 57,
     "metadata": {},
     "output_type": "execute_result"
    },
    {
     "data": {
      "image/png": "[encoded data removed]",
      "text/plain": [
       "<Figure size 432x288 with 1 Axes>"
      ]
     },
     "metadata": {
      "needs_background": "light"
     },
     "output_type": "display_data"
    }
   ],
   "source": [
    "field = 'FN'\n",
    "\n",
    "s_pos = df_user_pos[field].value_counts()\n",
    "s_neg = df_user_neg[field].value_counts()\n",
    "pd.DataFrame({\n",
    "    'label': ['pos', 'neg'],\n",
    "    'pos': s_pos.values / s_pos.sum(),\n",
    "    'neg': s_neg.values / s_neg.sum(),\n",
    "}).plot(kind='bar', xlabel=field, ylabel='portion')"
   ]
  },
  {
   "cell_type": "code",
   "execution_count": 58,
   "metadata": {},
   "outputs": [
    {
     "data": {
      "text/plain": [
       "<AxesSubplot:xlabel='Active', ylabel='portion'>"
      ]
     },
     "execution_count": 58,
     "metadata": {},
     "output_type": "execute_result"
    },
    {
     "data": {
      "image/png": "[encoded data removed]",
      "text/plain": [
       "<Figure size 432x288 with 1 Axes>"
      ]
     },
     "metadata": {
      "needs_background": "light"
     },
     "output_type": "display_data"
    }
   ],
   "source": [
    "field = 'Active'\n",
    "\n",
    "s_pos = df_user_pos[field].value_counts()\n",
    "s_neg = df_user_neg[field].value_counts()\n",
    "pd.DataFrame({\n",
    "    'label': ['pos', 'neg'],\n",
    "    'pos': s_pos.values / s_pos.sum(),\n",
    "    'neg': s_neg.values / s_neg.sum(),\n",
    "}).plot(kind='bar', xlabel=field, ylabel='portion')"
   ]
  },
  {
   "cell_type": "code",
   "execution_count": 59,
   "metadata": {},
   "outputs": [
    {
     "data": {
      "text/plain": [
       "<AxesSubplot:xlabel='club_member_status', ylabel='portion'>"
      ]
     },
     "execution_count": 59,
     "metadata": {},
     "output_type": "execute_result"
    },
    {
     "data": {
      "image/png": "[encoded data removed]",
      "text/plain": [
       "<Figure size 432x288 with 1 Axes>"
      ]
     },
     "metadata": {
      "needs_background": "light"
     },
     "output_type": "display_data"
    }
   ],
   "source": [
    "field = 'club_member_status'\n",
    "\n",
    "s_pos = df_user_pos[field].value_counts()\n",
    "s_neg = df_user_neg[field].value_counts()\n",
    "pd.DataFrame({\n",
    "    'label': ['pos', 'neg'],\n",
    "    'pos': s_pos.values / s_pos.sum(),\n",
    "    'neg': s_neg.values / s_neg.sum(),\n",
    "}).plot(kind='bar', xlabel=field, ylabel='portion')"
   ]
  },
  {
   "cell_type": "code",
   "execution_count": 60,
   "metadata": {
    "scrolled": true
   },
   "outputs": [
    {
     "data": {
      "text/plain": [
       "<AxesSubplot:xlabel='fashion_news_frequency', ylabel='portion'>"
      ]
     },
     "execution_count": 60,
     "metadata": {},
     "output_type": "execute_result"
    },
    {
     "data": {
      "image/png": "[encoded data removed]",
      "text/plain": [
       "<Figure size 432x288 with 1 Axes>"
      ]
     },
     "metadata": {
      "needs_background": "light"
     },
     "output_type": "display_data"
    }
   ],
   "source": [
    "field = 'fashion_news_frequency'\n",
    "\n",
    "s_pos = df_user_pos[field].value_counts()\n",
    "s_neg = df_user_neg[field].value_counts()\n",
    "pd.DataFrame({\n",
    "    'label': ['pos', 'neg'],\n",
    "    'pos': s_pos.values / s_pos.sum(),\n",
    "    'neg': s_neg.values / s_neg.sum(),\n",
    "}).plot(kind='bar', xlabel=field, ylabel='portion')"
   ]
  },
  {
   "cell_type": "code",
   "execution_count": 61,
   "metadata": {},
   "outputs": [
    {
     "name": "stdout",
     "output_type": "stream",
     "text": [
      "CPU times: user 33.6 s, sys: 3.92 s, total: 37.5 s\n",
      "Wall time: 31.5 s\n"
     ]
    },
    {
     "data": {
      "text/plain": [
       "label\n",
       "neg    AxesSubplot(0.125,0.125;0.775x0.755)\n",
       "pos    AxesSubplot(0.125,0.125;0.775x0.755)\n",
       "Name: age, dtype: object"
      ]
     },
     "execution_count": 61,
     "metadata": {},
     "output_type": "execute_result"
    },
    {
     "data": {
      "image/png": "[encoded data removed]",
      "text/plain": [
       "<Figure size 432x288 with 1 Axes>"
      ]
     },
     "metadata": {
      "needs_background": "light"
     },
     "output_type": "display_data"
    }
   ],
   "source": [
    "%%time\n",
    "field = 'age'\n",
    "df_user.groupby('label')[field].plot.kde(xlabel=field, legend=True)"
   ]
  },
  {
   "cell_type": "code",
   "execution_count": 62,
   "metadata": {},
   "outputs": [],
   "source": [
    "df_user_feature\n",
    "df_user_feature['label'] = 'pos'\n",
    "df_user_feature.loc[df_user_feature.index.isin(uids_neg), 'label'] = 'neg'"
   ]
  },
  {
   "cell_type": "code",
   "execution_count": 63,
   "metadata": {},
   "outputs": [
    {
     "name": "stdout",
     "output_type": "stream",
     "text": [
      "CPU times: user 2.84 s, sys: 1.71 s, total: 4.54 s\n",
      "Wall time: 1.6 s\n"
     ]
    },
    {
     "data": {
      "text/plain": [
       "label\n",
       "neg    AxesSubplot(0.125,0.125;0.775x0.755)\n",
       "pos    AxesSubplot(0.125,0.125;0.775x0.755)\n",
       "Name: online_prob, dtype: object"
      ]
     },
     "execution_count": 63,
     "metadata": {},
     "output_type": "execute_result"
    },
    {
     "data": {
      "image/png": "[encoded data removed]",
      "text/plain": [
       "<Figure size 432x288 with 1 Axes>"
      ]
     },
     "metadata": {
      "needs_background": "light"
     },
     "output_type": "display_data"
    }
   ],
   "source": [
    "%%time\n",
    "field = 'online_prob'\n",
    "df_user_feature.groupby('label')[field].plot.kde(xlabel=field, legend=True)"
   ]
  },
  {
   "cell_type": "code",
   "execution_count": 64,
   "metadata": {},
   "outputs": [
    {
     "name": "stdout",
     "output_type": "stream",
     "text": [
      "CPU times: user 2.52 s, sys: 1.82 s, total: 4.34 s\n",
      "Wall time: 1.28 s\n"
     ]
    },
    {
     "data": {
      "text/plain": [
       "label\n",
       "neg    AxesSubplot(0.125,0.125;0.775x0.755)\n",
       "pos    AxesSubplot(0.125,0.125;0.775x0.755)\n",
       "Name: avg_price, dtype: object"
      ]
     },
     "execution_count": 64,
     "metadata": {},
     "output_type": "execute_result"
    },
    {
     "data": {
      "image/png": "[encoded data removed]",
      "text/plain": [
       "<Figure size 432x288 with 1 Axes>"
      ]
     },
     "metadata": {
      "needs_background": "light"
     },
     "output_type": "display_data"
    }
   ],
   "source": [
    "%%time\n",
    "field = 'avg_price'\n",
    "df_user_feature.groupby('label')[field].plot.kde(xlabel=field, legend=True)"
   ]
  },
  {
   "cell_type": "code",
   "execution_count": 65,
   "metadata": {},
   "outputs": [
    {
     "name": "stdout",
     "output_type": "stream",
     "text": [
      "CPU times: user 2.94 s, sys: 1.9 s, total: 4.84 s\n",
      "Wall time: 1.63 s\n"
     ]
    },
    {
     "data": {
      "text/plain": [
       "label\n",
       "neg    AxesSubplot(0.125,0.125;0.775x0.755)\n",
       "pos    AxesSubplot(0.125,0.125;0.775x0.755)\n",
       "Name: log_transaction_count, dtype: object"
      ]
     },
     "execution_count": 65,
     "metadata": {},
     "output_type": "execute_result"
    },
    {
     "data": {
      "image/png": "[encoded data removed]",
      "text/plain": [
       "<Figure size 432x288 with 1 Axes>"
      ]
     },
     "metadata": {
      "needs_background": "light"
     },
     "output_type": "display_data"
    }
   ],
   "source": [
    "%%time\n",
    "field = 'log_transaction_count'\n",
    "df_user_feature.groupby('label')[field].plot.kde(xlabel=field, legend=True)"
   ]
  },
  {
   "cell_type": "code",
   "execution_count": 66,
   "metadata": {},
   "outputs": [
    {
     "name": "stdout",
     "output_type": "stream",
     "text": [
      "CPU times: user 2.86 s, sys: 2 s, total: 4.87 s\n",
      "Wall time: 1.59 s\n"
     ]
    },
    {
     "data": {
      "text/plain": [
       "label\n",
       "neg    AxesSubplot(0.125,0.125;0.775x0.755)\n",
       "pos    AxesSubplot(0.125,0.125;0.775x0.755)\n",
       "Name: last_active_week, dtype: object"
      ]
     },
     "execution_count": 66,
     "metadata": {},
     "output_type": "execute_result"
    },
    {
     "data": {
      "image/png": "[encoded data removed]",
      "text/plain": [
       "<Figure size 432x288 with 1 Axes>"
      ]
     },
     "metadata": {
      "needs_background": "light"
     },
     "output_type": "display_data"
    }
   ],
   "source": [
    "%%time\n",
    "field = 'last_active_week'\n",
    "df_user_feature.groupby('label')[field].plot.kde(xlabel=field, legend=True)"
   ]
  },
  {
   "cell_type": "code",
   "execution_count": 67,
   "metadata": {},
   "outputs": [],
   "source": [
    "del df_temp\n",
    "del clf\n",
    "del df_user_feature"
   ]
  },
  {
   "cell_type": "code",
   "execution_count": 68,
   "metadata": {},
   "outputs": [],
   "source": [
    "del uids_pos\n",
    "del uids_neg\n",
    "del APs\n",
    "del df_resource_CV"
   ]
  }
 ],
 "metadata": {
  "kernelspec": {
   "display_name": "Python 3",
   "language": "python",
   "name": "python3"
  },
  "language_info": {
   "codemirror_mode": {
    "name": "ipython",
    "version": 3
   },
   "file_extension": ".py",
   "mimetype": "text/x-python",
   "name": "python",
   "nbconvert_exporter": "python",
   "pygments_lexer": "ipython3",
   "version": "3.8.5"
  }
 },
 "nbformat": 4,
 "nbformat_minor": 4
}
