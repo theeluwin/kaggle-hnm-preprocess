{
 "cells": [
  {
   "cell_type": "markdown",
   "metadata": {},
   "source": [
    "# 1. 데이터 로드"
   ]
  },
  {
   "cell_type": "markdown",
   "metadata": {},
   "source": [
    "### 주요 import 할것들 미리 해두기 (나머지는 그때그때)"
   ]
  },
  {
   "cell_type": "code",
   "execution_count": 1,
   "metadata": {},
   "outputs": [],
   "source": [
    "import os\n",
    "import pickle\n",
    "\n",
    "import numpy as np\n",
    "import pandas as pd\n",
    "import matplotlib.pyplot as plt\n",
    "\n",
    "from datetime import datetime as dt\n",
    "from datetime import timedelta as td\n",
    "\n",
    "from tqdm.notebook import tqdm"
   ]
  },
  {
   "cell_type": "code",
   "execution_count": 2,
   "metadata": {},
   "outputs": [],
   "source": [
    "import utils"
   ]
  },
  {
   "cell_type": "markdown",
   "metadata": {},
   "source": [
    "### 경로 등 global config 설정"
   ]
  },
  {
   "cell_type": "code",
   "execution_count": 3,
   "metadata": {},
   "outputs": [],
   "source": [
    "RAW_ROOT = 'raw'\n",
    "DATA_ROOT = 'data'"
   ]
  },
  {
   "cell_type": "markdown",
   "metadata": {},
   "source": [
    "### 각종 데이터 불러오기"
   ]
  },
  {
   "cell_type": "code",
   "execution_count": 4,
   "metadata": {},
   "outputs": [
    {
     "name": "stdout",
     "output_type": "stream",
     "text": [
      "CPU times: user 12.9 s, sys: 6.37 s, total: 19.3 s\n",
      "Wall time: 22.5 s\n"
     ]
    }
   ],
   "source": [
    "%%time\n",
    "_, _, _, df_sub_raw = utils.load_raw(RAW_ROOT)"
   ]
  },
  {
   "cell_type": "code",
   "execution_count": 5,
   "metadata": {},
   "outputs": [
    {
     "name": "stdout",
     "output_type": "stream",
     "text": [
      "CPU times: user 25.2 s, sys: 16.4 s, total: 41.6 s\n",
      "Wall time: 36.8 s\n"
     ]
    }
   ],
   "source": [
    "%%time\n",
    "df_user_CV = pd.read_parquet(f'{DATA_ROOT}/df_user_aggregated_CV.pq')\n",
    "df_user_LB = pd.read_parquet(f'{DATA_ROOT}/df_user_aggregated_LB.pq')\n",
    "df_item_CV = pd.read_parquet(f'{DATA_ROOT}/df_item_aggregated_CV.pq')\n",
    "df_item_LB = pd.read_parquet(f'{DATA_ROOT}/df_item_aggregated_LB.pq')\n",
    "df_log_all = pd.read_parquet(f'{DATA_ROOT}/df_log_preprocessed.pq')\n",
    "df_log_CV = utils.get_df_log_of(df_log_all, 'CV')\n",
    "df_log_LB = utils.get_df_log_of(df_log_all, 'LB')"
   ]
  },
  {
   "cell_type": "code",
   "execution_count": 6,
   "metadata": {},
   "outputs": [],
   "source": [
    "del df_log_all"
   ]
  },
  {
   "cell_type": "markdown",
   "metadata": {},
   "source": [
    "---"
   ]
  },
  {
   "cell_type": "markdown",
   "metadata": {},
   "source": [
    "# 2. CV 테스트 환경 및 서브밋 테스트"
   ]
  },
  {
   "cell_type": "markdown",
   "metadata": {},
   "source": [
    "### CV 테스트 정답셋"
   ]
  },
  {
   "cell_type": "code",
   "execution_count": 7,
   "metadata": {},
   "outputs": [
    {
     "name": "stdout",
     "output_type": "stream",
     "text": [
      "CPU times: user 4.3 s, sys: 1.39 s, total: 5.69 s\n",
      "Wall time: 5.63 s\n"
     ]
    }
   ],
   "source": [
    "%%time\n",
    "df_log_CV_test = df_log_CV[df_log_CV['target'] == 'test']\n",
    "df_log_CV_train_valid = df_log_CV[df_log_CV['target'] != 'test']"
   ]
  },
  {
   "cell_type": "code",
   "execution_count": 8,
   "metadata": {},
   "outputs": [],
   "source": [
    "uid2aiidset_CV = {}"
   ]
  },
  {
   "cell_type": "code",
   "execution_count": 9,
   "metadata": {},
   "outputs": [
    {
     "name": "stdout",
     "output_type": "stream",
     "text": [
      "CPU times: user 1.13 s, sys: 297 ms, total: 1.42 s\n",
      "Wall time: 1.39 s\n"
     ]
    }
   ],
   "source": [
    "%%time\n",
    "for row in df_log_CV_test[['customer_id', 'article_id']].itertuples():\n",
    "    _, uid, iid = row\n",
    "    if uid not in uid2aiidset_CV:\n",
    "        uid2aiidset_CV[uid] = set()\n",
    "    uid2aiidset_CV[uid].add(iid)"
   ]
  },
  {
   "cell_type": "markdown",
   "metadata": {},
   "source": [
    "### 글로벌 베스트로 평가 지표 확인"
   ]
  },
  {
   "cell_type": "code",
   "execution_count": 10,
   "metadata": {},
   "outputs": [],
   "source": [
    "df_iid_count_temp = df_log_CV_train_valid[['article_id', 'customer_id']].groupby('article_id').count()\n",
    "df_iid_count_temp.columns = ['count']"
   ]
  },
  {
   "cell_type": "code",
   "execution_count": 11,
   "metadata": {},
   "outputs": [],
   "source": [
    "global_popular_iids = list(df_iid_count_temp.sort_values('count', ascending=False).iloc[:12].index)"
   ]
  },
  {
   "cell_type": "code",
   "execution_count": 12,
   "metadata": {},
   "outputs": [],
   "source": [
    "APs = []\n",
    "for uid, aiidset in uid2aiidset_CV.items():\n",
    "    AP = utils.calc_ap(aiidset, global_popular_iids)\n",
    "    APs.append(AP)\n",
    "mAP = np.array(APs).mean()"
   ]
  },
  {
   "cell_type": "code",
   "execution_count": 13,
   "metadata": {},
   "outputs": [
    {
     "name": "stdout",
     "output_type": "stream",
     "text": [
      "POP_CV: 0.5275%\n"
     ]
    }
   ],
   "source": [
    "print(f\"POP_CV: {100 * mAP:.04f}%\")"
   ]
  },
  {
   "cell_type": "code",
   "execution_count": 14,
   "metadata": {},
   "outputs": [],
   "source": [
    "del APs\n",
    "del global_popular_iids\n",
    "del df_iid_count_temp"
   ]
  },
  {
   "cell_type": "markdown",
   "metadata": {},
   "source": [
    "### LB에 적용"
   ]
  },
  {
   "cell_type": "code",
   "execution_count": 15,
   "metadata": {},
   "outputs": [],
   "source": [
    "df_iid_count_temp = df_log_LB[['article_id', 'customer_id']].groupby('article_id').count()\n",
    "df_iid_count_temp.columns = ['count']"
   ]
  },
  {
   "cell_type": "code",
   "execution_count": 16,
   "metadata": {},
   "outputs": [],
   "source": [
    "global_popular_iids = list(df_iid_count_temp.sort_values('count', ascending=False).iloc[:12].index)"
   ]
  },
  {
   "cell_type": "markdown",
   "metadata": {},
   "source": [
    "서브밋"
   ]
  },
  {
   "cell_type": "code",
   "execution_count": 17,
   "metadata": {},
   "outputs": [],
   "source": [
    "os.makedirs('data/subs', exist_ok=True)"
   ]
  },
  {
   "cell_type": "code",
   "execution_count": 18,
   "metadata": {},
   "outputs": [],
   "source": [
    "sub_name = 'POP'"
   ]
  },
  {
   "cell_type": "code",
   "execution_count": 19,
   "metadata": {},
   "outputs": [
    {
     "name": "stdout",
     "output_type": "stream",
     "text": [
      "CPU times: user 13.3 s, sys: 240 ms, total: 13.6 s\n",
      "Wall time: 13.6 s\n"
     ]
    }
   ],
   "source": [
    "%%time\n",
    "df_sub_temp = df_sub_raw.copy()\n",
    "df_sub_temp['prediction'] = ' '.join(global_popular_iids)\n",
    "df_sub_temp.to_csv(f'data/subs/{sub_name}_LB.csv.gz', index=False)"
   ]
  },
  {
   "cell_type": "code",
   "execution_count": 20,
   "metadata": {},
   "outputs": [],
   "source": [
    "# !kaggle competitions submit -c h-and-m-personalized-fashion-recommendations -f 'data/subs/{sub_name}_LB.csv.gz' -m \"global popular\"\n",
    "# gives you 0.31%"
   ]
  },
  {
   "cell_type": "code",
   "execution_count": 21,
   "metadata": {},
   "outputs": [],
   "source": [
    "del df_sub_temp\n",
    "del global_popular_iids\n",
    "del df_iid_count_temp"
   ]
  },
  {
   "cell_type": "markdown",
   "metadata": {},
   "source": [
    "---"
   ]
  },
  {
   "cell_type": "markdown",
   "metadata": {},
   "source": [
    "# 3. Recent Week Popular"
   ]
  },
  {
   "cell_type": "markdown",
   "metadata": {},
   "source": [
    "### CV에서 먼저 튜닝"
   ]
  },
  {
   "cell_type": "code",
   "execution_count": 22,
   "metadata": {},
   "outputs": [],
   "source": [
    "last_week = df_log_CV_train_valid['week'].max()"
   ]
  },
  {
   "cell_type": "code",
   "execution_count": 23,
   "metadata": {},
   "outputs": [],
   "source": [
    "week_cuts = list(range(1, last_week + 2))"
   ]
  },
  {
   "cell_type": "code",
   "execution_count": 24,
   "metadata": {},
   "outputs": [
    {
     "data": {
      "application/vnd.jupyter.widget-view+json": {
       "model_id": "c7fd9288914f4d59a0f4ec49d4094f53",
       "version_major": 2,
       "version_minor": 0
      },
      "text/plain": [
       "HBox(children=(HTML(value=''), FloatProgress(value=0.0, max=53.0), HTML(value='')))"
      ]
     },
     "metadata": {},
     "output_type": "display_data"
    },
    {
     "name": "stdout",
     "output_type": "stream",
     "text": [
      "\n"
     ]
    }
   ],
   "source": [
    "results = []\n",
    "for week_cut in tqdm(week_cuts):\n",
    "    df_log_temp = df_log_CV_train_valid[df_log_CV_train_valid['week'] > last_week - week_cut]\n",
    "    df_iid_count_temp = df_log_temp[['article_id', 'customer_id']].groupby('article_id').count()\n",
    "    df_iid_count_temp.columns = ['count']\n",
    "    local_popular_iids = list(df_iid_count_temp.sort_values('count', ascending=False).iloc[:12].index)\n",
    "    APs = []\n",
    "    for uid, aiidset in uid2aiidset_CV.items():\n",
    "        AP = utils.calc_ap(aiidset, local_popular_iids)\n",
    "        APs.append(AP)\n",
    "    mAP = np.array(APs).mean()\n",
    "    results.append((week_cut, mAP))"
   ]
  },
  {
   "cell_type": "code",
   "execution_count": 25,
   "metadata": {},
   "outputs": [],
   "source": [
    "del APs\n",
    "del local_popular_iids\n",
    "del df_iid_count_temp\n",
    "del df_log_temp"
   ]
  },
  {
   "cell_type": "markdown",
   "metadata": {},
   "source": [
    "week cut에 따른 성능 비교"
   ]
  },
  {
   "cell_type": "code",
   "execution_count": 26,
   "metadata": {},
   "outputs": [
    {
     "data": {
      "text/plain": [
       "[<matplotlib.lines.Line2D at 0x7ff0e34c4cd0>]"
      ]
     },
     "execution_count": 26,
     "metadata": {},
     "output_type": "execute_result"
    },
    {
     "data": {
      "image/png": "[encoded data removed]",
      "text/plain": [
       "<Figure size 432x288 with 1 Axes>"
      ]
     },
     "metadata": {
      "needs_background": "light"
     },
     "output_type": "display_data"
    }
   ],
   "source": [
    "plt.plot(week_cuts, [mAP for _, mAP in results])"
   ]
  },
  {
   "cell_type": "code",
   "execution_count": 27,
   "metadata": {},
   "outputs": [],
   "source": [
    "best_week_cut, mAP = sorted(results, key=lambda x: x[1], reverse=True)[0]"
   ]
  },
  {
   "cell_type": "code",
   "execution_count": 28,
   "metadata": {},
   "outputs": [
    {
     "name": "stdout",
     "output_type": "stream",
     "text": [
      "RWP_WC4_CV: 0.6464%\n"
     ]
    }
   ],
   "source": [
    "print(f\"RWP_WC{best_week_cut}_CV: {100 * mAP:.04f}%\")"
   ]
  },
  {
   "cell_type": "markdown",
   "metadata": {},
   "source": [
    "### 이제 LB에 적용"
   ]
  },
  {
   "cell_type": "code",
   "execution_count": 29,
   "metadata": {},
   "outputs": [],
   "source": [
    "last_week = df_log_LB['week'].max()"
   ]
  },
  {
   "cell_type": "code",
   "execution_count": 30,
   "metadata": {},
   "outputs": [],
   "source": [
    "df_log_temp = df_log_LB[df_log_LB['week'] > last_week - best_week_cut]\n",
    "df_iid_count_temp = df_log_temp[['article_id', 'customer_id']].groupby('article_id').count()\n",
    "df_iid_count_temp.columns = ['count']\n",
    "local_popular_iids = list(df_iid_count_temp.sort_values('count', ascending=False).iloc[:12].index)"
   ]
  },
  {
   "cell_type": "markdown",
   "metadata": {},
   "source": [
    "서브밋"
   ]
  },
  {
   "cell_type": "code",
   "execution_count": 31,
   "metadata": {},
   "outputs": [],
   "source": [
    "os.makedirs('data/subs', exist_ok=True)"
   ]
  },
  {
   "cell_type": "code",
   "execution_count": 32,
   "metadata": {},
   "outputs": [
    {
     "data": {
      "text/plain": [
       "'RWP_WC4'"
      ]
     },
     "execution_count": 32,
     "metadata": {},
     "output_type": "execute_result"
    }
   ],
   "source": [
    "sub_name = f'RWP_WC{best_week_cut}'\n",
    "sub_name"
   ]
  },
  {
   "cell_type": "code",
   "execution_count": 33,
   "metadata": {},
   "outputs": [
    {
     "name": "stdout",
     "output_type": "stream",
     "text": [
      "CPU times: user 12.8 s, sys: 68.1 ms, total: 12.9 s\n",
      "Wall time: 12.9 s\n"
     ]
    }
   ],
   "source": [
    "%%time\n",
    "df_sub_temp = df_sub_raw.copy()\n",
    "df_sub_temp['prediction'] = ' '.join(local_popular_iids)\n",
    "df_sub_temp.to_csv(f'data/subs/{sub_name}_LB.csv.gz', index=False)"
   ]
  },
  {
   "cell_type": "code",
   "execution_count": 34,
   "metadata": {},
   "outputs": [],
   "source": [
    "# !kaggle competitions submit -c h-and-m-personalized-fashion-recommendations -f 'data/subs/{sub_name}_LB.csv.gz' -m \"recent week popular tuned\"\n",
    "# best_week_cut == 1 gives you 0.71%\n",
    "# best_week_cut == 3 gives you 0.54%\n",
    "# best_week_cut == 4 gives you ?.??%\n",
    "# best_week_cut == 7 gives you 0.54%"
   ]
  },
  {
   "cell_type": "code",
   "execution_count": 35,
   "metadata": {},
   "outputs": [],
   "source": [
    "del df_sub_temp\n",
    "del local_popular_iids\n",
    "del df_iid_count_temp\n",
    "del df_log_temp"
   ]
  },
  {
   "cell_type": "markdown",
   "metadata": {},
   "source": [
    "---"
   ]
  },
  {
   "cell_type": "markdown",
   "metadata": {},
   "source": [
    "# 4. Ascending Week Popular"
   ]
  },
  {
   "cell_type": "markdown",
   "metadata": {},
   "source": [
    "### CV에서 먼저 튜닝"
   ]
  },
  {
   "cell_type": "code",
   "execution_count": 36,
   "metadata": {},
   "outputs": [],
   "source": [
    "last_week = df_log_CV_train_valid['week'].max()\n",
    "min_week = df_log_CV_train_valid['week'].min()"
   ]
  },
  {
   "cell_type": "code",
   "execution_count": 37,
   "metadata": {},
   "outputs": [
    {
     "data": {
      "application/vnd.jupyter.widget-view+json": {
       "model_id": "c49a4098a1154968a28b9d25806ee60e",
       "version_major": 2,
       "version_minor": 0
      },
      "text/plain": [
       "HBox(children=(HTML(value=''), FloatProgress(value=0.0, max=53.0), HTML(value='')))"
      ]
     },
     "metadata": {},
     "output_type": "display_data"
    },
    {
     "name": "stdout",
     "output_type": "stream",
     "text": [
      "\n"
     ]
    }
   ],
   "source": [
    "df_item_temp = df_item_CV.copy()\n",
    "for week in tqdm(list(range(last_week + 1))):\n",
    "    df_log_temp = df_log_CV_train_valid[df_log_CV_train_valid['week'] == week]\n",
    "    df_iid_count_temp = df_log_temp[['article_id', 'customer_id']].groupby('article_id').count()\n",
    "    df_iid_count_temp.columns = [f'week_{week}_count']\n",
    "    df_item_temp = df_item_temp.merge(df_iid_count_temp, how='left', left_index=True, right_index=True)\n",
    "    df_item_temp[f'week_{week}_count'].fillna(0, inplace=True)"
   ]
  },
  {
   "cell_type": "code",
   "execution_count": 38,
   "metadata": {},
   "outputs": [],
   "source": [
    "def ascender(weight, power, ss):\n",
    "    return np.power(weight, power) * ss"
   ]
  },
  {
   "cell_type": "code",
   "execution_count": 39,
   "metadata": {},
   "outputs": [],
   "source": [
    "week_cuts = list(range(2, last_week - min_week + 2))"
   ]
  },
  {
   "cell_type": "code",
   "execution_count": 40,
   "metadata": {},
   "outputs": [],
   "source": [
    "powers = [i / 10 for i in range(1, 10)] + [i / 2 for i in range(2, 20)] + [i * 10 for i in range(1, 6)] + [100]\n",
    "powers = [float(power) for power in powers]"
   ]
  },
  {
   "cell_type": "code",
   "execution_count": 41,
   "metadata": {},
   "outputs": [
    {
     "data": {
      "application/vnd.jupyter.widget-view+json": {
       "model_id": "9fe0a380a3984104ba9330664c6d3aa7",
       "version_major": 2,
       "version_minor": 0
      },
      "text/plain": [
       "HBox(children=(HTML(value=''), FloatProgress(value=0.0, max=52.0), HTML(value='')))"
      ]
     },
     "metadata": {},
     "output_type": "display_data"
    },
    {
     "name": "stdout",
     "output_type": "stream",
     "text": [
      "\n"
     ]
    }
   ],
   "source": [
    "results = []\n",
    "for week_cut in tqdm(week_cuts):\n",
    "    mAPs = []\n",
    "    for power in powers:\n",
    "        df_item_temp['awp'] = 0\n",
    "        start_week = last_week - week_cut + 1\n",
    "        for week in range(start_week, last_week + 1):\n",
    "            weight = (week - start_week + 1) / (last_week - start_week + 2)\n",
    "            df_item_temp['awp'] += ascender(weight, power, df_item_temp[f'week_{week}_count'])\n",
    "        ascending_popular_iids = list(df_item_temp['awp'].sort_values(ascending=False).iloc[:12].index)\n",
    "        APs = []\n",
    "        for uid, aiidset in uid2aiidset_CV.items():\n",
    "            AP = utils.calc_ap(aiidset, ascending_popular_iids)\n",
    "            APs.append(AP)\n",
    "        mAP = np.array(APs).mean()\n",
    "        mAPs.append(mAP)\n",
    "    best_power_index = np.argsort(mAPs)[::-1][0]\n",
    "    results.append((best_power_index, mAPs[best_power_index]))"
   ]
  },
  {
   "cell_type": "code",
   "execution_count": 42,
   "metadata": {},
   "outputs": [
    {
     "data": {
      "text/plain": [
       "[<matplotlib.lines.Line2D at 0x7ff0e089bd90>]"
      ]
     },
     "execution_count": 42,
     "metadata": {},
     "output_type": "execute_result"
    },
    {
     "data": {
      "image/png": "[encoded data removed]",
      "text/plain": [
       "<Figure size 432x288 with 1 Axes>"
      ]
     },
     "metadata": {
      "needs_background": "light"
     },
     "output_type": "display_data"
    }
   ],
   "source": [
    "plt.plot(week_cuts, [mAP for _, mAP in results])"
   ]
  },
  {
   "cell_type": "code",
   "execution_count": 43,
   "metadata": {},
   "outputs": [],
   "source": [
    "best_week_cut_index = np.argsort([mAP for _, mAP in results])[-1]\n",
    "best_power_index, mAP = results[best_week_cut_index]\n",
    "best_week_cut = week_cuts[best_week_cut_index]\n",
    "best_power = powers[best_power_index]"
   ]
  },
  {
   "cell_type": "code",
   "execution_count": 44,
   "metadata": {},
   "outputs": [
    {
     "name": "stdout",
     "output_type": "stream",
     "text": [
      "AWP_WC6_P0.8_CV: 0.6497%\n"
     ]
    }
   ],
   "source": [
    "print(f\"AWP_WC{best_week_cut}_P{best_power}_CV: {100 * mAP:.04f}%\")"
   ]
  },
  {
   "cell_type": "code",
   "execution_count": 45,
   "metadata": {},
   "outputs": [],
   "source": [
    "del results\n",
    "del APs\n",
    "del mAPs\n",
    "del ascending_popular_iids"
   ]
  },
  {
   "cell_type": "code",
   "execution_count": 46,
   "metadata": {},
   "outputs": [],
   "source": [
    "del df_item_temp\n",
    "del df_log_temp\n",
    "del df_iid_count_temp"
   ]
  },
  {
   "cell_type": "markdown",
   "metadata": {},
   "source": [
    "### 이제 LB에 적용"
   ]
  },
  {
   "cell_type": "code",
   "execution_count": 47,
   "metadata": {},
   "outputs": [],
   "source": [
    "last_week = df_log_LB['week'].max()"
   ]
  },
  {
   "cell_type": "code",
   "execution_count": 48,
   "metadata": {},
   "outputs": [],
   "source": [
    "start_week = last_week - best_week_cut + 1"
   ]
  },
  {
   "cell_type": "code",
   "execution_count": 49,
   "metadata": {},
   "outputs": [
    {
     "name": "stdout",
     "output_type": "stream",
     "text": [
      "CPU times: user 1.02 s, sys: 18.8 ms, total: 1.04 s\n",
      "Wall time: 803 ms\n"
     ]
    }
   ],
   "source": [
    "%%time\n",
    "df_item_temp = df_item_LB.copy()\n",
    "for week in range(start_week, last_week + 1):\n",
    "    df_log_temp = df_log_LB[df_log_LB['week'] == week]\n",
    "    df_iid_count_temp = df_log_temp[['article_id', 'customer_id']].groupby('article_id').count()\n",
    "    df_iid_count_temp.columns = [f'week_{week}_count']\n",
    "    df_item_temp = df_item_temp.merge(df_iid_count_temp, how='left', left_index=True, right_index=True)\n",
    "    df_item_temp[f'week_{week}_count'].fillna(0, inplace=True)"
   ]
  },
  {
   "cell_type": "code",
   "execution_count": 50,
   "metadata": {},
   "outputs": [],
   "source": [
    "df_item_temp['awp'] = 0\n",
    "for week in range(start_week, last_week + 1):\n",
    "    weight = (week - min_week + 1) / (last_week - min_week + 2)\n",
    "    df_item_temp['awp'] += ascender(weight, power, df_item_temp[f'week_{week}_count'])\n",
    "ascending_popular_iids = list(df_item_temp['awp'].sort_values(ascending=False).iloc[:12].index)"
   ]
  },
  {
   "cell_type": "markdown",
   "metadata": {},
   "source": [
    "서브밋"
   ]
  },
  {
   "cell_type": "code",
   "execution_count": 51,
   "metadata": {},
   "outputs": [],
   "source": [
    "os.makedirs('data/subs', exist_ok=True)"
   ]
  },
  {
   "cell_type": "code",
   "execution_count": 52,
   "metadata": {},
   "outputs": [
    {
     "data": {
      "text/plain": [
       "'AWP_WC6_P0.8'"
      ]
     },
     "execution_count": 52,
     "metadata": {},
     "output_type": "execute_result"
    }
   ],
   "source": [
    "sub_name = f'AWP_WC{best_week_cut}_P{best_power}'\n",
    "sub_name"
   ]
  },
  {
   "cell_type": "code",
   "execution_count": 53,
   "metadata": {},
   "outputs": [
    {
     "name": "stdout",
     "output_type": "stream",
     "text": [
      "CPU times: user 13.2 s, sys: 96.2 ms, total: 13.2 s\n",
      "Wall time: 13.4 s\n"
     ]
    }
   ],
   "source": [
    "%%time\n",
    "df_sub_temp = df_sub_raw.copy()\n",
    "df_sub_temp['prediction'] = ' '.join(ascending_popular_iids)\n",
    "df_sub_temp.to_csv(f'data/subs/{sub_name}_LB.csv.gz', index=False)"
   ]
  },
  {
   "cell_type": "code",
   "execution_count": 54,
   "metadata": {},
   "outputs": [],
   "source": [
    "# !kaggle competitions submit -c h-and-m-personalized-fashion-recommendations -f 'data/subs/{sub_name}_LB.csv.gz' -m \"ascending week popular tuned\"\n",
    "# WC6 P0.8 gives you 0.25%\n",
    "# WC7 P1.0 gives you 0.57%"
   ]
  },
  {
   "cell_type": "code",
   "execution_count": 55,
   "metadata": {},
   "outputs": [],
   "source": [
    "del df_sub_temp\n",
    "del ascending_popular_iids"
   ]
  },
  {
   "cell_type": "code",
   "execution_count": 56,
   "metadata": {},
   "outputs": [],
   "source": [
    "del df_item_temp\n",
    "del df_iid_count_temp\n",
    "del df_log_temp"
   ]
  },
  {
   "cell_type": "markdown",
   "metadata": {},
   "source": [
    "---"
   ]
  },
  {
   "cell_type": "markdown",
   "metadata": {},
   "source": [
    "# 5. New Items"
   ]
  },
  {
   "cell_type": "markdown",
   "metadata": {},
   "source": [
    "### CV에서 먼저 튜닝"
   ]
  },
  {
   "cell_type": "markdown",
   "metadata": {},
   "source": [
    "garment별로 뽑아봅시다. 분포부터 확인"
   ]
  },
  {
   "cell_type": "code",
   "execution_count": 57,
   "metadata": {},
   "outputs": [
    {
     "name": "stdout",
     "output_type": "stream",
     "text": [
      "CPU times: user 3.81 s, sys: 851 ms, total: 4.66 s\n",
      "Wall time: 4.65 s\n"
     ]
    }
   ],
   "source": [
    "%%time\n",
    "df_log_with_garment = df_log_CV.merge(df_item_CV[['garment_group_no']], how='left', left_on='article_id', right_index=True)"
   ]
  },
  {
   "cell_type": "code",
   "execution_count": 58,
   "metadata": {},
   "outputs": [
    {
     "data": {
      "text/plain": [
       "<AxesSubplot:ylabel='garment_group_no'>"
      ]
     },
     "execution_count": 58,
     "metadata": {},
     "output_type": "execute_result"
    },
    {
     "data": {
      "image/png": "[encoded data removed]",
      "text/plain": [
       "<Figure size 432x288 with 1 Axes>"
      ]
     },
     "metadata": {},
     "output_type": "display_data"
    }
   ],
   "source": [
    "df_log_with_garment['garment_group_no'].value_counts().plot(kind='pie', autopct='%1.1f%%')"
   ]
  },
  {
   "cell_type": "code",
   "execution_count": 59,
   "metadata": {},
   "outputs": [],
   "source": [
    "ss_garment_count = df_log_with_garment['garment_group_no'].value_counts().drop(index=[-1])\n",
    "ss_garment_dist = ss_garment_count / ss_garment_count.sum()"
   ]
  },
  {
   "cell_type": "code",
   "execution_count": 60,
   "metadata": {},
   "outputs": [],
   "source": [
    "del ss_garment_count\n",
    "del df_log_with_garment"
   ]
  },
  {
   "cell_type": "code",
   "execution_count": 61,
   "metadata": {},
   "outputs": [
    {
     "data": {
      "text/plain": [
       "1005    2.011556\n",
       "1002    1.201807\n",
       "1009    1.136576\n",
       "1017    1.029486\n",
       "1018    0.989822\n",
       "1010    0.980308\n",
       "1003    0.936915\n",
       "1013    0.812032\n",
       "1019    0.623213\n",
       "1016    0.513673\n",
       "1025    0.304939\n",
       "1020    0.300435\n",
       "Name: garment_group_no, dtype: float64"
      ]
     },
     "execution_count": 61,
     "metadata": {},
     "output_type": "execute_result"
    }
   ],
   "source": [
    "(ss_garment_dist * 12)[:12]"
   ]
  },
  {
   "cell_type": "markdown",
   "metadata": {},
   "source": [
    "적당히 갯수 배분하겠음"
   ]
  },
  {
   "cell_type": "code",
   "execution_count": 62,
   "metadata": {},
   "outputs": [
    {
     "name": "stdout",
     "output_type": "stream",
     "text": [
      "12\n"
     ]
    }
   ],
   "source": [
    "gid2quota = round(ss_garment_dist * 12)[:11].to_dict()\n",
    "for gid in gid2quota:\n",
    "    gid2quota[gid] = int(max(1, gid2quota[gid]))\n",
    "print(sum(gid2quota.values()))"
   ]
  },
  {
   "cell_type": "code",
   "execution_count": 63,
   "metadata": {},
   "outputs": [],
   "source": [
    "del ss_garment_dist"
   ]
  },
  {
   "cell_type": "code",
   "execution_count": 64,
   "metadata": {},
   "outputs": [
    {
     "name": "stdout",
     "output_type": "stream",
     "text": [
      "CPU times: user 1.06 s, sys: 11.4 ms, total: 1.07 s\n",
      "Wall time: 1.06 s\n"
     ]
    }
   ],
   "source": [
    "%%time\n",
    "new_iids = df_log_CV[df_log_CV['target'] == 'test']['article_id'].to_list()\n",
    "df_item_temp = df_item_CV[(df_item_CV['is_new'] == 1) & df_item_CV.index.isin(new_iids)]"
   ]
  },
  {
   "cell_type": "code",
   "execution_count": 65,
   "metadata": {},
   "outputs": [],
   "source": [
    "new_popular_iids = []\n",
    "for gid, quota in gid2quota.items():\n",
    "    rows = df_item_temp[df_item_temp['garment_group_no'] == gid].iloc[-quota:]\n",
    "    iids = rows.index.to_list()[::-1]\n",
    "    new_popular_iids.extend(iids)"
   ]
  },
  {
   "cell_type": "code",
   "execution_count": 66,
   "metadata": {},
   "outputs": [
    {
     "name": "stdout",
     "output_type": "stream",
     "text": [
      "CPU times: user 159 ms, sys: 0 ns, total: 159 ms\n",
      "Wall time: 158 ms\n"
     ]
    }
   ],
   "source": [
    "%%time\n",
    "APs = []\n",
    "for uid, aiidset in uid2aiidset_CV.items():\n",
    "    AP = utils.calc_ap(aiidset, new_popular_iids)\n",
    "    APs.append(AP)\n",
    "mAP = np.array(APs).mean()"
   ]
  },
  {
   "cell_type": "code",
   "execution_count": 67,
   "metadata": {},
   "outputs": [
    {
     "name": "stdout",
     "output_type": "stream",
     "text": [
      "NEW_GARMENT_CV: 0.0175%\n"
     ]
    }
   ],
   "source": [
    "print(f\"NEW_GARMENT_CV: {100 * mAP:.04f}%\")"
   ]
  },
  {
   "cell_type": "code",
   "execution_count": 68,
   "metadata": {},
   "outputs": [],
   "source": [
    "new_popular_iids = df_item_temp.index.to_list()[:12]"
   ]
  },
  {
   "cell_type": "code",
   "execution_count": 69,
   "metadata": {},
   "outputs": [
    {
     "name": "stdout",
     "output_type": "stream",
     "text": [
      "CPU times: user 161 ms, sys: 76 µs, total: 161 ms\n",
      "Wall time: 160 ms\n"
     ]
    }
   ],
   "source": [
    "%%time\n",
    "APs = []\n",
    "for uid, aiidset in uid2aiidset_CV.items():\n",
    "    AP = utils.calc_ap(aiidset, new_popular_iids)\n",
    "    APs.append(AP)\n",
    "mAP = np.array(APs).mean()"
   ]
  },
  {
   "cell_type": "code",
   "execution_count": 70,
   "metadata": {},
   "outputs": [
    {
     "name": "stdout",
     "output_type": "stream",
     "text": [
      "NEW_ASCENDING_CV: 0.0015%\n"
     ]
    }
   ],
   "source": [
    "print(f\"NEW_ASCENDING_CV: {100 * mAP:.04f}%\")"
   ]
  },
  {
   "cell_type": "code",
   "execution_count": 71,
   "metadata": {},
   "outputs": [],
   "source": [
    "new_popular_iids = df_item_temp.index.to_list()[-12:]"
   ]
  },
  {
   "cell_type": "code",
   "execution_count": 72,
   "metadata": {},
   "outputs": [
    {
     "name": "stdout",
     "output_type": "stream",
     "text": [
      "CPU times: user 159 ms, sys: 4.27 ms, total: 163 ms\n",
      "Wall time: 162 ms\n"
     ]
    }
   ],
   "source": [
    "%%time\n",
    "APs = []\n",
    "for uid, aiidset in uid2aiidset_CV.items():\n",
    "    AP = utils.calc_ap(aiidset, new_popular_iids)\n",
    "    APs.append(AP)\n",
    "mAP = np.array(APs).mean()"
   ]
  },
  {
   "cell_type": "code",
   "execution_count": 73,
   "metadata": {},
   "outputs": [
    {
     "name": "stdout",
     "output_type": "stream",
     "text": [
      "NEW_DESCENDING_CV: 0.0077%\n"
     ]
    }
   ],
   "source": [
    "print(f\"NEW_DESCENDING_CV: {100 * mAP:.04f}%\")"
   ]
  },
  {
   "cell_type": "code",
   "execution_count": 74,
   "metadata": {},
   "outputs": [],
   "source": [
    "del APs\n",
    "del new_popular_iids\n",
    "del df_item_temp"
   ]
  },
  {
   "cell_type": "markdown",
   "metadata": {},
   "source": [
    "이걸 어쩌지?? 그래도 LB에서 해볼까말까...\n",
    "\n",
    "딱 한번만 해보자..."
   ]
  },
  {
   "cell_type": "markdown",
   "metadata": {},
   "source": [
    "### LB에서 적용"
   ]
  },
  {
   "cell_type": "code",
   "execution_count": 75,
   "metadata": {},
   "outputs": [
    {
     "name": "stdout",
     "output_type": "stream",
     "text": [
      "CPU times: user 3.29 s, sys: 708 ms, total: 4 s\n",
      "Wall time: 3.99 s\n"
     ]
    }
   ],
   "source": [
    "%%time\n",
    "df_log_with_garment = df_log_LB.merge(df_item_LB[['garment_group_no']], how='left', left_on='article_id', right_index=True)"
   ]
  },
  {
   "cell_type": "code",
   "execution_count": 76,
   "metadata": {},
   "outputs": [
    {
     "data": {
      "text/plain": [
       "<AxesSubplot:ylabel='garment_group_no'>"
      ]
     },
     "execution_count": 76,
     "metadata": {},
     "output_type": "execute_result"
    },
    {
     "data": {
      "image/png": "[encoded data removed]",
      "text/plain": [
       "<Figure size 432x288 with 1 Axes>"
      ]
     },
     "metadata": {},
     "output_type": "display_data"
    }
   ],
   "source": [
    "df_log_with_garment['garment_group_no'].value_counts().plot(kind='pie', autopct='%1.1f%%')"
   ]
  },
  {
   "cell_type": "code",
   "execution_count": 77,
   "metadata": {},
   "outputs": [],
   "source": [
    "ss_garment_count = df_log_with_garment['garment_group_no'].value_counts().drop(index=[-1])\n",
    "ss_garment_dist = ss_garment_count / ss_garment_count.sum()"
   ]
  },
  {
   "cell_type": "code",
   "execution_count": 78,
   "metadata": {},
   "outputs": [],
   "source": [
    "del ss_garment_count\n",
    "del df_log_with_garment"
   ]
  },
  {
   "cell_type": "code",
   "execution_count": 79,
   "metadata": {},
   "outputs": [
    {
     "data": {
      "text/plain": [
       "1005    1.923759\n",
       "1002    1.305770\n",
       "1017    1.252642\n",
       "1009    1.127035\n",
       "1010    0.931751\n",
       "1003    0.931658\n",
       "1018    0.913386\n",
       "1013    0.822413\n",
       "1019    0.634289\n",
       "1016    0.463791\n",
       "1021    0.304620\n",
       "1007    0.274681\n",
       "Name: garment_group_no, dtype: float64"
      ]
     },
     "execution_count": 79,
     "metadata": {},
     "output_type": "execute_result"
    }
   ],
   "source": [
    "(ss_garment_dist * 12)[:12]"
   ]
  },
  {
   "cell_type": "markdown",
   "metadata": {},
   "source": [
    "적당히 갯수 배분하겠음"
   ]
  },
  {
   "cell_type": "code",
   "execution_count": 80,
   "metadata": {},
   "outputs": [
    {
     "name": "stdout",
     "output_type": "stream",
     "text": [
      "12\n"
     ]
    }
   ],
   "source": [
    "gid2quota = round(ss_garment_dist * 12)[:11].to_dict()\n",
    "for gid in gid2quota:\n",
    "    gid2quota[gid] = int(max(1, gid2quota[gid]))\n",
    "print(sum(gid2quota.values()))"
   ]
  },
  {
   "cell_type": "code",
   "execution_count": 81,
   "metadata": {},
   "outputs": [],
   "source": [
    "del ss_garment_dist"
   ]
  },
  {
   "cell_type": "code",
   "execution_count": 82,
   "metadata": {},
   "outputs": [
    {
     "name": "stdout",
     "output_type": "stream",
     "text": [
      "CPU times: user 1.21 s, sys: 52.7 ms, total: 1.27 s\n",
      "Wall time: 1.26 s\n"
     ]
    }
   ],
   "source": [
    "%%time\n",
    "new_iids = set(df_item_LB.index.to_list()) - set(df_log_LB['article_id'].unique())\n",
    "df_item_temp = df_item_LB[(df_item_LB['is_new'] == 1) & df_item_LB.index.isin(new_iids)]"
   ]
  },
  {
   "cell_type": "code",
   "execution_count": 83,
   "metadata": {},
   "outputs": [],
   "source": [
    "new_popular_iids = []\n",
    "for gid, quota in gid2quota.items():\n",
    "    rows = df_item_temp[df_item_temp['garment_group_no'] == gid].iloc[-quota:]\n",
    "    iids = rows.index.to_list()[::-1]\n",
    "    new_popular_iids.extend(iids)"
   ]
  },
  {
   "cell_type": "markdown",
   "metadata": {},
   "source": [
    "서브밋"
   ]
  },
  {
   "cell_type": "code",
   "execution_count": 84,
   "metadata": {},
   "outputs": [],
   "source": [
    "os.makedirs('data/subs', exist_ok=True)"
   ]
  },
  {
   "cell_type": "code",
   "execution_count": 85,
   "metadata": {},
   "outputs": [
    {
     "data": {
      "text/plain": [
       "'NEW_GARMENT'"
      ]
     },
     "execution_count": 85,
     "metadata": {},
     "output_type": "execute_result"
    }
   ],
   "source": [
    "sub_name = 'NEW_GARMENT'\n",
    "sub_name"
   ]
  },
  {
   "cell_type": "code",
   "execution_count": 86,
   "metadata": {},
   "outputs": [
    {
     "name": "stdout",
     "output_type": "stream",
     "text": [
      "CPU times: user 13 s, sys: 48.6 ms, total: 13.1 s\n",
      "Wall time: 13.1 s\n"
     ]
    }
   ],
   "source": [
    "%%time\n",
    "df_sub_temp = df_sub_raw.copy()\n",
    "df_sub_temp['prediction'] = ' '.join(new_popular_iids)\n",
    "df_sub_temp.to_csv(f'data/subs/{sub_name}_LB.csv.gz', index=False)"
   ]
  },
  {
   "cell_type": "code",
   "execution_count": 87,
   "metadata": {},
   "outputs": [],
   "source": [
    "# !kaggle competitions submit -c h-and-m-personalized-fashion-recommendations -f 'data/subs/{sub_name}_LB.csv.gz' -m \"new items per garment\"\n",
    "# gives you 0.03%"
   ]
  },
  {
   "cell_type": "code",
   "execution_count": 88,
   "metadata": {},
   "outputs": [],
   "source": [
    "del df_sub_temp\n",
    "del new_popular_iids\n",
    "del df_item_temp"
   ]
  },
  {
   "cell_type": "markdown",
   "metadata": {},
   "source": [
    "---"
   ]
  },
  {
   "cell_type": "markdown",
   "metadata": {},
   "source": [
    "# 6. Recent Bought"
   ]
  },
  {
   "cell_type": "markdown",
   "metadata": {},
   "source": [
    "### CV에서 튜닝?"
   ]
  },
  {
   "cell_type": "markdown",
   "metadata": {},
   "source": [
    "baseline부터 준비. 4-week best로."
   ]
  },
  {
   "cell_type": "code",
   "execution_count": 89,
   "metadata": {},
   "outputs": [],
   "source": [
    "best_week_cut = 4"
   ]
  },
  {
   "cell_type": "code",
   "execution_count": 90,
   "metadata": {},
   "outputs": [],
   "source": [
    "last_week = df_log_CV_train_valid['week'].max()"
   ]
  },
  {
   "cell_type": "code",
   "execution_count": 91,
   "metadata": {},
   "outputs": [],
   "source": [
    "df_log_temp = df_log_CV_train_valid[df_log_CV_train_valid['week'] > last_week - best_week_cut]\n",
    "df_iid_count_temp = df_log_temp[['article_id', 'customer_id']].groupby('article_id').count()\n",
    "df_iid_count_temp.columns = ['count']\n",
    "local_popular_iids = list(df_iid_count_temp.sort_values('count', ascending=False).iloc[:12].index)"
   ]
  },
  {
   "cell_type": "code",
   "execution_count": 92,
   "metadata": {},
   "outputs": [],
   "source": [
    "del df_iid_count_temp\n",
    "del df_log_temp"
   ]
  },
  {
   "cell_type": "markdown",
   "metadata": {},
   "source": [
    "하나씩 전부 해보기. 근데 진짜 다 하진 말구... 1 ~ 20 정도만"
   ]
  },
  {
   "cell_type": "code",
   "execution_count": 93,
   "metadata": {},
   "outputs": [],
   "source": [
    "max_week_cut = 20\n",
    "week_cuts = list(range(1, max_week_cut + 1))"
   ]
  },
  {
   "cell_type": "code",
   "execution_count": 94,
   "metadata": {},
   "outputs": [
    {
     "data": {
      "application/vnd.jupyter.widget-view+json": {
       "model_id": "729229fde208499aae7d07af4c5a19b2",
       "version_major": 2,
       "version_minor": 0
      },
      "text/plain": [
       "HBox(children=(HTML(value=''), FloatProgress(value=0.0, max=20.0), HTML(value='')))"
      ]
     },
     "metadata": {},
     "output_type": "display_data"
    },
    {
     "name": "stdout",
     "output_type": "stream",
     "text": [
      "\n"
     ]
    }
   ],
   "source": [
    "results = []\n",
    "for week_cut in tqdm(list(range(1, max_week_cut + 1))):\n",
    "    df_log_temp = df_log_CV_train_valid[df_log_CV_train_valid['week'] > (last_week - week_cut)]\n",
    "    df_iid_count_temp = df_log_temp[['article_id', 'customer_id']].groupby('article_id').count()\n",
    "    df_iid_count_temp.columns = ['count']\n",
    "    df_log_temp = df_log_temp.merge(df_iid_count_temp, how='left', left_on='article_id', right_index=True)\n",
    "    df_log_temp = df_log_temp.sort_values(['t_dat', 'count'], ascending=[False, False])\n",
    "    df_recent_boughts = df_log_temp.groupby('customer_id').agg({'article_id': lambda x: list(x)[:12]})\n",
    "    df_recent_boughts.columns = ['recent_boughts']\n",
    "    APs = []\n",
    "    for uid, aiidset in uid2aiidset_CV.items():\n",
    "        predictions = []\n",
    "        try:\n",
    "            recent_bought_iids = df_recent_boughts.loc[uid, 'recent_boughts']\n",
    "        except KeyError:\n",
    "            recent_bought_iids = []\n",
    "        for iid in recent_bought_iids:\n",
    "            if iid in predictions:\n",
    "                continue\n",
    "            predictions.append(iid)\n",
    "        for iid in local_popular_iids:\n",
    "            if iid in predictions:\n",
    "                continue\n",
    "            predictions.append(iid)\n",
    "        AP = utils.calc_ap(aiidset, predictions[:12])\n",
    "        APs.append(AP)\n",
    "    mAP = np.array(APs).mean()\n",
    "    results.append((week_cut, mAP))"
   ]
  },
  {
   "cell_type": "code",
   "execution_count": 95,
   "metadata": {},
   "outputs": [
    {
     "data": {
      "text/plain": [
       "[<matplotlib.lines.Line2D at 0x7ff0c68538e0>]"
      ]
     },
     "execution_count": 95,
     "metadata": {},
     "output_type": "execute_result"
    },
    {
     "data": {
      "image/png": "[encoded data removed]",
      "text/plain": [
       "<Figure size 432x288 with 1 Axes>"
      ]
     },
     "metadata": {
      "needs_background": "light"
     },
     "output_type": "display_data"
    }
   ],
   "source": [
    "plt.plot(week_cuts, [mAP for _, mAP in results])"
   ]
  },
  {
   "cell_type": "code",
   "execution_count": 96,
   "metadata": {},
   "outputs": [],
   "source": [
    "week_cut, mAP = sorted(results, key=lambda x: x[1], reverse=True)[0]"
   ]
  },
  {
   "cell_type": "code",
   "execution_count": 97,
   "metadata": {},
   "outputs": [
    {
     "name": "stdout",
     "output_type": "stream",
     "text": [
      "RB_WC8_CV: 2.0657%\n"
     ]
    }
   ],
   "source": [
    "print(f\"RB_WC{week_cut}_CV: {100 * mAP:.04f}%\")"
   ]
  },
  {
   "cell_type": "code",
   "execution_count": 98,
   "metadata": {},
   "outputs": [],
   "source": [
    "del results\n",
    "del APs\n",
    "del df_recent_boughts\n",
    "del recent_bought_iids\n",
    "del local_popular_iids"
   ]
  },
  {
   "cell_type": "code",
   "execution_count": 99,
   "metadata": {},
   "outputs": [],
   "source": [
    "del df_iid_count_temp\n",
    "del df_log_temp"
   ]
  },
  {
   "cell_type": "markdown",
   "metadata": {},
   "source": [
    "### LB에 적용"
   ]
  },
  {
   "cell_type": "markdown",
   "metadata": {},
   "source": [
    "baseline부터 준비. 1-week best로."
   ]
  },
  {
   "cell_type": "code",
   "execution_count": 100,
   "metadata": {},
   "outputs": [],
   "source": [
    "best_week_cut = 1"
   ]
  },
  {
   "cell_type": "code",
   "execution_count": 101,
   "metadata": {},
   "outputs": [],
   "source": [
    "last_week = df_log_LB['week'].max()"
   ]
  },
  {
   "cell_type": "code",
   "execution_count": 102,
   "metadata": {},
   "outputs": [],
   "source": [
    "df_log_temp = df_log_LB[df_log_LB['week'] > last_week - best_week_cut]\n",
    "df_iid_count_temp = df_log_temp[['article_id', 'customer_id']].groupby('article_id').count()\n",
    "df_iid_count_temp.columns = ['count']\n",
    "local_popular_iids = list(df_iid_count_temp.sort_values('count', ascending=False).iloc[:12].index)"
   ]
  },
  {
   "cell_type": "code",
   "execution_count": 103,
   "metadata": {},
   "outputs": [],
   "source": [
    "del df_iid_count_temp\n",
    "del df_log_temp"
   ]
  },
  {
   "cell_type": "markdown",
   "metadata": {},
   "source": [
    "CV에선 8이 best라고는 하는데... 1, 3, 7까지 다 해보는게 좋으려나;"
   ]
  },
  {
   "cell_type": "code",
   "execution_count": 104,
   "metadata": {},
   "outputs": [],
   "source": [
    "week_diff = 8"
   ]
  },
  {
   "cell_type": "code",
   "execution_count": 105,
   "metadata": {},
   "outputs": [
    {
     "name": "stdout",
     "output_type": "stream",
     "text": [
      "CPU times: user 5.97 s, sys: 169 ms, total: 6.14 s\n",
      "Wall time: 6.1 s\n"
     ]
    }
   ],
   "source": [
    "%%time\n",
    "df_log_temp = df_log_LB[df_log_LB['week'] > (last_week - week_diff)]\n",
    "df_iid_count_temp = df_log_temp[['article_id', 'customer_id']].groupby('article_id').count()\n",
    "df_iid_count_temp.columns = ['count']\n",
    "df_log_temp = df_log_temp.merge(df_iid_count_temp, how='left', left_on='article_id', right_index=True)\n",
    "df_log_temp = df_log_temp.sort_values(['t_dat', 'count'], ascending=[False, False])\n",
    "df_recent_boughts = df_log_temp.groupby('customer_id').agg({'article_id': lambda x: list(x)[:12]})\n",
    "df_recent_boughts.columns = ['recent_boughts']"
   ]
  },
  {
   "cell_type": "markdown",
   "metadata": {},
   "source": [
    "인퍼런스"
   ]
  },
  {
   "cell_type": "code",
   "execution_count": 106,
   "metadata": {},
   "outputs": [
    {
     "name": "stdout",
     "output_type": "stream",
     "text": [
      "CPU times: user 36.3 ms, sys: 39.7 ms, total: 76 ms\n",
      "Wall time: 74.4 ms\n"
     ]
    }
   ],
   "source": [
    "%%time\n",
    "df_sub_temp = df_sub_raw.copy()"
   ]
  },
  {
   "cell_type": "code",
   "execution_count": 107,
   "metadata": {},
   "outputs": [
    {
     "data": {
      "application/vnd.jupyter.widget-view+json": {
       "model_id": "f5b04684e8a643e2a0c894aa727e0268",
       "version_major": 2,
       "version_minor": 0
      },
      "text/plain": [
       "HBox(children=(HTML(value=''), FloatProgress(value=0.0, max=1371980.0), HTML(value='')))"
      ]
     },
     "metadata": {},
     "output_type": "display_data"
    },
    {
     "name": "stdout",
     "output_type": "stream",
     "text": [
      "\n"
     ]
    }
   ],
   "source": [
    "sub_rows = []\n",
    "uids = df_sub_temp['customer_id'].to_list()\n",
    "for uid in tqdm(uids):\n",
    "    predictions = []\n",
    "    try:\n",
    "        recent_bought_iids = df_recent_boughts.loc[uid, 'recent_boughts']\n",
    "    except KeyError:\n",
    "        recent_bought_iids = []\n",
    "    for iid in recent_bought_iids:\n",
    "        if iid in predictions:\n",
    "            continue\n",
    "        predictions.append(iid)\n",
    "    for iid in local_popular_iids:\n",
    "        if iid in predictions:\n",
    "            continue\n",
    "        predictions.append(iid)\n",
    "    sub_rows.append((uid, ' '.join(predictions[:12])))"
   ]
  },
  {
   "cell_type": "markdown",
   "metadata": {},
   "source": [
    "서브밋"
   ]
  },
  {
   "cell_type": "code",
   "execution_count": 108,
   "metadata": {},
   "outputs": [],
   "source": [
    "os.makedirs('data/subs', exist_ok=True)"
   ]
  },
  {
   "cell_type": "code",
   "execution_count": 109,
   "metadata": {},
   "outputs": [
    {
     "data": {
      "text/plain": [
       "'RB_WD8'"
      ]
     },
     "execution_count": 109,
     "metadata": {},
     "output_type": "execute_result"
    }
   ],
   "source": [
    "sub_name = f'RB_WD{week_diff}'\n",
    "sub_name"
   ]
  },
  {
   "cell_type": "code",
   "execution_count": 110,
   "metadata": {},
   "outputs": [
    {
     "name": "stdout",
     "output_type": "stream",
     "text": [
      "CPU times: user 18.9 s, sys: 136 ms, total: 19 s\n",
      "Wall time: 19 s\n"
     ]
    }
   ],
   "source": [
    "%%time\n",
    "df_sub_temp = pd.DataFrame(sub_rows)\n",
    "df_sub_temp.columns = ['customer_id', 'prediction']\n",
    "df_sub_temp.to_csv(f'data/subs/{sub_name}_LB.csv.gz', index=False)"
   ]
  },
  {
   "cell_type": "code",
   "execution_count": 111,
   "metadata": {},
   "outputs": [],
   "source": [
    "# !kaggle competitions submit -c h-and-m-personalized-fashion-recommendations -f 'data/subs/{sub_name}_LB.csv.gz' -m \"recent bought\"\n",
    "# WD8 gives you 2.18%\n",
    "# WD3 gives you 2.16%\n",
    "# WD1 gives you 1.85%"
   ]
  },
  {
   "cell_type": "code",
   "execution_count": 112,
   "metadata": {},
   "outputs": [],
   "source": [
    "del df_recent_boughts\n",
    "del recent_bought_iids\n",
    "del local_popular_iids"
   ]
  },
  {
   "cell_type": "code",
   "execution_count": 113,
   "metadata": {},
   "outputs": [],
   "source": [
    "del df_iid_count_temp\n",
    "del df_log_temp"
   ]
  },
  {
   "cell_type": "markdown",
   "metadata": {},
   "source": [
    "---"
   ]
  },
  {
   "cell_type": "markdown",
   "metadata": {},
   "source": [
    "# 7. Recent Bought 에서 Cold 빼기"
   ]
  },
  {
   "cell_type": "markdown",
   "metadata": {},
   "source": [
    "### CV에서 튜닝?"
   ]
  },
  {
   "cell_type": "markdown",
   "metadata": {},
   "source": [
    "baseline부터 준비. 4-week best로."
   ]
  },
  {
   "cell_type": "code",
   "execution_count": 114,
   "metadata": {},
   "outputs": [],
   "source": [
    "best_week_cut = 4"
   ]
  },
  {
   "cell_type": "code",
   "execution_count": 115,
   "metadata": {},
   "outputs": [],
   "source": [
    "last_week = df_log_CV_train_valid['week'].max()"
   ]
  },
  {
   "cell_type": "code",
   "execution_count": 116,
   "metadata": {},
   "outputs": [],
   "source": [
    "df_log_temp = df_log_CV_train_valid[df_log_CV_train_valid['week'] > last_week - best_week_cut]\n",
    "df_iid_count_temp = df_log_temp[['article_id', 'customer_id']].groupby('article_id').count()\n",
    "df_iid_count_temp.columns = ['count']\n",
    "local_popular_iids = list(df_iid_count_temp.sort_values('count', ascending=False).iloc[:12].index)"
   ]
  },
  {
   "cell_type": "code",
   "execution_count": 117,
   "metadata": {},
   "outputs": [],
   "source": [
    "del df_iid_count_temp\n",
    "del df_log_temp"
   ]
  },
  {
   "cell_type": "markdown",
   "metadata": {},
   "source": [
    "하나씩 전부 해보기. 1 ~ 20 정도만\n",
    "\n",
    "count 할때는 cold user 데이터를 쓰지만, cold user 들한텐 recent boughts를 주지 않음"
   ]
  },
  {
   "cell_type": "code",
   "execution_count": 118,
   "metadata": {},
   "outputs": [],
   "source": [
    "max_week_cut = 20\n",
    "week_cuts = list(range(1, max_week_cut + 1))"
   ]
  },
  {
   "cell_type": "code",
   "execution_count": 119,
   "metadata": {},
   "outputs": [
    {
     "data": {
      "application/vnd.jupyter.widget-view+json": {
       "model_id": "ddfaf85f5d464f03b03f3aba72b96bb4",
       "version_major": 2,
       "version_minor": 0
      },
      "text/plain": [
       "HBox(children=(HTML(value=''), FloatProgress(value=0.0, max=20.0), HTML(value='')))"
      ]
     },
     "metadata": {},
     "output_type": "display_data"
    },
    {
     "name": "stdout",
     "output_type": "stream",
     "text": [
      "\n"
     ]
    }
   ],
   "source": [
    "results = []\n",
    "for week_cut in tqdm(week_cuts):\n",
    "    df_log_temp = df_log_CV_train_valid[df_log_CV_train_valid['week'] > (last_week - week_cut)]\n",
    "    df_iid_count_temp = df_log_temp[['article_id', 'customer_id']].groupby('article_id').count()\n",
    "    df_iid_count_temp.columns = ['count']\n",
    "    df_log_temp = df_log_temp.merge(df_iid_count_temp, how='left', left_on='article_id', right_index=True)\n",
    "    df_log_temp = df_log_temp.merge(df_user_CV['is_cold'], how='left', left_on='customer_id', right_index=True)\n",
    "    df_log_temp = df_log_temp[df_log_temp['is_cold'] == 0]\n",
    "    df_log_temp = df_log_temp.sort_values(['t_dat', 'count'], ascending=[False, False])\n",
    "    df_recent_boughts = df_log_temp.groupby('customer_id').agg({'article_id': lambda x: list(x)[:12]})\n",
    "    df_recent_boughts.columns = ['recent_boughts']\n",
    "    APs = []\n",
    "    for uid, aiidset in uid2aiidset_CV.items():\n",
    "        predictions = []\n",
    "        try:\n",
    "            recent_bought_iids = df_recent_boughts.loc[uid, 'recent_boughts']\n",
    "        except KeyError:\n",
    "            recent_bought_iids = []\n",
    "        for iid in recent_bought_iids:\n",
    "            if iid in predictions:\n",
    "                continue\n",
    "            predictions.append(iid)\n",
    "        for iid in local_popular_iids:\n",
    "            if iid in predictions:\n",
    "                continue\n",
    "            predictions.append(iid)\n",
    "        AP = utils.calc_ap(aiidset, predictions[:12])\n",
    "        APs.append(AP)\n",
    "    mAP = np.array(APs).mean()\n",
    "    results.append((week_cut, mAP))"
   ]
  },
  {
   "cell_type": "code",
   "execution_count": 120,
   "metadata": {},
   "outputs": [
    {
     "data": {
      "text/plain": [
       "[<matplotlib.lines.Line2D at 0x7fef13bf03a0>]"
      ]
     },
     "execution_count": 120,
     "metadata": {},
     "output_type": "execute_result"
    },
    {
     "data": {
      "image/png": "[encoded data removed]",
      "text/plain": [
       "<Figure size 432x288 with 1 Axes>"
      ]
     },
     "metadata": {
      "needs_background": "light"
     },
     "output_type": "display_data"
    }
   ],
   "source": [
    "plt.plot(week_cuts, [mAP for _, mAP in results])"
   ]
  },
  {
   "cell_type": "code",
   "execution_count": 121,
   "metadata": {},
   "outputs": [],
   "source": [
    "week_cut, mAP = sorted(results, key=lambda x: x[1], reverse=True)[0]"
   ]
  },
  {
   "cell_type": "code",
   "execution_count": 122,
   "metadata": {},
   "outputs": [
    {
     "name": "stdout",
     "output_type": "stream",
     "text": [
      "RBC_WC8_CV: 1.9564%\n"
     ]
    }
   ],
   "source": [
    "print(f\"RBC_WC{week_cut}_CV: {100 * mAP:.04f}%\")"
   ]
  },
  {
   "cell_type": "code",
   "execution_count": 123,
   "metadata": {},
   "outputs": [],
   "source": [
    "del results\n",
    "del APs\n",
    "del df_recent_boughts\n",
    "del recent_bought_iids\n",
    "del local_popular_iids"
   ]
  },
  {
   "cell_type": "code",
   "execution_count": 124,
   "metadata": {},
   "outputs": [],
   "source": [
    "del df_iid_count_temp\n",
    "del df_log_temp"
   ]
  },
  {
   "cell_type": "markdown",
   "metadata": {},
   "source": [
    "걍 하지 말자... 그래..."
   ]
  },
  {
   "cell_type": "markdown",
   "metadata": {},
   "source": [
    "---"
   ]
  },
  {
   "cell_type": "markdown",
   "metadata": {},
   "source": [
    "# 8. Recent Bought을 Global로 정렬하기"
   ]
  },
  {
   "cell_type": "markdown",
   "metadata": {},
   "source": [
    "### CV에서 튜닝?"
   ]
  },
  {
   "cell_type": "markdown",
   "metadata": {},
   "source": [
    "baseline부터 준비. 4-week best로."
   ]
  },
  {
   "cell_type": "code",
   "execution_count": 125,
   "metadata": {},
   "outputs": [],
   "source": [
    "best_week_cut = 4"
   ]
  },
  {
   "cell_type": "code",
   "execution_count": 126,
   "metadata": {},
   "outputs": [],
   "source": [
    "last_week = df_log_CV_train_valid['week'].max()"
   ]
  },
  {
   "cell_type": "code",
   "execution_count": 127,
   "metadata": {},
   "outputs": [],
   "source": [
    "df_log_temp = df_log_CV_train_valid[df_log_CV_train_valid['week'] > last_week - best_week_cut]\n",
    "df_iid_count_temp = df_log_temp[['article_id', 'customer_id']].groupby('article_id').count()\n",
    "df_iid_count_temp.columns = ['count']\n",
    "local_popular_iids = list(df_iid_count_temp.sort_values('count', ascending=False).iloc[:12].index)"
   ]
  },
  {
   "cell_type": "code",
   "execution_count": 128,
   "metadata": {},
   "outputs": [],
   "source": [
    "del df_iid_count_temp\n",
    "del df_log_temp"
   ]
  },
  {
   "cell_type": "markdown",
   "metadata": {},
   "source": [
    "하나씩 전부 해보기. 1 ~ 20 정도만\n",
    "\n",
    "정렬 기준으로 count만 사용"
   ]
  },
  {
   "cell_type": "code",
   "execution_count": 129,
   "metadata": {},
   "outputs": [],
   "source": [
    "max_week_cut = 20\n",
    "week_cuts = list(range(1, max_week_cut + 1))"
   ]
  },
  {
   "cell_type": "code",
   "execution_count": 130,
   "metadata": {},
   "outputs": [
    {
     "data": {
      "application/vnd.jupyter.widget-view+json": {
       "model_id": "797016643193464f9761e125907c85bf",
       "version_major": 2,
       "version_minor": 0
      },
      "text/plain": [
       "HBox(children=(HTML(value=''), FloatProgress(value=0.0, max=20.0), HTML(value='')))"
      ]
     },
     "metadata": {},
     "output_type": "display_data"
    },
    {
     "name": "stdout",
     "output_type": "stream",
     "text": [
      "\n"
     ]
    }
   ],
   "source": [
    "results = []\n",
    "for week_cut in tqdm(week_cuts):\n",
    "    df_log_temp = df_log_CV_train_valid[df_log_CV_train_valid['week'] > (last_week - week_cut)]\n",
    "    df_iid_count_temp = df_log_temp[['article_id', 'customer_id']].groupby('article_id').count()\n",
    "    df_iid_count_temp.columns = ['count']\n",
    "    df_log_temp = df_log_temp.merge(df_iid_count_temp, how='left', left_on='article_id', right_index=True)\n",
    "    df_log_temp = df_log_temp.merge(df_user_CV['is_cold'], how='left', left_on='customer_id', right_index=True)\n",
    "    df_log_temp = df_log_temp[df_log_temp['is_cold'] == 0]\n",
    "    df_log_temp = df_log_temp.sort_values('count', ascending=False)\n",
    "    df_recent_boughts = df_log_temp.groupby('customer_id').agg({'article_id': lambda x: list(x)[:12]})\n",
    "    df_recent_boughts.columns = ['recent_boughts']\n",
    "    APs = []\n",
    "    for uid, aiidset in uid2aiidset_CV.items():\n",
    "        predictions = []\n",
    "        try:\n",
    "            recent_bought_iids = df_recent_boughts.loc[uid, 'recent_boughts']\n",
    "        except KeyError:\n",
    "            recent_bought_iids = []\n",
    "        for iid in recent_bought_iids:\n",
    "            if iid in predictions:\n",
    "                continue\n",
    "            predictions.append(iid)\n",
    "        for iid in local_popular_iids:\n",
    "            if iid in predictions:\n",
    "                continue\n",
    "            predictions.append(iid)\n",
    "        AP = utils.calc_ap(aiidset, predictions[:12])\n",
    "        APs.append(AP)\n",
    "    mAP = np.array(APs).mean()\n",
    "    results.append((week_cut, mAP))"
   ]
  },
  {
   "cell_type": "code",
   "execution_count": 131,
   "metadata": {},
   "outputs": [
    {
     "data": {
      "text/plain": [
       "[<matplotlib.lines.Line2D at 0x7fef13d6ba60>]"
      ]
     },
     "execution_count": 131,
     "metadata": {},
     "output_type": "execute_result"
    },
    {
     "data": {
      "image/png": "[encoded data removed]",
      "text/plain": [
       "<Figure size 432x288 with 1 Axes>"
      ]
     },
     "metadata": {
      "needs_background": "light"
     },
     "output_type": "display_data"
    }
   ],
   "source": [
    "plt.plot(week_cuts, [mAP for _, mAP in results])"
   ]
  },
  {
   "cell_type": "code",
   "execution_count": 132,
   "metadata": {},
   "outputs": [],
   "source": [
    "week_cut, mAP = sorted(results, key=lambda x: x[1], reverse=True)[0]"
   ]
  },
  {
   "cell_type": "code",
   "execution_count": 133,
   "metadata": {},
   "outputs": [
    {
     "name": "stdout",
     "output_type": "stream",
     "text": [
      "RBG_WC3_CV: 1.7715%\n"
     ]
    }
   ],
   "source": [
    "print(f\"RBG_WC{week_cut}_CV: {100 * mAP:.04f}%\")"
   ]
  },
  {
   "cell_type": "code",
   "execution_count": 134,
   "metadata": {},
   "outputs": [],
   "source": [
    "del results\n",
    "del APs\n",
    "del df_recent_boughts\n",
    "del recent_bought_iids\n",
    "del local_popular_iids"
   ]
  },
  {
   "cell_type": "code",
   "execution_count": 135,
   "metadata": {},
   "outputs": [],
   "source": [
    "del df_iid_count_temp\n",
    "del df_log_temp"
   ]
  },
  {
   "cell_type": "markdown",
   "metadata": {},
   "source": [
    "버려"
   ]
  },
  {
   "cell_type": "markdown",
   "metadata": {},
   "source": [
    "---"
   ]
  },
  {
   "cell_type": "code",
   "execution_count": 136,
   "metadata": {},
   "outputs": [],
   "source": [
    "del df_user_CV\n",
    "del df_user_LB\n",
    "del df_item_CV\n",
    "del df_item_LB\n",
    "del df_log_CV\n",
    "del df_log_LB"
   ]
  }
 ],
 "metadata": {
  "kernelspec": {
   "display_name": "Python 3",
   "language": "python",
   "name": "python3"
  },
  "language_info": {
   "codemirror_mode": {
    "name": "ipython",
    "version": 3
   },
   "file_extension": ".py",
   "mimetype": "text/x-python",
   "name": "python",
   "nbconvert_exporter": "python",
   "pygments_lexer": "ipython3",
   "version": "3.8.5"
  }
 },
 "nbformat": 4,
 "nbformat_minor": 4
}
