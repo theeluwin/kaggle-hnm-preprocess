{
 "cells": [
  {
   "cell_type": "markdown",
   "metadata": {},
   "source": [
    "# 1. 데이터 로드"
   ]
  },
  {
   "cell_type": "markdown",
   "metadata": {},
   "source": [
    "### 주요 import 할것들 미리 해두기 (나머지는 그때그때)"
   ]
  },
  {
   "cell_type": "code",
   "execution_count": 1,
   "metadata": {},
   "outputs": [],
   "source": [
    "import os\n",
    "import pickle\n",
    "\n",
    "import numpy as np\n",
    "import pandas as pd\n",
    "import matplotlib.pyplot as plt\n",
    "\n",
    "from datetime import datetime as dt\n",
    "from datetime import timedelta as td"
   ]
  },
  {
   "cell_type": "code",
   "execution_count": 2,
   "metadata": {},
   "outputs": [],
   "source": [
    "import utils"
   ]
  },
  {
   "cell_type": "markdown",
   "metadata": {},
   "source": [
    "### 경로 등 global config 설정"
   ]
  },
  {
   "cell_type": "code",
   "execution_count": 3,
   "metadata": {},
   "outputs": [],
   "source": [
    "RAW_ROOT = 'raw'\n",
    "DATA_ROOT = 'data'"
   ]
  },
  {
   "cell_type": "markdown",
   "metadata": {},
   "source": [
    "### 각종 데이터 불러오기"
   ]
  },
  {
   "cell_type": "code",
   "execution_count": 4,
   "metadata": {},
   "outputs": [
    {
     "name": "stdout",
     "output_type": "stream",
     "text": [
      "CPU times: user 12.6 s, sys: 6.92 s, total: 19.5 s\n",
      "Wall time: 18.3 s\n"
     ]
    }
   ],
   "source": [
    "%%time\n",
    "df_user_raw, df_item_raw, df_log_raw, df_sub_raw = utils.load_raw(RAW_ROOT)"
   ]
  },
  {
   "cell_type": "code",
   "execution_count": 5,
   "metadata": {},
   "outputs": [
    {
     "name": "stdout",
     "output_type": "stream",
     "text": [
      "CPU times: user 11.4 s, sys: 5.3 s, total: 16.7 s\n",
      "Wall time: 15.3 s\n"
     ]
    }
   ],
   "source": [
    "%%time\n",
    "df_item = pd.read_parquet(f'{DATA_ROOT}/df_item_preprocessed.pq')\n",
    "df_log_all = pd.read_parquet(f'{DATA_ROOT}/df_log_preprocessed.pq')"
   ]
  },
  {
   "cell_type": "markdown",
   "metadata": {},
   "source": [
    "### 중요!!! CV, LB 설정\n",
    "\n",
    "즉, 두번 돌려야함"
   ]
  },
  {
   "cell_type": "code",
   "execution_count": 6,
   "metadata": {},
   "outputs": [],
   "source": [
    "DNAME = 'LB'"
   ]
  },
  {
   "cell_type": "code",
   "execution_count": 7,
   "metadata": {},
   "outputs": [
    {
     "name": "stdout",
     "output_type": "stream",
     "text": [
      "CPU times: user 8.3 s, sys: 7.43 s, total: 15.7 s\n",
      "Wall time: 15.3 s\n"
     ]
    }
   ],
   "source": [
    "%%time\n",
    "df_log = utils.get_df_log_of(df_log_all, DNAME)\n",
    "df_log = df_log[df_log['target'] != 'test']"
   ]
  },
  {
   "cell_type": "code",
   "execution_count": 8,
   "metadata": {},
   "outputs": [],
   "source": [
    "del df_log_all"
   ]
  },
  {
   "cell_type": "markdown",
   "metadata": {},
   "source": [
    "---"
   ]
  },
  {
   "cell_type": "markdown",
   "metadata": {},
   "source": [
    "# 2. Sales Channel 관련\n",
    "\n",
    "유저랑 똑같이 진행"
   ]
  },
  {
   "cell_type": "code",
   "execution_count": 9,
   "metadata": {},
   "outputs": [
    {
     "data": {
      "text/plain": [
       "2    10780517\n",
       "1     4240397\n",
       "Name: sales_channel_id, dtype: int64"
      ]
     },
     "execution_count": 9,
     "metadata": {},
     "output_type": "execute_result"
    }
   ],
   "source": [
    "df_channel_count = df_log['sales_channel_id'].value_counts()\n",
    "df_channel_count"
   ]
  },
  {
   "cell_type": "code",
   "execution_count": 10,
   "metadata": {},
   "outputs": [
    {
     "data": {
      "text/plain": [
       "0.7177004674948542"
      ]
     },
     "execution_count": 10,
     "metadata": {},
     "output_type": "execute_result"
    }
   ],
   "source": [
    "global_online_prob = df_channel_count.loc[2] / (df_channel_count.loc[2] + df_channel_count.loc[1])\n",
    "global_online_prob"
   ]
  },
  {
   "cell_type": "code",
   "execution_count": 11,
   "metadata": {},
   "outputs": [
    {
     "name": "stdout",
     "output_type": "stream",
     "text": [
      "CPU times: user 2.93 s, sys: 683 ms, total: 3.61 s\n",
      "Wall time: 3.53 s\n"
     ]
    }
   ],
   "source": [
    "%%time\n",
    "ss_sc_online_count = df_log[df_log['sales_channel_id'] == 2].groupby('article_id').size()\n",
    "ss_sc_offline_count = df_log[df_log['sales_channel_id'] == 1].groupby('article_id').size()"
   ]
  },
  {
   "cell_type": "code",
   "execution_count": 12,
   "metadata": {},
   "outputs": [],
   "source": [
    "df_item['online_prob'] = ss_sc_online_count / (ss_sc_online_count + ss_sc_offline_count)"
   ]
  },
  {
   "cell_type": "code",
   "execution_count": 13,
   "metadata": {},
   "outputs": [],
   "source": [
    "del ss_sc_online_count\n",
    "del ss_sc_offline_count"
   ]
  },
  {
   "cell_type": "code",
   "execution_count": 14,
   "metadata": {},
   "outputs": [
    {
     "data": {
      "text/plain": [
       "<AxesSubplot:ylabel='Frequency'>"
      ]
     },
     "execution_count": 14,
     "metadata": {},
     "output_type": "execute_result"
    },
    {
     "data": {
      "image/png": "[encoded data removed]",
      "text/plain": [
       "<Figure size 432x288 with 1 Axes>"
      ]
     },
     "metadata": {
      "needs_background": "light"
     },
     "output_type": "display_data"
    }
   ],
   "source": [
    "df_item[~df_item['online_prob'].isna()]['online_prob'].plot.hist(bins=20)"
   ]
  },
  {
   "cell_type": "code",
   "execution_count": 15,
   "metadata": {},
   "outputs": [],
   "source": [
    "df_item['online_prob'].fillna(global_online_prob, inplace=True)"
   ]
  },
  {
   "cell_type": "markdown",
   "metadata": {},
   "source": [
    "---"
   ]
  },
  {
   "cell_type": "markdown",
   "metadata": {},
   "source": [
    "# 3. Price 관련\n",
    "\n",
    "마찬가지로 분포부터 확인. 유저랑 너무 똑같나?"
   ]
  },
  {
   "cell_type": "code",
   "execution_count": 16,
   "metadata": {},
   "outputs": [
    {
     "name": "stdout",
     "output_type": "stream",
     "text": [
      "CPU times: user 1.48 s, sys: 437 ms, total: 1.92 s\n",
      "Wall time: 1.92 s\n"
     ]
    },
    {
     "data": {
      "text/plain": [
       "<AxesSubplot:ylabel='Frequency'>"
      ]
     },
     "execution_count": 16,
     "metadata": {},
     "output_type": "execute_result"
    },
    {
     "data": {
      "image/png": "[encoded data removed]",
      "text/plain": [
       "<Figure size 432x288 with 1 Axes>"
      ]
     },
     "metadata": {
      "needs_background": "light"
     },
     "output_type": "display_data"
    }
   ],
   "source": [
    "%%time\n",
    "df_log['price'].plot.hist(bins=20)"
   ]
  },
  {
   "cell_type": "code",
   "execution_count": 17,
   "metadata": {},
   "outputs": [
    {
     "name": "stdout",
     "output_type": "stream",
     "text": [
      "CPU times: user 1.55 s, sys: 181 ms, total: 1.73 s\n",
      "Wall time: 1.72 s\n"
     ]
    }
   ],
   "source": [
    "%%time\n",
    "df_item_of_avg_price = df_log.groupby('article_id')['price'].mean('price')\n",
    "df_item_of_avg_price.name = 'avg_price'"
   ]
  },
  {
   "cell_type": "code",
   "execution_count": 18,
   "metadata": {},
   "outputs": [
    {
     "data": {
      "text/plain": [
       "0.028251888996179735"
      ]
     },
     "execution_count": 18,
     "metadata": {},
     "output_type": "execute_result"
    }
   ],
   "source": [
    "global_avg_price = df_log['price'].mean()\n",
    "global_avg_price"
   ]
  },
  {
   "cell_type": "code",
   "execution_count": 19,
   "metadata": {},
   "outputs": [],
   "source": [
    "df_item = df_item.merge(df_item_of_avg_price, how='left', left_index=True, right_index=True)\n",
    "df_item['avg_price'].fillna(global_avg_price, inplace=True)"
   ]
  },
  {
   "cell_type": "code",
   "execution_count": 20,
   "metadata": {},
   "outputs": [
    {
     "data": {
      "text/plain": [
       "<AxesSubplot:ylabel='Frequency'>"
      ]
     },
     "execution_count": 20,
     "metadata": {},
     "output_type": "execute_result"
    },
    {
     "data": {
      "image/png": "[encoded data removed]",
      "text/plain": [
       "<Figure size 432x288 with 1 Axes>"
      ]
     },
     "metadata": {
      "needs_background": "light"
     },
     "output_type": "display_data"
    }
   ],
   "source": [
    "df_item['avg_price'].plot.hist(bins=20)"
   ]
  },
  {
   "cell_type": "code",
   "execution_count": 21,
   "metadata": {},
   "outputs": [
    {
     "data": {
      "text/plain": [
       "product_code                  0\n",
       "prod_name                     0\n",
       "product_type_no               0\n",
       "graphical_appearance_no       0\n",
       "colour_group_code             0\n",
       "perceived_colour_value_id     0\n",
       "perceived_colour_master_id    0\n",
       "department_no                 0\n",
       "index_code                    0\n",
       "index_group_no                0\n",
       "section_no                    0\n",
       "garment_group_no              0\n",
       "detail_desc                   0\n",
       "product_group_no              0\n",
       "ipath                         0\n",
       "online_prob                   0\n",
       "avg_price                     0\n",
       "dtype: int64"
      ]
     },
     "execution_count": 21,
     "metadata": {},
     "output_type": "execute_result"
    }
   ],
   "source": [
    "df_item.isna().sum()"
   ]
  },
  {
   "cell_type": "markdown",
   "metadata": {},
   "source": [
    "---"
   ]
  },
  {
   "cell_type": "markdown",
   "metadata": {},
   "source": [
    "# 4. Season 관련\n",
    "\n",
    "은근히 많은 일이 있었지만... 그냥 유저의 cohort, garment랑 똑같이 진행하는게 제일 나을듯 함.\n",
    "\n",
    "뭔가 로그도 찍어보고 그래프도 그려보고 했는데ㅋㅋㅋ.."
   ]
  },
  {
   "cell_type": "markdown",
   "metadata": {},
   "source": [
    "### 계절 맵핑"
   ]
  },
  {
   "cell_type": "code",
   "execution_count": 22,
   "metadata": {},
   "outputs": [],
   "source": [
    "month2season = {\n",
    "    1: 'winter',\n",
    "    2: 'winter',\n",
    "    3: 'spring',\n",
    "    4: 'spring',\n",
    "    5: 'spring',\n",
    "    6: 'summer',\n",
    "    7: 'summer',\n",
    "    8: 'summer',\n",
    "    9: 'fall',\n",
    "    10: 'fall',\n",
    "    11: 'fall',\n",
    "    12: 'winter',\n",
    "}"
   ]
  },
  {
   "cell_type": "code",
   "execution_count": 23,
   "metadata": {},
   "outputs": [
    {
     "name": "stdout",
     "output_type": "stream",
     "text": [
      "CPU times: user 724 ms, sys: 41.8 ms, total: 765 ms\n",
      "Wall time: 762 ms\n"
     ]
    }
   ],
   "source": [
    "%%time\n",
    "dts_to_season_map = {}\n",
    "for dts in df_log['t_dat'].unique():\n",
    "    month = int(dts.split('-')[1])\n",
    "    season = month2season[month]\n",
    "    dts_to_season_map[dts] = season"
   ]
  },
  {
   "cell_type": "code",
   "execution_count": 24,
   "metadata": {},
   "outputs": [
    {
     "name": "stdout",
     "output_type": "stream",
     "text": [
      "CPU times: user 819 ms, sys: 152 ms, total: 971 ms\n",
      "Wall time: 968 ms\n"
     ]
    }
   ],
   "source": [
    "%%time\n",
    "df_log['season'] = df_log['t_dat'].map(dts_to_season_map)"
   ]
  },
  {
   "cell_type": "code",
   "execution_count": 25,
   "metadata": {},
   "outputs": [
    {
     "data": {
      "text/plain": [
       "{'summer': 4353201, 'spring': 3750449, 'fall': 3720736, 'winter': 3196528}"
      ]
     },
     "execution_count": 25,
     "metadata": {},
     "output_type": "execute_result"
    }
   ],
   "source": [
    "season_to_count_map = df_log['season'].value_counts().sort_values(ascending=False).to_dict()\n",
    "season_to_count_map"
   ]
  },
  {
   "cell_type": "code",
   "execution_count": 26,
   "metadata": {},
   "outputs": [
    {
     "data": {
      "text/plain": [
       "<AxesSubplot:ylabel='season'>"
      ]
     },
     "execution_count": 26,
     "metadata": {},
     "output_type": "execute_result"
    },
    {
     "data": {
      "image/png": "[encoded data removed]",
      "text/plain": [
       "<Figure size 432x288 with 1 Axes>"
      ]
     },
     "metadata": {},
     "output_type": "display_data"
    }
   ],
   "source": [
    "df_season_count = df_log['season'].value_counts()\n",
    "df_season_count.plot(kind='pie', autopct='%1.1f%%')"
   ]
  },
  {
   "cell_type": "code",
   "execution_count": 27,
   "metadata": {},
   "outputs": [
    {
     "data": {
      "text/plain": [
       "summer    0.289809\n",
       "spring    0.249682\n",
       "fall      0.247704\n",
       "winter    0.212805\n",
       "Name: season, dtype: float64"
      ]
     },
     "execution_count": 27,
     "metadata": {},
     "output_type": "execute_result"
    }
   ],
   "source": [
    "df_season_dist = df_season_count.copy()\n",
    "df_season_dist = df_season_dist / df_season_dist.sum()\n",
    "df_season_dist"
   ]
  },
  {
   "cell_type": "code",
   "execution_count": 28,
   "metadata": {},
   "outputs": [
    {
     "name": "stdout",
     "output_type": "stream",
     "text": [
      "CPU times: user 5.71 s, sys: 1.5 s, total: 7.21 s\n",
      "Wall time: 7.2 s\n"
     ]
    }
   ],
   "source": [
    "%%time\n",
    "df_item_of_season_counts = df_log[['customer_id', 'article_id', 'season']].groupby(['article_id', 'season']).count().unstack()\n",
    "df_item_of_season_counts.fillna(0, inplace=True)\n",
    "df_item_of_season_counts.columns = [f'season_prob_{season}' for _, season in df_item_of_season_counts.columns.to_list()]"
   ]
  },
  {
   "cell_type": "code",
   "execution_count": 29,
   "metadata": {},
   "outputs": [],
   "source": [
    "df_item_of_season_dist = df_item_of_season_counts.div(df_item_of_season_counts.sum(1), axis='index')\n",
    "df_item = df_item.merge(df_item_of_season_dist, how='left', left_index=True, right_index=True)"
   ]
  },
  {
   "cell_type": "code",
   "execution_count": 30,
   "metadata": {},
   "outputs": [],
   "source": [
    "del df_item_of_season_counts\n",
    "del df_item_of_season_dist"
   ]
  },
  {
   "cell_type": "code",
   "execution_count": 31,
   "metadata": {},
   "outputs": [],
   "source": [
    "for index in df_season_dist.index.to_list():\n",
    "    df_item[f'season_prob_{index}'].fillna(df_season_dist.loc[index], inplace=True)"
   ]
  },
  {
   "cell_type": "code",
   "execution_count": 32,
   "metadata": {},
   "outputs": [
    {
     "data": {
      "text/plain": [
       "product_code                  0\n",
       "prod_name                     0\n",
       "product_type_no               0\n",
       "graphical_appearance_no       0\n",
       "colour_group_code             0\n",
       "perceived_colour_value_id     0\n",
       "perceived_colour_master_id    0\n",
       "department_no                 0\n",
       "index_code                    0\n",
       "index_group_no                0\n",
       "section_no                    0\n",
       "garment_group_no              0\n",
       "detail_desc                   0\n",
       "product_group_no              0\n",
       "ipath                         0\n",
       "online_prob                   0\n",
       "avg_price                     0\n",
       "season_prob_fall              0\n",
       "season_prob_spring            0\n",
       "season_prob_summer            0\n",
       "season_prob_winter            0\n",
       "dtype: int64"
      ]
     },
     "execution_count": 32,
     "metadata": {},
     "output_type": "execute_result"
    }
   ],
   "source": [
    "df_item.isna().sum()"
   ]
  },
  {
   "cell_type": "markdown",
   "metadata": {},
   "source": [
    "---"
   ]
  },
  {
   "cell_type": "markdown",
   "metadata": {},
   "source": [
    "# 5. Transaction Count 관련\n",
    "\n",
    "유저랑 똑같이 진행"
   ]
  },
  {
   "cell_type": "code",
   "execution_count": 33,
   "metadata": {},
   "outputs": [
    {
     "name": "stdout",
     "output_type": "stream",
     "text": [
      "CPU times: user 1.49 s, sys: 165 ms, total: 1.66 s\n",
      "Wall time: 1.65 s\n"
     ]
    }
   ],
   "source": [
    "%%time\n",
    "ss_transaction_count = df_log.groupby('article_id').size()\n",
    "ss_transaction_count.name = 'transaction_count'"
   ]
  },
  {
   "cell_type": "code",
   "execution_count": 34,
   "metadata": {},
   "outputs": [],
   "source": [
    "df_item = df_item.merge(ss_transaction_count, how='left', left_index=True, right_index=True)\n",
    "df_item['transaction_count'].fillna(0, inplace=True)"
   ]
  },
  {
   "cell_type": "code",
   "execution_count": 35,
   "metadata": {},
   "outputs": [],
   "source": [
    "del ss_transaction_count"
   ]
  },
  {
   "cell_type": "code",
   "execution_count": 36,
   "metadata": {},
   "outputs": [
    {
     "name": "stdout",
     "output_type": "stream",
     "text": [
      "CPU times: user 89.6 ms, sys: 799 µs, total: 90.4 ms\n",
      "Wall time: 89.9 ms\n"
     ]
    },
    {
     "data": {
      "text/plain": [
       "<AxesSubplot:ylabel='Frequency'>"
      ]
     },
     "execution_count": 36,
     "metadata": {},
     "output_type": "execute_result"
    },
    {
     "data": {
      "image/png": "[encoded data removed]",
      "text/plain": [
       "<Figure size 432x288 with 1 Axes>"
      ]
     },
     "metadata": {
      "needs_background": "light"
     },
     "output_type": "display_data"
    }
   ],
   "source": [
    "%%time\n",
    "df_item['transaction_count'].plot.hist(bins=100)"
   ]
  },
  {
   "cell_type": "code",
   "execution_count": 37,
   "metadata": {},
   "outputs": [
    {
     "name": "stdout",
     "output_type": "stream",
     "text": [
      "total item: 105542\n",
      "transaction count 50% percentile: 5\n",
      "transaction count 99% percentile: 2028\n"
     ]
    }
   ],
   "source": [
    "print(f\"total item: {len(df_item)}\")\n",
    "print(f\"transaction count 50% percentile: {int(np.percentile(df_item['transaction_count'], 50))}\")\n",
    "print(f\"transaction count 99% percentile: {int(np.percentile(df_item['transaction_count'], 99))}\")"
   ]
  },
  {
   "cell_type": "code",
   "execution_count": 38,
   "metadata": {},
   "outputs": [],
   "source": [
    "cold_threshold = int(np.percentile(df_item['transaction_count'], 50))\n",
    "df_item['is_cold'] = 0\n",
    "df_item.loc[df_item['transaction_count'] < cold_threshold, 'is_cold'] = 1"
   ]
  },
  {
   "cell_type": "code",
   "execution_count": 39,
   "metadata": {},
   "outputs": [],
   "source": [
    "df_item['is_new'] = 0\n",
    "df_item.loc[df_item['transaction_count'] < 1, 'is_new'] = 1"
   ]
  },
  {
   "cell_type": "code",
   "execution_count": 40,
   "metadata": {},
   "outputs": [],
   "source": [
    "df_item['log_transaction_count'] = np.log(1 + df_item['transaction_count'])"
   ]
  },
  {
   "cell_type": "code",
   "execution_count": 41,
   "metadata": {},
   "outputs": [
    {
     "data": {
      "text/plain": [
       "product_code                  0\n",
       "prod_name                     0\n",
       "product_type_no               0\n",
       "graphical_appearance_no       0\n",
       "colour_group_code             0\n",
       "perceived_colour_value_id     0\n",
       "perceived_colour_master_id    0\n",
       "department_no                 0\n",
       "index_code                    0\n",
       "index_group_no                0\n",
       "section_no                    0\n",
       "garment_group_no              0\n",
       "detail_desc                   0\n",
       "product_group_no              0\n",
       "ipath                         0\n",
       "online_prob                   0\n",
       "avg_price                     0\n",
       "season_prob_fall              0\n",
       "season_prob_spring            0\n",
       "season_prob_summer            0\n",
       "season_prob_winter            0\n",
       "transaction_count             0\n",
       "is_cold                       0\n",
       "is_new                        0\n",
       "log_transaction_count         0\n",
       "dtype: int64"
      ]
     },
     "execution_count": 41,
     "metadata": {},
     "output_type": "execute_result"
    }
   ],
   "source": [
    "df_item.isna().sum()"
   ]
  },
  {
   "cell_type": "markdown",
   "metadata": {},
   "source": [
    "---"
   ]
  },
  {
   "cell_type": "markdown",
   "metadata": {},
   "source": [
    "# 6. Aggregated 버전 저장\n",
    "\n",
    "최종 데이터 확인"
   ]
  },
  {
   "cell_type": "code",
   "execution_count": 42,
   "metadata": {},
   "outputs": [
    {
     "data": {
      "text/html": [
       "<div>\n",
       "<style scoped>\n",
       "    .dataframe tbody tr th:only-of-type {\n",
       "        vertical-align: middle;\n",
       "    }\n",
       "\n",
       "    .dataframe tbody tr th {\n",
       "        vertical-align: top;\n",
       "    }\n",
       "\n",
       "    .dataframe thead th {\n",
       "        text-align: right;\n",
       "    }\n",
       "</style>\n",
       "<table border=\"1\" class=\"dataframe\">\n",
       "  <thead>\n",
       "    <tr style=\"text-align: right;\">\n",
       "      <th></th>\n",
       "      <th>product_code</th>\n",
       "      <th>prod_name</th>\n",
       "      <th>product_type_no</th>\n",
       "      <th>graphical_appearance_no</th>\n",
       "      <th>colour_group_code</th>\n",
       "      <th>perceived_colour_value_id</th>\n",
       "      <th>perceived_colour_master_id</th>\n",
       "      <th>department_no</th>\n",
       "      <th>index_code</th>\n",
       "      <th>index_group_no</th>\n",
       "      <th>...</th>\n",
       "      <th>online_prob</th>\n",
       "      <th>avg_price</th>\n",
       "      <th>season_prob_fall</th>\n",
       "      <th>season_prob_spring</th>\n",
       "      <th>season_prob_summer</th>\n",
       "      <th>season_prob_winter</th>\n",
       "      <th>transaction_count</th>\n",
       "      <th>is_cold</th>\n",
       "      <th>is_new</th>\n",
       "      <th>log_transaction_count</th>\n",
       "    </tr>\n",
       "    <tr>\n",
       "      <th>article_id</th>\n",
       "      <th></th>\n",
       "      <th></th>\n",
       "      <th></th>\n",
       "      <th></th>\n",
       "      <th></th>\n",
       "      <th></th>\n",
       "      <th></th>\n",
       "      <th></th>\n",
       "      <th></th>\n",
       "      <th></th>\n",
       "      <th></th>\n",
       "      <th></th>\n",
       "      <th></th>\n",
       "      <th></th>\n",
       "      <th></th>\n",
       "      <th></th>\n",
       "      <th></th>\n",
       "      <th></th>\n",
       "      <th></th>\n",
       "      <th></th>\n",
       "      <th></th>\n",
       "    </tr>\n",
       "  </thead>\n",
       "  <tbody>\n",
       "    <tr>\n",
       "      <th>0108775015</th>\n",
       "      <td>108775</td>\n",
       "      <td>Strap top</td>\n",
       "      <td>253</td>\n",
       "      <td>1010016</td>\n",
       "      <td>9</td>\n",
       "      <td>4</td>\n",
       "      <td>5</td>\n",
       "      <td>1676</td>\n",
       "      <td>A</td>\n",
       "      <td>1</td>\n",
       "      <td>...</td>\n",
       "      <td>0.548077</td>\n",
       "      <td>0.007317</td>\n",
       "      <td>0.317308</td>\n",
       "      <td>0.163462</td>\n",
       "      <td>0.048077</td>\n",
       "      <td>0.471154</td>\n",
       "      <td>104.0</td>\n",
       "      <td>0</td>\n",
       "      <td>0</td>\n",
       "      <td>4.653960</td>\n",
       "    </tr>\n",
       "    <tr>\n",
       "      <th>0108775044</th>\n",
       "      <td>108775</td>\n",
       "      <td>Strap top</td>\n",
       "      <td>253</td>\n",
       "      <td>1010016</td>\n",
       "      <td>10</td>\n",
       "      <td>3</td>\n",
       "      <td>9</td>\n",
       "      <td>1676</td>\n",
       "      <td>A</td>\n",
       "      <td>1</td>\n",
       "      <td>...</td>\n",
       "      <td>0.891509</td>\n",
       "      <td>0.007771</td>\n",
       "      <td>0.141509</td>\n",
       "      <td>0.330189</td>\n",
       "      <td>0.337264</td>\n",
       "      <td>0.191038</td>\n",
       "      <td>424.0</td>\n",
       "      <td>0</td>\n",
       "      <td>0</td>\n",
       "      <td>6.052089</td>\n",
       "    </tr>\n",
       "    <tr>\n",
       "      <th>0108775051</th>\n",
       "      <td>108775</td>\n",
       "      <td>Strap top (1)</td>\n",
       "      <td>253</td>\n",
       "      <td>1010017</td>\n",
       "      <td>11</td>\n",
       "      <td>1</td>\n",
       "      <td>9</td>\n",
       "      <td>1676</td>\n",
       "      <td>A</td>\n",
       "      <td>1</td>\n",
       "      <td>...</td>\n",
       "      <td>0.717700</td>\n",
       "      <td>0.028252</td>\n",
       "      <td>0.247704</td>\n",
       "      <td>0.249682</td>\n",
       "      <td>0.289809</td>\n",
       "      <td>0.212805</td>\n",
       "      <td>0.0</td>\n",
       "      <td>1</td>\n",
       "      <td>1</td>\n",
       "      <td>0.000000</td>\n",
       "    </tr>\n",
       "    <tr>\n",
       "      <th>0110065001</th>\n",
       "      <td>110065</td>\n",
       "      <td>OP T-shirt (Idro)</td>\n",
       "      <td>306</td>\n",
       "      <td>1010016</td>\n",
       "      <td>9</td>\n",
       "      <td>4</td>\n",
       "      <td>5</td>\n",
       "      <td>1339</td>\n",
       "      <td>B</td>\n",
       "      <td>1</td>\n",
       "      <td>...</td>\n",
       "      <td>0.401274</td>\n",
       "      <td>0.011342</td>\n",
       "      <td>0.433121</td>\n",
       "      <td>0.025478</td>\n",
       "      <td>0.089172</td>\n",
       "      <td>0.452229</td>\n",
       "      <td>157.0</td>\n",
       "      <td>0</td>\n",
       "      <td>0</td>\n",
       "      <td>5.062595</td>\n",
       "    </tr>\n",
       "    <tr>\n",
       "      <th>0110065002</th>\n",
       "      <td>110065</td>\n",
       "      <td>OP T-shirt (Idro)</td>\n",
       "      <td>306</td>\n",
       "      <td>1010016</td>\n",
       "      <td>10</td>\n",
       "      <td>3</td>\n",
       "      <td>9</td>\n",
       "      <td>1339</td>\n",
       "      <td>B</td>\n",
       "      <td>1</td>\n",
       "      <td>...</td>\n",
       "      <td>0.123077</td>\n",
       "      <td>0.010076</td>\n",
       "      <td>0.184615</td>\n",
       "      <td>0.061538</td>\n",
       "      <td>0.123077</td>\n",
       "      <td>0.630769</td>\n",
       "      <td>65.0</td>\n",
       "      <td>0</td>\n",
       "      <td>0</td>\n",
       "      <td>4.189655</td>\n",
       "    </tr>\n",
       "    <tr>\n",
       "      <th>...</th>\n",
       "      <td>...</td>\n",
       "      <td>...</td>\n",
       "      <td>...</td>\n",
       "      <td>...</td>\n",
       "      <td>...</td>\n",
       "      <td>...</td>\n",
       "      <td>...</td>\n",
       "      <td>...</td>\n",
       "      <td>...</td>\n",
       "      <td>...</td>\n",
       "      <td>...</td>\n",
       "      <td>...</td>\n",
       "      <td>...</td>\n",
       "      <td>...</td>\n",
       "      <td>...</td>\n",
       "      <td>...</td>\n",
       "      <td>...</td>\n",
       "      <td>...</td>\n",
       "      <td>...</td>\n",
       "      <td>...</td>\n",
       "      <td>...</td>\n",
       "    </tr>\n",
       "    <tr>\n",
       "      <th>0953450001</th>\n",
       "      <td>953450</td>\n",
       "      <td>5pk regular Placement1</td>\n",
       "      <td>302</td>\n",
       "      <td>1010014</td>\n",
       "      <td>9</td>\n",
       "      <td>4</td>\n",
       "      <td>5</td>\n",
       "      <td>7188</td>\n",
       "      <td>F</td>\n",
       "      <td>3</td>\n",
       "      <td>...</td>\n",
       "      <td>0.717700</td>\n",
       "      <td>0.016836</td>\n",
       "      <td>1.000000</td>\n",
       "      <td>0.000000</td>\n",
       "      <td>0.000000</td>\n",
       "      <td>0.000000</td>\n",
       "      <td>17.0</td>\n",
       "      <td>0</td>\n",
       "      <td>0</td>\n",
       "      <td>2.890372</td>\n",
       "    </tr>\n",
       "    <tr>\n",
       "      <th>0953763001</th>\n",
       "      <td>953763</td>\n",
       "      <td>SPORT Malaga tank</td>\n",
       "      <td>253</td>\n",
       "      <td>1010016</td>\n",
       "      <td>9</td>\n",
       "      <td>4</td>\n",
       "      <td>5</td>\n",
       "      <td>1919</td>\n",
       "      <td>A</td>\n",
       "      <td>1</td>\n",
       "      <td>...</td>\n",
       "      <td>0.717700</td>\n",
       "      <td>0.021908</td>\n",
       "      <td>1.000000</td>\n",
       "      <td>0.000000</td>\n",
       "      <td>0.000000</td>\n",
       "      <td>0.000000</td>\n",
       "      <td>35.0</td>\n",
       "      <td>0</td>\n",
       "      <td>0</td>\n",
       "      <td>3.583519</td>\n",
       "    </tr>\n",
       "    <tr>\n",
       "      <th>0956217002</th>\n",
       "      <td>956217</td>\n",
       "      <td>Cartwheel dress</td>\n",
       "      <td>265</td>\n",
       "      <td>1010016</td>\n",
       "      <td>9</td>\n",
       "      <td>4</td>\n",
       "      <td>5</td>\n",
       "      <td>1641</td>\n",
       "      <td>A</td>\n",
       "      <td>1</td>\n",
       "      <td>...</td>\n",
       "      <td>0.717700</td>\n",
       "      <td>0.059152</td>\n",
       "      <td>1.000000</td>\n",
       "      <td>0.000000</td>\n",
       "      <td>0.000000</td>\n",
       "      <td>0.000000</td>\n",
       "      <td>21.0</td>\n",
       "      <td>0</td>\n",
       "      <td>0</td>\n",
       "      <td>3.091042</td>\n",
       "    </tr>\n",
       "    <tr>\n",
       "      <th>0957375001</th>\n",
       "      <td>957375</td>\n",
       "      <td>CLAIRE HAIR CLAW</td>\n",
       "      <td>72</td>\n",
       "      <td>1010016</td>\n",
       "      <td>9</td>\n",
       "      <td>4</td>\n",
       "      <td>5</td>\n",
       "      <td>3946</td>\n",
       "      <td>D</td>\n",
       "      <td>2</td>\n",
       "      <td>...</td>\n",
       "      <td>0.717700</td>\n",
       "      <td>0.028252</td>\n",
       "      <td>0.247704</td>\n",
       "      <td>0.249682</td>\n",
       "      <td>0.289809</td>\n",
       "      <td>0.212805</td>\n",
       "      <td>0.0</td>\n",
       "      <td>1</td>\n",
       "      <td>1</td>\n",
       "      <td>0.000000</td>\n",
       "    </tr>\n",
       "    <tr>\n",
       "      <th>0959461001</th>\n",
       "      <td>959461</td>\n",
       "      <td>Lounge dress</td>\n",
       "      <td>265</td>\n",
       "      <td>1010016</td>\n",
       "      <td>11</td>\n",
       "      <td>1</td>\n",
       "      <td>9</td>\n",
       "      <td>1641</td>\n",
       "      <td>A</td>\n",
       "      <td>1</td>\n",
       "      <td>...</td>\n",
       "      <td>0.717700</td>\n",
       "      <td>0.028252</td>\n",
       "      <td>0.247704</td>\n",
       "      <td>0.249682</td>\n",
       "      <td>0.289809</td>\n",
       "      <td>0.212805</td>\n",
       "      <td>0.0</td>\n",
       "      <td>1</td>\n",
       "      <td>1</td>\n",
       "      <td>0.000000</td>\n",
       "    </tr>\n",
       "  </tbody>\n",
       "</table>\n",
       "<p>105542 rows × 25 columns</p>\n",
       "</div>"
      ],
      "text/plain": [
       "            product_code               prod_name  product_type_no  \\\n",
       "article_id                                                          \n",
       "0108775015        108775               Strap top              253   \n",
       "0108775044        108775               Strap top              253   \n",
       "0108775051        108775           Strap top (1)              253   \n",
       "0110065001        110065       OP T-shirt (Idro)              306   \n",
       "0110065002        110065       OP T-shirt (Idro)              306   \n",
       "...                  ...                     ...              ...   \n",
       "0953450001        953450  5pk regular Placement1              302   \n",
       "0953763001        953763       SPORT Malaga tank              253   \n",
       "0956217002        956217         Cartwheel dress              265   \n",
       "0957375001        957375        CLAIRE HAIR CLAW               72   \n",
       "0959461001        959461            Lounge dress              265   \n",
       "\n",
       "            graphical_appearance_no  colour_group_code  \\\n",
       "article_id                                               \n",
       "0108775015                  1010016                  9   \n",
       "0108775044                  1010016                 10   \n",
       "0108775051                  1010017                 11   \n",
       "0110065001                  1010016                  9   \n",
       "0110065002                  1010016                 10   \n",
       "...                             ...                ...   \n",
       "0953450001                  1010014                  9   \n",
       "0953763001                  1010016                  9   \n",
       "0956217002                  1010016                  9   \n",
       "0957375001                  1010016                  9   \n",
       "0959461001                  1010016                 11   \n",
       "\n",
       "            perceived_colour_value_id  perceived_colour_master_id  \\\n",
       "article_id                                                          \n",
       "0108775015                          4                           5   \n",
       "0108775044                          3                           9   \n",
       "0108775051                          1                           9   \n",
       "0110065001                          4                           5   \n",
       "0110065002                          3                           9   \n",
       "...                               ...                         ...   \n",
       "0953450001                          4                           5   \n",
       "0953763001                          4                           5   \n",
       "0956217002                          4                           5   \n",
       "0957375001                          4                           5   \n",
       "0959461001                          1                           9   \n",
       "\n",
       "            department_no index_code  index_group_no  ...  online_prob  \\\n",
       "article_id                                            ...                \n",
       "0108775015           1676          A               1  ...     0.548077   \n",
       "0108775044           1676          A               1  ...     0.891509   \n",
       "0108775051           1676          A               1  ...     0.717700   \n",
       "0110065001           1339          B               1  ...     0.401274   \n",
       "0110065002           1339          B               1  ...     0.123077   \n",
       "...                   ...        ...             ...  ...          ...   \n",
       "0953450001           7188          F               3  ...     0.717700   \n",
       "0953763001           1919          A               1  ...     0.717700   \n",
       "0956217002           1641          A               1  ...     0.717700   \n",
       "0957375001           3946          D               2  ...     0.717700   \n",
       "0959461001           1641          A               1  ...     0.717700   \n",
       "\n",
       "            avg_price season_prob_fall  season_prob_spring season_prob_summer  \\\n",
       "article_id                                                                      \n",
       "0108775015   0.007317         0.317308            0.163462           0.048077   \n",
       "0108775044   0.007771         0.141509            0.330189           0.337264   \n",
       "0108775051   0.028252         0.247704            0.249682           0.289809   \n",
       "0110065001   0.011342         0.433121            0.025478           0.089172   \n",
       "0110065002   0.010076         0.184615            0.061538           0.123077   \n",
       "...               ...              ...                 ...                ...   \n",
       "0953450001   0.016836         1.000000            0.000000           0.000000   \n",
       "0953763001   0.021908         1.000000            0.000000           0.000000   \n",
       "0956217002   0.059152         1.000000            0.000000           0.000000   \n",
       "0957375001   0.028252         0.247704            0.249682           0.289809   \n",
       "0959461001   0.028252         0.247704            0.249682           0.289809   \n",
       "\n",
       "            season_prob_winter  transaction_count  is_cold  is_new  \\\n",
       "article_id                                                           \n",
       "0108775015            0.471154              104.0        0       0   \n",
       "0108775044            0.191038              424.0        0       0   \n",
       "0108775051            0.212805                0.0        1       1   \n",
       "0110065001            0.452229              157.0        0       0   \n",
       "0110065002            0.630769               65.0        0       0   \n",
       "...                        ...                ...      ...     ...   \n",
       "0953450001            0.000000               17.0        0       0   \n",
       "0953763001            0.000000               35.0        0       0   \n",
       "0956217002            0.000000               21.0        0       0   \n",
       "0957375001            0.212805                0.0        1       1   \n",
       "0959461001            0.212805                0.0        1       1   \n",
       "\n",
       "            log_transaction_count  \n",
       "article_id                         \n",
       "0108775015               4.653960  \n",
       "0108775044               6.052089  \n",
       "0108775051               0.000000  \n",
       "0110065001               5.062595  \n",
       "0110065002               4.189655  \n",
       "...                           ...  \n",
       "0953450001               2.890372  \n",
       "0953763001               3.583519  \n",
       "0956217002               3.091042  \n",
       "0957375001               0.000000  \n",
       "0959461001               0.000000  \n",
       "\n",
       "[105542 rows x 25 columns]"
      ]
     },
     "execution_count": 42,
     "metadata": {},
     "output_type": "execute_result"
    }
   ],
   "source": [
    "df_item"
   ]
  },
  {
   "cell_type": "code",
   "execution_count": 43,
   "metadata": {},
   "outputs": [
    {
     "name": "stdout",
     "output_type": "stream",
     "text": [
      "CPU times: user 164 ms, sys: 60 ms, total: 224 ms\n",
      "Wall time: 211 ms\n"
     ]
    }
   ],
   "source": [
    "%%time\n",
    "df_item.to_parquet(f'{DATA_ROOT}/df_item_aggregated_{DNAME}.pq')"
   ]
  },
  {
   "cell_type": "code",
   "execution_count": 44,
   "metadata": {},
   "outputs": [],
   "source": [
    "del df_item"
   ]
  },
  {
   "cell_type": "code",
   "execution_count": 45,
   "metadata": {},
   "outputs": [],
   "source": [
    "del df_log"
   ]
  },
  {
   "cell_type": "code",
   "execution_count": 46,
   "metadata": {},
   "outputs": [],
   "source": [
    "del df_user_raw\n",
    "del df_item_raw\n",
    "del df_log_raw\n",
    "del df_sub_raw"
   ]
  },
  {
   "cell_type": "markdown",
   "metadata": {},
   "source": [
    "---"
   ]
  },
  {
   "cell_type": "markdown",
   "metadata": {},
   "source": [
    "# 7. 아이템 Feature 만들기"
   ]
  },
  {
   "cell_type": "code",
   "execution_count": 47,
   "metadata": {},
   "outputs": [
    {
     "name": "stdout",
     "output_type": "stream",
     "text": [
      "CPU times: user 148 ms, sys: 188 ms, total: 335 ms\n",
      "Wall time: 294 ms\n"
     ]
    }
   ],
   "source": [
    "%%time\n",
    "df_item = pd.read_parquet(f'{DATA_ROOT}/df_item_aggregated_{DNAME}.pq')"
   ]
  },
  {
   "cell_type": "code",
   "execution_count": 48,
   "metadata": {},
   "outputs": [],
   "source": [
    "df_item_feature = df_item.copy()"
   ]
  },
  {
   "cell_type": "markdown",
   "metadata": {},
   "source": [
    "### 따로 빼둘것들 준비"
   ]
  },
  {
   "cell_type": "code",
   "execution_count": 49,
   "metadata": {},
   "outputs": [],
   "source": [
    "iid2pid = {}\n",
    "iid2title = {}\n",
    "iid2ipath = {}\n",
    "iid2desc = {}"
   ]
  },
  {
   "cell_type": "code",
   "execution_count": 50,
   "metadata": {},
   "outputs": [],
   "source": [
    "for row in df_item_feature[['product_code', 'prod_name', 'ipath', 'detail_desc']].itertuples():\n",
    "    iid, pid, title, ipath, desc = row\n",
    "    iid2pid[iid] = pid\n",
    "    iid2title[iid] = title\n",
    "    iid2ipath[iid] = ipath\n",
    "    iid2desc[iid] = desc"
   ]
  },
  {
   "cell_type": "code",
   "execution_count": 51,
   "metadata": {},
   "outputs": [],
   "source": [
    "with open(f'{DATA_ROOT}/iid2pid.pkl', 'wb') as fp:\n",
    "    pickle.dump(iid2pid, fp)\n",
    "with open(f'{DATA_ROOT}/iid2title.pkl', 'wb') as fp:\n",
    "    pickle.dump(iid2title, fp)\n",
    "with open(f'{DATA_ROOT}/iid2ipath.pkl', 'wb') as fp:\n",
    "    pickle.dump(iid2ipath, fp)\n",
    "with open(f'{DATA_ROOT}/iid2desc.pkl', 'wb') as fp:\n",
    "    pickle.dump(iid2desc, fp)"
   ]
  },
  {
   "cell_type": "code",
   "execution_count": 52,
   "metadata": {},
   "outputs": [],
   "source": [
    "del iid2pid\n",
    "del iid2title\n",
    "del iid2ipath\n",
    "del iid2desc"
   ]
  },
  {
   "cell_type": "markdown",
   "metadata": {},
   "source": [
    "### one-hot 등의 처리"
   ]
  },
  {
   "cell_type": "code",
   "execution_count": 53,
   "metadata": {},
   "outputs": [],
   "source": [
    "df_item_feature.drop(columns=[\n",
    "    'product_code',\n",
    "    'prod_name',\n",
    "    'ipath',\n",
    "    'detail_desc',\n",
    "    'transaction_count',\n",
    "], inplace=True)"
   ]
  },
  {
   "cell_type": "code",
   "execution_count": 54,
   "metadata": {},
   "outputs": [],
   "source": [
    "one_hot_fields = [\n",
    "    'product_type_no',\n",
    "    'graphical_appearance_no',\n",
    "    'colour_group_code',\n",
    "    'perceived_colour_value_id',\n",
    "    'perceived_colour_master_id',\n",
    "    'department_no',\n",
    "    'index_code',\n",
    "    'section_no',\n",
    "    'garment_group_no',\n",
    "    'product_group_no',\n",
    "]"
   ]
  },
  {
   "cell_type": "code",
   "execution_count": 55,
   "metadata": {},
   "outputs": [],
   "source": [
    "fields_with_unknown = [\n",
    "    'product_group_no',\n",
    "    'product_type_no',\n",
    "    'graphical_appearance_no',\n",
    "    'colour_group_code',\n",
    "    'perceived_colour_value_id',\n",
    "    'perceived_colour_master_id',\n",
    "    'garment_group_no',\n",
    "]"
   ]
  },
  {
   "cell_type": "code",
   "execution_count": 56,
   "metadata": {},
   "outputs": [
    {
     "name": "stdout",
     "output_type": "stream",
     "text": [
      "CPU times: user 2.09 s, sys: 2.1 s, total: 4.19 s\n",
      "Wall time: 4.17 s\n"
     ]
    }
   ],
   "source": [
    "%%time\n",
    "for field in one_hot_fields:\n",
    "    hotted = pd.get_dummies(df_item_feature[field], prefix=field)\n",
    "    if field in fields_with_unknown:\n",
    "        hotted = pd.get_dummies(df_item_feature[field], prefix=field)\n",
    "        unknown_field_name = f'{field}_-1'\n",
    "        unknowns_rows = (hotted[unknown_field_name] == 1)\n",
    "        hotted.loc[unknowns_rows, :] = 1 / (len(hotted.columns) - 1)\n",
    "        hotted.drop(columns=[unknown_field_name], inplace=True)\n",
    "    df_item_feature = df_item_feature.merge(hotted, how='left', left_index=True, right_index=True)\n",
    "    df_item_feature.drop(columns=[field], inplace=True)"
   ]
  },
  {
   "cell_type": "markdown",
   "metadata": {},
   "source": [
    "잘 처리 되었는지 확인 후 저장"
   ]
  },
  {
   "cell_type": "code",
   "execution_count": 57,
   "metadata": {},
   "outputs": [
    {
     "data": {
      "text/html": [
       "<div>\n",
       "<style scoped>\n",
       "    .dataframe tbody tr th:only-of-type {\n",
       "        vertical-align: middle;\n",
       "    }\n",
       "\n",
       "    .dataframe tbody tr th {\n",
       "        vertical-align: top;\n",
       "    }\n",
       "\n",
       "    .dataframe thead th {\n",
       "        text-align: right;\n",
       "    }\n",
       "</style>\n",
       "<table border=\"1\" class=\"dataframe\">\n",
       "  <thead>\n",
       "    <tr style=\"text-align: right;\">\n",
       "      <th></th>\n",
       "      <th>index_group_no</th>\n",
       "      <th>online_prob</th>\n",
       "      <th>avg_price</th>\n",
       "      <th>season_prob_fall</th>\n",
       "      <th>season_prob_spring</th>\n",
       "      <th>season_prob_summer</th>\n",
       "      <th>season_prob_winter</th>\n",
       "      <th>is_cold</th>\n",
       "      <th>is_new</th>\n",
       "      <th>log_transaction_count</th>\n",
       "      <th>...</th>\n",
       "      <th>product_group_no_9</th>\n",
       "      <th>product_group_no_10</th>\n",
       "      <th>product_group_no_11</th>\n",
       "      <th>product_group_no_12</th>\n",
       "      <th>product_group_no_13</th>\n",
       "      <th>product_group_no_14</th>\n",
       "      <th>product_group_no_15</th>\n",
       "      <th>product_group_no_16</th>\n",
       "      <th>product_group_no_17</th>\n",
       "      <th>product_group_no_18</th>\n",
       "    </tr>\n",
       "    <tr>\n",
       "      <th>article_id</th>\n",
       "      <th></th>\n",
       "      <th></th>\n",
       "      <th></th>\n",
       "      <th></th>\n",
       "      <th></th>\n",
       "      <th></th>\n",
       "      <th></th>\n",
       "      <th></th>\n",
       "      <th></th>\n",
       "      <th></th>\n",
       "      <th></th>\n",
       "      <th></th>\n",
       "      <th></th>\n",
       "      <th></th>\n",
       "      <th></th>\n",
       "      <th></th>\n",
       "      <th></th>\n",
       "      <th></th>\n",
       "      <th></th>\n",
       "      <th></th>\n",
       "      <th></th>\n",
       "    </tr>\n",
       "  </thead>\n",
       "  <tbody>\n",
       "    <tr>\n",
       "      <th>0108775015</th>\n",
       "      <td>1</td>\n",
       "      <td>0.548077</td>\n",
       "      <td>0.007317</td>\n",
       "      <td>0.317308</td>\n",
       "      <td>0.163462</td>\n",
       "      <td>0.048077</td>\n",
       "      <td>0.471154</td>\n",
       "      <td>0</td>\n",
       "      <td>0</td>\n",
       "      <td>4.653960</td>\n",
       "      <td>...</td>\n",
       "      <td>0.0</td>\n",
       "      <td>0.0</td>\n",
       "      <td>0.0</td>\n",
       "      <td>0.0</td>\n",
       "      <td>0.0</td>\n",
       "      <td>0.0</td>\n",
       "      <td>0.0</td>\n",
       "      <td>0.0</td>\n",
       "      <td>0.0</td>\n",
       "      <td>0.0</td>\n",
       "    </tr>\n",
       "    <tr>\n",
       "      <th>0108775044</th>\n",
       "      <td>1</td>\n",
       "      <td>0.891509</td>\n",
       "      <td>0.007771</td>\n",
       "      <td>0.141509</td>\n",
       "      <td>0.330189</td>\n",
       "      <td>0.337264</td>\n",
       "      <td>0.191038</td>\n",
       "      <td>0</td>\n",
       "      <td>0</td>\n",
       "      <td>6.052089</td>\n",
       "      <td>...</td>\n",
       "      <td>0.0</td>\n",
       "      <td>0.0</td>\n",
       "      <td>0.0</td>\n",
       "      <td>0.0</td>\n",
       "      <td>0.0</td>\n",
       "      <td>0.0</td>\n",
       "      <td>0.0</td>\n",
       "      <td>0.0</td>\n",
       "      <td>0.0</td>\n",
       "      <td>0.0</td>\n",
       "    </tr>\n",
       "    <tr>\n",
       "      <th>0108775051</th>\n",
       "      <td>1</td>\n",
       "      <td>0.717700</td>\n",
       "      <td>0.028252</td>\n",
       "      <td>0.247704</td>\n",
       "      <td>0.249682</td>\n",
       "      <td>0.289809</td>\n",
       "      <td>0.212805</td>\n",
       "      <td>1</td>\n",
       "      <td>1</td>\n",
       "      <td>0.000000</td>\n",
       "      <td>...</td>\n",
       "      <td>0.0</td>\n",
       "      <td>0.0</td>\n",
       "      <td>0.0</td>\n",
       "      <td>0.0</td>\n",
       "      <td>0.0</td>\n",
       "      <td>0.0</td>\n",
       "      <td>0.0</td>\n",
       "      <td>0.0</td>\n",
       "      <td>0.0</td>\n",
       "      <td>0.0</td>\n",
       "    </tr>\n",
       "    <tr>\n",
       "      <th>0110065001</th>\n",
       "      <td>1</td>\n",
       "      <td>0.401274</td>\n",
       "      <td>0.011342</td>\n",
       "      <td>0.433121</td>\n",
       "      <td>0.025478</td>\n",
       "      <td>0.089172</td>\n",
       "      <td>0.452229</td>\n",
       "      <td>0</td>\n",
       "      <td>0</td>\n",
       "      <td>5.062595</td>\n",
       "      <td>...</td>\n",
       "      <td>0.0</td>\n",
       "      <td>0.0</td>\n",
       "      <td>0.0</td>\n",
       "      <td>0.0</td>\n",
       "      <td>0.0</td>\n",
       "      <td>0.0</td>\n",
       "      <td>0.0</td>\n",
       "      <td>0.0</td>\n",
       "      <td>0.0</td>\n",
       "      <td>0.0</td>\n",
       "    </tr>\n",
       "    <tr>\n",
       "      <th>0110065002</th>\n",
       "      <td>1</td>\n",
       "      <td>0.123077</td>\n",
       "      <td>0.010076</td>\n",
       "      <td>0.184615</td>\n",
       "      <td>0.061538</td>\n",
       "      <td>0.123077</td>\n",
       "      <td>0.630769</td>\n",
       "      <td>0</td>\n",
       "      <td>0</td>\n",
       "      <td>4.189655</td>\n",
       "      <td>...</td>\n",
       "      <td>0.0</td>\n",
       "      <td>0.0</td>\n",
       "      <td>0.0</td>\n",
       "      <td>0.0</td>\n",
       "      <td>0.0</td>\n",
       "      <td>0.0</td>\n",
       "      <td>0.0</td>\n",
       "      <td>0.0</td>\n",
       "      <td>0.0</td>\n",
       "      <td>0.0</td>\n",
       "    </tr>\n",
       "    <tr>\n",
       "      <th>...</th>\n",
       "      <td>...</td>\n",
       "      <td>...</td>\n",
       "      <td>...</td>\n",
       "      <td>...</td>\n",
       "      <td>...</td>\n",
       "      <td>...</td>\n",
       "      <td>...</td>\n",
       "      <td>...</td>\n",
       "      <td>...</td>\n",
       "      <td>...</td>\n",
       "      <td>...</td>\n",
       "      <td>...</td>\n",
       "      <td>...</td>\n",
       "      <td>...</td>\n",
       "      <td>...</td>\n",
       "      <td>...</td>\n",
       "      <td>...</td>\n",
       "      <td>...</td>\n",
       "      <td>...</td>\n",
       "      <td>...</td>\n",
       "      <td>...</td>\n",
       "    </tr>\n",
       "    <tr>\n",
       "      <th>0953450001</th>\n",
       "      <td>3</td>\n",
       "      <td>0.717700</td>\n",
       "      <td>0.016836</td>\n",
       "      <td>1.000000</td>\n",
       "      <td>0.000000</td>\n",
       "      <td>0.000000</td>\n",
       "      <td>0.000000</td>\n",
       "      <td>0</td>\n",
       "      <td>0</td>\n",
       "      <td>2.890372</td>\n",
       "      <td>...</td>\n",
       "      <td>0.0</td>\n",
       "      <td>0.0</td>\n",
       "      <td>0.0</td>\n",
       "      <td>0.0</td>\n",
       "      <td>0.0</td>\n",
       "      <td>0.0</td>\n",
       "      <td>0.0</td>\n",
       "      <td>0.0</td>\n",
       "      <td>0.0</td>\n",
       "      <td>0.0</td>\n",
       "    </tr>\n",
       "    <tr>\n",
       "      <th>0953763001</th>\n",
       "      <td>1</td>\n",
       "      <td>0.717700</td>\n",
       "      <td>0.021908</td>\n",
       "      <td>1.000000</td>\n",
       "      <td>0.000000</td>\n",
       "      <td>0.000000</td>\n",
       "      <td>0.000000</td>\n",
       "      <td>0</td>\n",
       "      <td>0</td>\n",
       "      <td>3.583519</td>\n",
       "      <td>...</td>\n",
       "      <td>0.0</td>\n",
       "      <td>0.0</td>\n",
       "      <td>0.0</td>\n",
       "      <td>0.0</td>\n",
       "      <td>0.0</td>\n",
       "      <td>0.0</td>\n",
       "      <td>0.0</td>\n",
       "      <td>0.0</td>\n",
       "      <td>0.0</td>\n",
       "      <td>0.0</td>\n",
       "    </tr>\n",
       "    <tr>\n",
       "      <th>0956217002</th>\n",
       "      <td>1</td>\n",
       "      <td>0.717700</td>\n",
       "      <td>0.059152</td>\n",
       "      <td>1.000000</td>\n",
       "      <td>0.000000</td>\n",
       "      <td>0.000000</td>\n",
       "      <td>0.000000</td>\n",
       "      <td>0</td>\n",
       "      <td>0</td>\n",
       "      <td>3.091042</td>\n",
       "      <td>...</td>\n",
       "      <td>0.0</td>\n",
       "      <td>0.0</td>\n",
       "      <td>1.0</td>\n",
       "      <td>0.0</td>\n",
       "      <td>0.0</td>\n",
       "      <td>0.0</td>\n",
       "      <td>0.0</td>\n",
       "      <td>0.0</td>\n",
       "      <td>0.0</td>\n",
       "      <td>0.0</td>\n",
       "    </tr>\n",
       "    <tr>\n",
       "      <th>0957375001</th>\n",
       "      <td>2</td>\n",
       "      <td>0.717700</td>\n",
       "      <td>0.028252</td>\n",
       "      <td>0.247704</td>\n",
       "      <td>0.249682</td>\n",
       "      <td>0.289809</td>\n",
       "      <td>0.212805</td>\n",
       "      <td>1</td>\n",
       "      <td>1</td>\n",
       "      <td>0.000000</td>\n",
       "      <td>...</td>\n",
       "      <td>0.0</td>\n",
       "      <td>0.0</td>\n",
       "      <td>0.0</td>\n",
       "      <td>0.0</td>\n",
       "      <td>0.0</td>\n",
       "      <td>0.0</td>\n",
       "      <td>0.0</td>\n",
       "      <td>0.0</td>\n",
       "      <td>0.0</td>\n",
       "      <td>0.0</td>\n",
       "    </tr>\n",
       "    <tr>\n",
       "      <th>0959461001</th>\n",
       "      <td>1</td>\n",
       "      <td>0.717700</td>\n",
       "      <td>0.028252</td>\n",
       "      <td>0.247704</td>\n",
       "      <td>0.249682</td>\n",
       "      <td>0.289809</td>\n",
       "      <td>0.212805</td>\n",
       "      <td>1</td>\n",
       "      <td>1</td>\n",
       "      <td>0.000000</td>\n",
       "      <td>...</td>\n",
       "      <td>0.0</td>\n",
       "      <td>0.0</td>\n",
       "      <td>1.0</td>\n",
       "      <td>0.0</td>\n",
       "      <td>0.0</td>\n",
       "      <td>0.0</td>\n",
       "      <td>0.0</td>\n",
       "      <td>0.0</td>\n",
       "      <td>0.0</td>\n",
       "      <td>0.0</td>\n",
       "    </tr>\n",
       "  </tbody>\n",
       "</table>\n",
       "<p>105542 rows × 649 columns</p>\n",
       "</div>"
      ],
      "text/plain": [
       "            index_group_no  online_prob  avg_price  season_prob_fall  \\\n",
       "article_id                                                             \n",
       "0108775015               1     0.548077   0.007317          0.317308   \n",
       "0108775044               1     0.891509   0.007771          0.141509   \n",
       "0108775051               1     0.717700   0.028252          0.247704   \n",
       "0110065001               1     0.401274   0.011342          0.433121   \n",
       "0110065002               1     0.123077   0.010076          0.184615   \n",
       "...                    ...          ...        ...               ...   \n",
       "0953450001               3     0.717700   0.016836          1.000000   \n",
       "0953763001               1     0.717700   0.021908          1.000000   \n",
       "0956217002               1     0.717700   0.059152          1.000000   \n",
       "0957375001               2     0.717700   0.028252          0.247704   \n",
       "0959461001               1     0.717700   0.028252          0.247704   \n",
       "\n",
       "            season_prob_spring  season_prob_summer  season_prob_winter  \\\n",
       "article_id                                                               \n",
       "0108775015            0.163462            0.048077            0.471154   \n",
       "0108775044            0.330189            0.337264            0.191038   \n",
       "0108775051            0.249682            0.289809            0.212805   \n",
       "0110065001            0.025478            0.089172            0.452229   \n",
       "0110065002            0.061538            0.123077            0.630769   \n",
       "...                        ...                 ...                 ...   \n",
       "0953450001            0.000000            0.000000            0.000000   \n",
       "0953763001            0.000000            0.000000            0.000000   \n",
       "0956217002            0.000000            0.000000            0.000000   \n",
       "0957375001            0.249682            0.289809            0.212805   \n",
       "0959461001            0.249682            0.289809            0.212805   \n",
       "\n",
       "            is_cold  is_new  log_transaction_count  ...  product_group_no_9  \\\n",
       "article_id                                          ...                       \n",
       "0108775015        0       0               4.653960  ...                 0.0   \n",
       "0108775044        0       0               6.052089  ...                 0.0   \n",
       "0108775051        1       1               0.000000  ...                 0.0   \n",
       "0110065001        0       0               5.062595  ...                 0.0   \n",
       "0110065002        0       0               4.189655  ...                 0.0   \n",
       "...             ...     ...                    ...  ...                 ...   \n",
       "0953450001        0       0               2.890372  ...                 0.0   \n",
       "0953763001        0       0               3.583519  ...                 0.0   \n",
       "0956217002        0       0               3.091042  ...                 0.0   \n",
       "0957375001        1       1               0.000000  ...                 0.0   \n",
       "0959461001        1       1               0.000000  ...                 0.0   \n",
       "\n",
       "            product_group_no_10  product_group_no_11  product_group_no_12  \\\n",
       "article_id                                                                  \n",
       "0108775015                  0.0                  0.0                  0.0   \n",
       "0108775044                  0.0                  0.0                  0.0   \n",
       "0108775051                  0.0                  0.0                  0.0   \n",
       "0110065001                  0.0                  0.0                  0.0   \n",
       "0110065002                  0.0                  0.0                  0.0   \n",
       "...                         ...                  ...                  ...   \n",
       "0953450001                  0.0                  0.0                  0.0   \n",
       "0953763001                  0.0                  0.0                  0.0   \n",
       "0956217002                  0.0                  1.0                  0.0   \n",
       "0957375001                  0.0                  0.0                  0.0   \n",
       "0959461001                  0.0                  1.0                  0.0   \n",
       "\n",
       "            product_group_no_13  product_group_no_14  product_group_no_15  \\\n",
       "article_id                                                                  \n",
       "0108775015                  0.0                  0.0                  0.0   \n",
       "0108775044                  0.0                  0.0                  0.0   \n",
       "0108775051                  0.0                  0.0                  0.0   \n",
       "0110065001                  0.0                  0.0                  0.0   \n",
       "0110065002                  0.0                  0.0                  0.0   \n",
       "...                         ...                  ...                  ...   \n",
       "0953450001                  0.0                  0.0                  0.0   \n",
       "0953763001                  0.0                  0.0                  0.0   \n",
       "0956217002                  0.0                  0.0                  0.0   \n",
       "0957375001                  0.0                  0.0                  0.0   \n",
       "0959461001                  0.0                  0.0                  0.0   \n",
       "\n",
       "            product_group_no_16  product_group_no_17  product_group_no_18  \n",
       "article_id                                                                 \n",
       "0108775015                  0.0                  0.0                  0.0  \n",
       "0108775044                  0.0                  0.0                  0.0  \n",
       "0108775051                  0.0                  0.0                  0.0  \n",
       "0110065001                  0.0                  0.0                  0.0  \n",
       "0110065002                  0.0                  0.0                  0.0  \n",
       "...                         ...                  ...                  ...  \n",
       "0953450001                  0.0                  0.0                  0.0  \n",
       "0953763001                  0.0                  0.0                  0.0  \n",
       "0956217002                  0.0                  0.0                  0.0  \n",
       "0957375001                  0.0                  0.0                  0.0  \n",
       "0959461001                  0.0                  0.0                  0.0  \n",
       "\n",
       "[105542 rows x 649 columns]"
      ]
     },
     "execution_count": 57,
     "metadata": {},
     "output_type": "execute_result"
    }
   ],
   "source": [
    "df_item_feature"
   ]
  },
  {
   "cell_type": "markdown",
   "metadata": {},
   "source": [
    "정리해서 저장"
   ]
  },
  {
   "cell_type": "code",
   "execution_count": 58,
   "metadata": {},
   "outputs": [
    {
     "name": "stdout",
     "output_type": "stream",
     "text": [
      "CPU times: user 1.28 s, sys: 70.5 ms, total: 1.35 s\n",
      "Wall time: 1.01 s\n"
     ]
    }
   ],
   "source": [
    "%%time\n",
    "df_item_feature.to_parquet(f'{DATA_ROOT}/df_item_feature_{DNAME}.pq')"
   ]
  },
  {
   "cell_type": "code",
   "execution_count": 59,
   "metadata": {},
   "outputs": [],
   "source": [
    "iid2feature = {}\n",
    "for row in df_item_feature.reset_index().values:\n",
    "    iid = row[0]\n",
    "    feature = tuple(row[1:])\n",
    "    iid2feature[iid] = feature"
   ]
  },
  {
   "cell_type": "code",
   "execution_count": 60,
   "metadata": {},
   "outputs": [],
   "source": [
    "del df_item_feature"
   ]
  },
  {
   "cell_type": "code",
   "execution_count": 61,
   "metadata": {},
   "outputs": [],
   "source": [
    "with open(f'{DATA_ROOT}/iid2feature_{DNAME}.pkl', 'wb') as fp:\n",
    "    pickle.dump(iid2feature, fp)"
   ]
  },
  {
   "cell_type": "code",
   "execution_count": 62,
   "metadata": {},
   "outputs": [],
   "source": [
    "del iid2feature"
   ]
  },
  {
   "cell_type": "markdown",
   "metadata": {},
   "source": [
    "user와 마찬가지로 agg 없는 버전 만들건데.. 약간 코드 비루해도 그러려니 하셈\n",
    "\n",
    "마찬가지로 online, price는 transaction에서 inference때 쓸 수 없고 너무 중요해서 걍 그대로 사용..."
   ]
  },
  {
   "cell_type": "code",
   "execution_count": 63,
   "metadata": {},
   "outputs": [],
   "source": [
    "df_item_feature_noagg = df_item.copy()"
   ]
  },
  {
   "cell_type": "code",
   "execution_count": 64,
   "metadata": {},
   "outputs": [],
   "source": [
    "df_item_feature_noagg.drop(columns=[\n",
    "    'product_code',\n",
    "    'prod_name',\n",
    "    'ipath',\n",
    "    'detail_desc',\n",
    "    'transaction_count',\n",
    "    'season_prob_fall',\n",
    "    'season_prob_spring',\n",
    "    'season_prob_summer',\n",
    "    'season_prob_winter',\n",
    "    'is_cold',\n",
    "    'is_new',\n",
    "    'log_transaction_count'\n",
    "], inplace=True)"
   ]
  },
  {
   "cell_type": "code",
   "execution_count": 65,
   "metadata": {},
   "outputs": [],
   "source": [
    "one_hot_fields = [\n",
    "    'product_type_no',\n",
    "    'graphical_appearance_no',\n",
    "    'colour_group_code',\n",
    "    'perceived_colour_value_id',\n",
    "    'perceived_colour_master_id',\n",
    "    'department_no',\n",
    "    'index_code',\n",
    "    'section_no',\n",
    "    'garment_group_no',\n",
    "    'product_group_no',\n",
    "]"
   ]
  },
  {
   "cell_type": "code",
   "execution_count": 66,
   "metadata": {},
   "outputs": [],
   "source": [
    "fields_with_unknown = [\n",
    "    'product_group_no',\n",
    "    'product_type_no',\n",
    "    'graphical_appearance_no',\n",
    "    'colour_group_code',\n",
    "    'perceived_colour_value_id',\n",
    "    'perceived_colour_master_id',\n",
    "    'garment_group_no',\n",
    "]"
   ]
  },
  {
   "cell_type": "code",
   "execution_count": 67,
   "metadata": {},
   "outputs": [
    {
     "name": "stdout",
     "output_type": "stream",
     "text": [
      "CPU times: user 2.03 s, sys: 620 ms, total: 2.65 s\n",
      "Wall time: 2.65 s\n"
     ]
    }
   ],
   "source": [
    "%%time\n",
    "for field in one_hot_fields:\n",
    "    hotted = pd.get_dummies(df_item_feature_noagg[field], prefix=field)\n",
    "    if field in fields_with_unknown:\n",
    "        hotted = pd.get_dummies(df_item_feature_noagg[field], prefix=field)\n",
    "        unknown_field_name = f'{field}_-1'\n",
    "        unknowns_rows = (hotted[unknown_field_name] == 1)\n",
    "        hotted.loc[unknowns_rows, :] = 1 / (len(hotted.columns) - 1)\n",
    "        hotted.drop(columns=[unknown_field_name], inplace=True)\n",
    "    df_item_feature_noagg = df_item_feature_noagg.merge(hotted, how='left', left_index=True, right_index=True)\n",
    "    df_item_feature_noagg.drop(columns=[field], inplace=True)"
   ]
  },
  {
   "cell_type": "code",
   "execution_count": 68,
   "metadata": {},
   "outputs": [],
   "source": [
    "iid2feature_noagg = {}\n",
    "for row in df_item_feature_noagg.reset_index().values:\n",
    "    iid = row[0]\n",
    "    feature = tuple(row[1:])\n",
    "    iid2feature_noagg[iid] = feature"
   ]
  },
  {
   "cell_type": "code",
   "execution_count": 69,
   "metadata": {},
   "outputs": [],
   "source": [
    "del df_item_feature_noagg"
   ]
  },
  {
   "cell_type": "code",
   "execution_count": 70,
   "metadata": {},
   "outputs": [],
   "source": [
    "with open(f'{DATA_ROOT}/iid2feature_noagg_{DNAME}.pkl', 'wb') as fp:\n",
    "    pickle.dump(iid2feature_noagg, fp)"
   ]
  },
  {
   "cell_type": "code",
   "execution_count": 71,
   "metadata": {},
   "outputs": [],
   "source": [
    "del iid2feature_noagg"
   ]
  },
  {
   "cell_type": "code",
   "execution_count": 72,
   "metadata": {},
   "outputs": [],
   "source": [
    "del df_item"
   ]
  }
 ],
 "metadata": {
  "kernelspec": {
   "display_name": "Python 3",
   "language": "python",
   "name": "python3"
  },
  "language_info": {
   "codemirror_mode": {
    "name": "ipython",
    "version": 3
   },
   "file_extension": ".py",
   "mimetype": "text/x-python",
   "name": "python",
   "nbconvert_exporter": "python",
   "pygments_lexer": "ipython3",
   "version": "3.8.5"
  }
 },
 "nbformat": 4,
 "nbformat_minor": 4
}
